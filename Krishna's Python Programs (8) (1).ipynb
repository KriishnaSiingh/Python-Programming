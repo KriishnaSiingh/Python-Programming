{
 "cells": [
  {
   "cell_type": "code",
   "execution_count": null,
   "id": "f9c182a0-67ff-4d80-b1a7-6338bbc4edb9",
   "metadata": {},
   "outputs": [],
   "source": [
    "#NOTES\n",
    "#input() function will take inputs as strings\n",
    "#Assignment Operator has the associativity from right to left\n",
    "#print(x,y) will print multiple values but print(\"message\",x,y) will not print multiple values, \n",
    "#-correct way with \"message\" is print(\"message\",x) and print(\"message\",y)\n",
    "#in the .format() method of printing the value of the varible, \n",
    "#-in order to print the floating value answer upto desired decimal places, \n",
    "#-we need to write f:.2f in the corresponding {} section.\n",
    "#in print(object(s),sep=' ',end='\\n',flush,file)\n",
    "#-flush is meant as buffering and unbuffering,when a program runs,it keeps the values of the variables \n",
    "#-and saves it in a Buffer Memory created and when the application is closed it flushes the value which is stored in the Buffer Memory,\n",
    "#-it's value by default is false\n",
    "#-file is meant as an operator which displays the output on the terminal screeen  \n",
    "#variable and identifier ae not same, variable is an example(subset) of an identifier\n",
    "#syntax for an identifier in Python\n",
    "#-1 -> alphabet,digit and _\n",
    "#-2 -> digit can not be at the first place\n",
    "#-3 -> length = no limit (in C it's 32)(in JAVA also it's no limit)\n",
    "#-4 -> no keywords can we used as the name of the identifiers\n",
    "#-5 -> consecutive underscores are allowed in the starting in the indentifier name in the python\n",
    "#-6 -> abc = public variables\n",
    "#-     _abc = protected variables\n",
    "#-     __abc = private variables\n",
    "#-     __abc__ = magic variables\n",
    "#-it is used in Inheritance concept of OOPS in \"Classsified\" Python Programs\n",
    "#All the keywords in Python are defined in lower case except True,False and Null\n",
    "#Sequence Datatype - list,tuple,range\n",
    "#Mapping Datatype - dict\n",
    "#Set Datatype - set,frozenset\n",
    "#None Datatye - None Type\n",
    "#In Python we can give values in any number system but it will only print in integer form\n",
    "#in Python float datatype can be represented only in decimal number system\n",
    "#unlike other languages which don't have any stuff for complex numbers, in Python we have it in terms of j, a+bj\n",
    "#in C language we put comment as /*...............*/\n",
    "#comment is an non executable statement which is not recognized by the interpreter during runtime\n",
    "#in Pyhton there is no multi line comment, although, if a string is written without being assigned into a varibale, \n",
    "#-just written there lonely, interpreter will ignore it and will we known as Pseudo Comment\n",
    "#Doc String is a String to mark and define any Block, made by '''....................'''.\n",
    "#-It is an Executable Statement. It is executed with the help of __doc__\n",
    "#- e.g. def funct():\n",
    "#-        '''adding two numbers'''\n",
    "#-        a,b=20,30\n",
    "#-        s=a+b\n",
    "#-        print(s)\n",
    "#[] is called subscript in the declaration of an array,it's number will determine the dimension of the array      \n",
    "#in an array or a string, in Python there are two types of indexing, one is positive and other is negative, postive is as 0 to n-1\n",
    "#- and negative is as -1 to -n\n",
    "#Type casting is explicit,Type Conversion is implicit\n",
    "#relational operator can compare only one condition and logical can compare more than one conditions\n",
    "#arithmatic operator and assignment operator add up to form compound assignment operator.Associativity from left to right.\n",
    "#logical operators in Python = 'and','or','not'\n",
    "#5 Bitwise Operators in total in Python.\n",
    "#always write binary equivalent of a nmuber upto 8 bits. e.g. 01010101\n",
    "#identity operator are of two types = is , is not ; (to check adress of the variables)\n",
    "#to check values we use 'equals'\n",
    "#pre-defined datatypes are immutable in Python\n",
    "#ASCII Values -128 to 0 for negative signed; 0 to 127 for positive and 0 to 255 for unsigned \n",
    "#char(97)=a (converts into corresponding ASCII char of that ASCII value ;\n",
    "#-ord(a)=97 (converts into corresponding ASCII value of that ASCII character)\n",
    "#if precedence is same, we use associativity\n",
    "#associativity from right to left is of operator = assignment operator\n",
    "#exponential operator (**) has the second highest precedence in Python\n",
    "#list: [] inclosed in these braces; insertin -> indexing and slicing is possible; duplicate values are allowed;\n",
    "#-mutable in nature(Growable); heterogenous in nature(e.g. a=[2,2.4,\"Hello\"]\n",
    "\n"
   ]
  },
  {
   "cell_type": "code",
   "execution_count": 3,
   "id": "5632ef75-b072-4f5b-8647-2616270d36b7",
   "metadata": {},
   "outputs": [
    {
     "name": "stdout",
     "output_type": "stream",
     "text": [
      "Value of a is :  10\n",
      "Value of b is :  10\n",
      "Value of c is :  10\n"
     ]
    }
   ],
   "source": [
    "#new way of initialization the variables\n",
    "a=b=c=10\n",
    "print(\"Value of a is : \",a)\n",
    "print(\"Value of b is : \",b)\n",
    "print(\"Value of c is : \",c)"
   ]
  },
  {
   "cell_type": "code",
   "execution_count": 6,
   "id": "71819524-4c4a-44a3-8448-1068f68c2a75",
   "metadata": {},
   "outputs": [
    {
     "name": "stdout",
     "output_type": "stream",
     "text": [
      "Value of a is :  12\n",
      "Value of b is :  23\n",
      "Value of c is :  34\n"
     ]
    }
   ],
   "source": [
    "#another new way of initializing the variables\n",
    "a,b,c=12,23,34\n",
    "print(\"Value of a is : \",a)\n",
    "print(\"Value of b is : \",b)\n",
    "print(\"Value of c is : \",c)"
   ]
  },
  {
   "cell_type": "code",
   "execution_count": 3,
   "id": "26424d3a-b292-444a-b8db-2c5a74f65682",
   "metadata": {},
   "outputs": [
    {
     "name": "stdin",
     "output_type": "stream",
     "text": [
      "Enter x :  12\n",
      "Enter y :  23\n"
     ]
    },
    {
     "name": "stdout",
     "output_type": "stream",
     "text": [
      "Value of x is :  12\n",
      "Value of y is :  23\n",
      "Value of x is :  23\n",
      "Value of y is :  12\n"
     ]
    }
   ],
   "source": [
    "#swappimg of two numbers using the third variable\n",
    "x=int(input(\"Enter x : \"))\n",
    "y=int(input(\"Enter y : \"))\n",
    "print(\"Value of x is : \",x)\n",
    "print(\"Value of y is : \",y)\n",
    "c=x\n",
    "x=y\n",
    "y=c\n",
    "print(\"Value of x is : \",x)\n",
    "print(\"Value of y is : \",y)\n",
    "      "
   ]
  },
  {
   "cell_type": "code",
   "execution_count": 2,
   "id": "4c6b47b1-1c45-46ec-a4ce-a5b88248f159",
   "metadata": {},
   "outputs": [
    {
     "name": "stdin",
     "output_type": "stream",
     "text": [
      "Enter x :  12\n",
      "Enter y :  23\n"
     ]
    },
    {
     "name": "stdout",
     "output_type": "stream",
     "text": [
      "Value of x is :  12\n",
      "Value of y is :  23\n",
      "Value of x is :  23\n",
      "Value of y is :  12\n"
     ]
    }
   ],
   "source": [
    "#swapping of two numbers without using the third variable\n",
    "x=int(input(\"Enter x : \"))\n",
    "y=int(input(\"Enter y : \"))\n",
    "print(\"Value of x is : \",x)\n",
    "print(\"Value of y is : \",y)\n",
    "x=x+y\n",
    "y=x-y\n",
    "x=x-y\n",
    "print(\"Value of x is : \",x)\n",
    "print(\"Value of y is : \",y)"
   ]
  },
  {
   "cell_type": "code",
   "execution_count": 7,
   "id": "e40af884-5707-401d-b437-f32c77f2209f",
   "metadata": {},
   "outputs": [
    {
     "name": "stdout",
     "output_type": "stream",
     "text": [
      "Value of x is :  23\n",
      "Value of y is :  12\n"
     ]
    }
   ],
   "source": [
    "#swapping two numbers with a trick which works only in python\n",
    "#reason (why this method only works in Python) : because in Python we can assign multiple values to a variable\n",
    "a,b=12,23\n",
    "a,b=b,a\n",
    "print(\"Value of x is : \",a)\n",
    "print(\"Value of y is : \",b)"
   ]
  },
  {
   "cell_type": "code",
   "execution_count": 5,
   "id": "6a0190fd-e6de-4222-b004-74bde3476c94",
   "metadata": {},
   "outputs": [
    {
     "name": "stdin",
     "output_type": "stream",
     "text": [
      "Enter a :  12\n",
      "Enter b :  23\n"
     ]
    },
    {
     "name": "stdout",
     "output_type": "stream",
     "text": [
      "Sum of a and b is :  35\n"
     ]
    }
   ],
   "source": [
    "#sum of two numbers\n",
    "a=int(input(\"Enter a : \"))\n",
    "b=int(input(\"Enter b : \"))\n",
    "sum=a+b\n",
    "print(\"Sum of a and b is : \",sum)\n",
    "      "
   ]
  },
  {
   "cell_type": "code",
   "execution_count": 8,
   "id": "8230f661-6313-41d9-8d7c-2d33a1744cd6",
   "metadata": {},
   "outputs": [
    {
     "name": "stdout",
     "output_type": "stream",
     "text": [
      "HELLO\n"
     ]
    }
   ],
   "source": [
    "print(\"HELLO\")"
   ]
  },
  {
   "cell_type": "code",
   "execution_count": 10,
   "id": "a4bc92f6-0dd8-4348-857e-81aa0b258f8d",
   "metadata": {},
   "outputs": [
    {
     "name": "stdout",
     "output_type": "stream",
     "text": [
      "12 23 34\n"
     ]
    }
   ],
   "source": [
    "x,y,z=12,23,34\n",
    "print(x,y,z)"
   ]
  },
  {
   "cell_type": "code",
   "execution_count": 14,
   "id": "126b6eb2-f9c7-4298-bc11-dbe121595d59",
   "metadata": {},
   "outputs": [
    {
     "name": "stdin",
     "output_type": "stream",
     "text": [
      "Enter the tempreture in fahrenheit :  98.3\n"
     ]
    },
    {
     "name": "stdout",
     "output_type": "stream",
     "text": [
      "Tempreture is Calcius is :  36.833333333333336\n"
     ]
    }
   ],
   "source": [
    "#WAPP to covert a Tempreture from Fahrenheit to Celcius\n",
    "#c=(f-32)*(5/9)\n",
    "f=float(input(\"Enter the tempreture in fahrenheit : \"))\n",
    "c=(f-32)*(5/9)\n",
    "print(\"Tempreture is Calcius is : \",c)"
   ]
  },
  {
   "cell_type": "code",
   "execution_count": 19,
   "id": "df58aa3b-0b27-4ca3-b6c3-04b6fbdcca73",
   "metadata": {},
   "outputs": [
    {
     "name": "stdin",
     "output_type": "stream",
     "text": [
      "Enter the tempreture in fahrenheit :  98\n"
     ]
    },
    {
     "name": "stdout",
     "output_type": "stream",
     "text": [
      "Tempreture converted from 98.0 Fahrenheit to Calcius is 36.66666666666667\n"
     ]
    }
   ],
   "source": [
    "#use of formatted printing\n",
    "#WAPP to covert a Tempreture from Fahrenheit to Celcius\n",
    "#c=(f-32)*(5/9)\n",
    "f=float(input(\"Enter the tempreture in fahrenheit : \"))\n",
    "c=(f-32)*(5/9)\n",
    "print(f\"Tempreture converted from {f} Fahrenheit to Calcius is {c}\")"
   ]
  },
  {
   "cell_type": "code",
   "execution_count": 21,
   "id": "41dc57f6-0fa7-4798-b52f-a89a5cd79459",
   "metadata": {},
   "outputs": [
    {
     "name": "stdin",
     "output_type": "stream",
     "text": [
      "Enter the tempreture in fahrenheit :  98\n"
     ]
    },
    {
     "name": "stdout",
     "output_type": "stream",
     "text": [
      "Tempreture converted from 98.0 Fahrenheit to Calcius is 36.67\n"
     ]
    }
   ],
   "source": [
    "# WAPP to covert a Tempreture from Fahrenheit to Celcius\n",
    "# for only 2 values after decimal, we will write ((Variable Name:.2F))\n",
    "#c=(f-32)*(5/9)\n",
    "f=float(input(\"Enter the tempreture in fahrenheit : \"))\n",
    "c=(f-32)*(5/9)\n",
    "print(f\"Tempreture converted from {f} Fahrenheit to Calcius is {c:.2F}\")"
   ]
  },
  {
   "cell_type": "code",
   "execution_count": 23,
   "id": "3344d60a-c462-42a2-8395-12f55c5b7546",
   "metadata": {},
   "outputs": [
    {
     "name": "stdin",
     "output_type": "stream",
     "text": [
      "Enter the Radius of the circle :  12\n"
     ]
    },
    {
     "name": "stdout",
     "output_type": "stream",
     "text": [
      "Area of Circle is :  452.15999999999997\n"
     ]
    }
   ],
   "source": [
    "#WAPP to find Area of Circle\n",
    "r=float(input(\"Enter the Radius of the circle : \"))\n",
    "area=3.14*r*r\n",
    "print(\"Area of Circle is : \",area)"
   ]
  },
  {
   "cell_type": "code",
   "execution_count": 28,
   "id": "632c0fe4-8585-4eca-86be-c96d85df780f",
   "metadata": {},
   "outputs": [
    {
     "name": "stdin",
     "output_type": "stream",
     "text": [
      "Enter the Radius of the circle :  12\n"
     ]
    },
    {
     "name": "stdout",
     "output_type": "stream",
     "text": [
      "Area of Circle is : 452.16\n"
     ]
    }
   ],
   "source": [
    "#WAPP to find Area of Circle\n",
    "#only 2 values after decimal\n",
    "r=float(input(\"Enter the Radius of the circle : \"))\n",
    "area=3.14*r*r\n",
    "print(f\"Area of Circle is : {area:.2F}\")"
   ]
  },
  {
   "cell_type": "code",
   "execution_count": 29,
   "id": "b270ba91-4473-4ba6-a4ae-72b385ce7eb0",
   "metadata": {},
   "outputs": [
    {
     "name": "stdin",
     "output_type": "stream",
     "text": [
      "Enter the Radius of the circle :  12\n"
     ]
    },
    {
     "name": "stdout",
     "output_type": "stream",
     "text": [
      "Area of Circle is :  452.3893421169302\n"
     ]
    }
   ],
   "source": [
    "#WAPP to find Area of Circle\n",
    "#using import math method\n",
    "import math\n",
    "r=float(input(\"Enter the Radius of the circle : \"))\n",
    "area=math.pi*r*r\n",
    "print(\"Area of Circle is : \",area)"
   ]
  },
  {
   "cell_type": "code",
   "execution_count": 31,
   "id": "c3bd93e6-3fd5-4e7b-a67f-213b89f6132f",
   "metadata": {},
   "outputs": [
    {
     "name": "stdin",
     "output_type": "stream",
     "text": [
      "Enter the side a :  12\n",
      "Enter the side a :  23\n",
      "Enter the side a :  34\n"
     ]
    },
    {
     "name": "stdout",
     "output_type": "stream",
     "text": [
      "Area of the Traingle of sides 12,23 and 34 is 66.80896272207794\n"
     ]
    }
   ],
   "source": [
    "#WAPP to find the area of a Triangle\n",
    "import math\n",
    "a=int(input(\"Enter the side a : \"))\n",
    "b=int(input(\"Enter the side a : \"))\n",
    "c=int(input(\"Enter the side a : \"))\n",
    "s=(a+b+c)/2\n",
    "area=math.sqrt(s*(s-a)*(s-b)*(s-c))\n",
    "print(f\"Area of the Traingle of sides {a},{b} and {c} is {area}\")"
   ]
  },
  {
   "cell_type": "code",
   "execution_count": 32,
   "id": "850f06bb-0d5c-4167-87c6-84026a425186",
   "metadata": {},
   "outputs": [
    {
     "name": "stdin",
     "output_type": "stream",
     "text": [
      "Enter the side a :  12\n",
      "Enter the side a :  23\n",
      "Enter the side a :  34\n"
     ]
    },
    {
     "name": "stdout",
     "output_type": "stream",
     "text": [
      "Area of the Traingle of sides 12,23 and 34 is 66.81\n"
     ]
    }
   ],
   "source": [
    "#WAPP to find the area of a Triangle\n",
    "#area upto 2 decimal places\n",
    "import math\n",
    "a=int(input(\"Enter the side a : \"))\n",
    "b=int(input(\"Enter the side a : \"))\n",
    "c=int(input(\"Enter the side a : \"))\n",
    "s=(a+b+c)/2\n",
    "area=math.sqrt(s*(s-a)*(s-b)*(s-c))\n",
    "print(f\"Area of the Traingle of sides {a},{b} and {c} is {area:.2F}\")"
   ]
  },
  {
   "cell_type": "code",
   "execution_count": 33,
   "id": "372d07e2-88da-4f11-b194-fefe345c879a",
   "metadata": {},
   "outputs": [
    {
     "name": "stdin",
     "output_type": "stream",
     "text": [
      "Enter the side a :  12\n",
      "Enter the side a :  23\n",
      "Enter the side a :  34\n"
     ]
    },
    {
     "name": "stdout",
     "output_type": "stream",
     "text": [
      "Area of the Traingle of sides 12,23 and 34 is 66.81\n"
     ]
    }
   ],
   "source": [
    "#WAPP to find the area of a Triangle\n",
    "#area upto 2 decimal places\n",
    "#without using sqrt function\n",
    "import math\n",
    "a=int(input(\"Enter the side a : \"))\n",
    "b=int(input(\"Enter the side a : \"))\n",
    "c=int(input(\"Enter the side a : \"))\n",
    "s=(a+b+c)/2\n",
    "area=math.pow((s*(s-a)*(s-b)*(s-c)),(1/2))\n",
    "print(f\"Area of the Traingle of sides {a},{b} and {c} is {area:.2F}\")"
   ]
  },
  {
   "cell_type": "code",
   "execution_count": 34,
   "id": "8c09bee5-6143-4df5-bdc7-6c7b9cfa0bde",
   "metadata": {},
   "outputs": [
    {
     "name": "stdin",
     "output_type": "stream",
     "text": [
      "Enter the side a :  12\n",
      "Enter the side a :  23\n",
      "Enter the side a :  34\n"
     ]
    },
    {
     "name": "stdout",
     "output_type": "stream",
     "text": [
      "Area of the Traingle of sides 12,23 and 34 is 66.81\n"
     ]
    }
   ],
   "source": [
    "#WAPP to find the area of a Triangle\n",
    "#area upto 2 decimal places\n",
    "#another way to apply power function\n",
    "import math\n",
    "a=int(input(\"Enter the side a : \"))\n",
    "b=int(input(\"Enter the side a : \"))\n",
    "c=int(input(\"Enter the side a : \"))\n",
    "s=(a+b+c)/2\n",
    "area=((s*(s-a)*(s-b)*(s-c))**(1/2))\n",
    "print(f\"Area of the Traingle of sides {a},{b} and {c} is {area:.2F}\")"
   ]
  },
  {
   "cell_type": "code",
   "execution_count": null,
   "id": "63e412b9-2860-45dc-a10a-e7613da29e28",
   "metadata": {},
   "outputs": [],
   "source": [
    "#WAPP to find the area of a Triangle\n",
    "#area upto 2 decimal places\n",
    "#without using sqrt function"
   ]
  },
  {
   "cell_type": "code",
   "execution_count": 38,
   "id": "e6edace2-0a63-40f5-a3b8-f1166438a26c",
   "metadata": {},
   "outputs": [
    {
     "name": "stdin",
     "output_type": "stream",
     "text": [
      "Enter the Principle Amount 1000\n",
      "Enter the time 4\n",
      "Enter the rate 2.5\n"
     ]
    },
    {
     "name": "stdout",
     "output_type": "stream",
     "text": [
      "Compound interest of 1000 Principal Amount 2.5 rate and for time 4 is : 103.81289062499945\n"
     ]
    }
   ],
   "source": [
    "#WAPP to calculate Compound Interest\n",
    "import math\n",
    "p=int(input(\"Enter the Principle Amount\"))\n",
    "t=int(input(\"Enter the time\"))\n",
    "r=float(input(\"Enter the rate\"))    \n",
    "A=p*(math.pow((1+r/100),t))\n",
    "CI=A-p\n",
    "print(f\"Compound interest of {p} Principal Amount {r} rate and for time {t} is : {CI}\")"
   ]
  },
  {
   "cell_type": "code",
   "execution_count": 41,
   "id": "84c33ff0-127e-460c-baff-0c89299283b6",
   "metadata": {},
   "outputs": [
    {
     "name": "stdin",
     "output_type": "stream",
     "text": [
      "Enter the Principle Amount 10000\n",
      "Enter the time 10\n",
      "Enter the rate 10\n"
     ]
    },
    {
     "name": "stdout",
     "output_type": "stream",
     "text": [
      "Compound interest of 10000.0 Principal Amount 10.0 rate and for time 10.0 is : 15937.42\n"
     ]
    }
   ],
   "source": [
    "#WAPP to calculate Compound Interest\n",
    "#upto 2 decimal places\n",
    "import math\n",
    "p=float(input(\"Enter the Principle Amount\"))\n",
    "t=float(input(\"Enter the time\"))\n",
    "r=float(input(\"Enter the rate\"))    \n",
    "A=p*(math.pow((1+r/100),t))\n",
    "CI=A-p\n",
    "print(f\"Compound interest of {p} Principal Amount {r} rate and for time {t} is : {CI:.2F}\")"
   ]
  },
  {
   "cell_type": "code",
   "execution_count": 43,
   "id": "d2e4901d-95f3-41c2-81de-8158152970e3",
   "metadata": {},
   "outputs": [
    {
     "name": "stdin",
     "output_type": "stream",
     "text": [
      "Enter the Principle Amount 10000\n",
      "Enter the time 10\n",
      "Enter the rate 10\n"
     ]
    },
    {
     "name": "stdout",
     "output_type": "stream",
     "text": [
      "Compound interest of 10000.0 Principal Amount 10.0 rate and for time 10.0 is : 15937.42\n"
     ]
    }
   ],
   "source": [
    "#WAPP to calculate Compound Interest\n",
    "#upto 2 decimal places\n",
    "#using another method of applying power\n",
    "import math\n",
    "p=float(input(\"Enter the Principle Amount\"))\n",
    "t=float(input(\"Enter the time\"))\n",
    "r=float(input(\"Enter the rate\"))    \n",
    "A=p*((1+r/100)**t)\n",
    "CI=A-p\n",
    "print(f\"Compound interest of {p} Principal Amount {r} rate and for time {t} is : {CI:.2F}\")"
   ]
  },
  {
   "cell_type": "code",
   "execution_count": 51,
   "id": "a231906e-13c6-4f32-88f3-54694d792da5",
   "metadata": {},
   "outputs": [
    {
     "name": "stdin",
     "output_type": "stream",
     "text": [
      "Enter the Principle Amount 10000\n",
      "Enter the time 10\n",
      "Enter the rate 10\n"
     ]
    },
    {
     "name": "stdout",
     "output_type": "stream",
     "text": [
      "Principle : 10000.0, Rate : 10.0, Time : 10.0, The CI is : 15937.424601000024\n"
     ]
    }
   ],
   "source": [
    "#WAPP to calculate Compound Interest\n",
    "#upto 2 decimal places\n",
    "#using another method of applying power\n",
    "#new way to print the answer\n",
    "import math\n",
    "p=float(input(\"Enter the Principle Amount\"))\n",
    "t=float(input(\"Enter the time\"))\n",
    "r=float(input(\"Enter the rate\"))    \n",
    "A=p*((1+r/100)**t)\n",
    "CI=A-p\n",
    "print(\"Principle : {0}, Rate : {1}, Time : {2}, The CI is : {3}\".format(p,r,t,CI))\n",
    "#we can put index inside {} to avoid the confusion"
   ]
  },
  {
   "cell_type": "code",
   "execution_count": 52,
   "id": "f720d7b8-1928-43bb-8179-9c6146c805f1",
   "metadata": {},
   "outputs": [
    {
     "name": "stdin",
     "output_type": "stream",
     "text": [
      "Enter the Principle Amount 10000\n",
      "Enter the time 10\n",
      "Enter the rate 10\n"
     ]
    },
    {
     "name": "stdout",
     "output_type": "stream",
     "text": [
      "Principle : 10000.0, Rate : 10.0, Time : 10.0, The CI is : 15937.424601000024\n"
     ]
    }
   ],
   "source": [
    "#WAPP to calculate Compound Interest\n",
    "#upto 2 decimal places\n",
    "#using another method of applying power\n",
    "#new way to print the answer\n",
    "import math\n",
    "p=float(input(\"Enter the Principle Amount\"))\n",
    "t=float(input(\"Enter the time\"))\n",
    "r=float(input(\"Enter the rate\"))    \n",
    "A=p*((1+r/100)**t)\n",
    "CI=A-p\n",
    "print(\"Principle : {2}, Rate : {1}, Time : {0}, The CI is : {3}\".format(t,r,p,CI))\n",
    "#we can put index inside {} to avoid the confusion\n",
    "#and also if we swap the inputs in .format() section, \n",
    "#-then we can use index in the {} section to print the corresponding value we desire to print"
   ]
  },
  {
   "cell_type": "code",
   "execution_count": 56,
   "id": "6aa9d660-e12c-4e31-8ef0-4e789ce1961f",
   "metadata": {},
   "outputs": [
    {
     "name": "stdout",
     "output_type": "stream",
     "text": [
      "10 20 30\n"
     ]
    }
   ],
   "source": [
    "#print(object(s),sep=' ',end='\\n',flush,file)\n",
    "#-these are the default attributes of the print statement\n",
    "a=10\n",
    "b=20\n",
    "c=30\n",
    "print(a,b,c)"
   ]
  },
  {
   "cell_type": "code",
   "execution_count": 57,
   "id": "ebd3fca5-5d56-4cb8-b456-16d0ceb3e044",
   "metadata": {},
   "outputs": [
    {
     "name": "stdout",
     "output_type": "stream",
     "text": [
      "10\n",
      "20\n",
      "30\n"
     ]
    }
   ],
   "source": [
    "#print(object(s),sep=' ',end='\\n',flush,file)\n",
    "#-these are the default attributes of the print statement\n",
    "a=10\n",
    "b=20\n",
    "c=30\n",
    "print(a)\n",
    "print(b)\n",
    "print(c)"
   ]
  },
  {
   "cell_type": "code",
   "execution_count": 55,
   "id": "9b82ed9e-a1dd-410c-8203-0402563b86b1",
   "metadata": {},
   "outputs": [
    {
     "name": "stdout",
     "output_type": "stream",
     "text": [
      "10#20#30\n"
     ]
    }
   ],
   "source": [
    "#print(object(s),sep=' ',end='\\n',flush,file)\n",
    "#-these are the default attributes of the print statement\n",
    "#-if we change sep=' ' with sep='#'  \n",
    "a=10\n",
    "b=20\n",
    "c=30\n",
    "print(a,b,c,sep='#')"
   ]
  },
  {
   "cell_type": "code",
   "execution_count": 58,
   "id": "24d609eb-2cb4-412e-b6af-997728460c45",
   "metadata": {},
   "outputs": [
    {
     "name": "stdout",
     "output_type": "stream",
     "text": [
      "10 20 30 "
     ]
    }
   ],
   "source": [
    "#print(object(s),sep=' ',end='\\n',flush,file)\n",
    "#-these are the default attributes of the print statement\n",
    "#-if we change end='\\n' with end=' '  \n",
    "a=10\n",
    "b=20\n",
    "c=30\n",
    "print(a,end=' ')\n",
    "print(b,end=' ')\n",
    "print(c,end=' ')"
   ]
  },
  {
   "cell_type": "code",
   "execution_count": 59,
   "id": "c8c147ac-be56-4973-9d1a-c061b4408ff0",
   "metadata": {},
   "outputs": [
    {
     "name": "stdout",
     "output_type": "stream",
     "text": [
      "10\n",
      "20\n",
      "30\n"
     ]
    }
   ],
   "source": [
    "#print(object(s),sep=' ',end='\\n',flush,file)\n",
    "#-these are the default attributes of the print statement\n",
    "#-if we change sep=' ' with sep='\\n'  \n",
    "a=10\n",
    "b=20\n",
    "c=30\n",
    "print(a,b,c,sep='\\n')"
   ]
  },
  {
   "cell_type": "code",
   "execution_count": 60,
   "id": "25342693-092c-42c6-b2f6-c4c536c273d7",
   "metadata": {},
   "outputs": [
    {
     "name": "stdout",
     "output_type": "stream",
     "text": [
      "102030\n"
     ]
    }
   ],
   "source": [
    "#print(object(s),sep=' ',end='\\n',flush,file)\n",
    "#-these are the default attributes of the print statement\n",
    "#-if we change sep=' ' with sep=''  \n",
    "a=10\n",
    "b=20\n",
    "c=30\n",
    "print(a,b,c,sep='')"
   ]
  },
  {
   "cell_type": "code",
   "execution_count": 61,
   "id": "349743dc-9cde-4c7a-a13c-126d1fdd230c",
   "metadata": {
    "scrolled": true
   },
   "outputs": [
    {
     "data": {
      "text/plain": [
       "['False',\n",
       " 'None',\n",
       " 'True',\n",
       " 'and',\n",
       " 'as',\n",
       " 'assert',\n",
       " 'async',\n",
       " 'await',\n",
       " 'break',\n",
       " 'class',\n",
       " 'continue',\n",
       " 'def',\n",
       " 'del',\n",
       " 'elif',\n",
       " 'else',\n",
       " 'except',\n",
       " 'finally',\n",
       " 'for',\n",
       " 'from',\n",
       " 'global',\n",
       " 'if',\n",
       " 'import',\n",
       " 'in',\n",
       " 'is',\n",
       " 'lambda',\n",
       " 'nonlocal',\n",
       " 'not',\n",
       " 'or',\n",
       " 'pass',\n",
       " 'raise',\n",
       " 'return',\n",
       " 'try',\n",
       " 'while',\n",
       " 'with',\n",
       " 'yield']"
      ]
     },
     "execution_count": 61,
     "metadata": {},
     "output_type": "execute_result"
    }
   ],
   "source": [
    "#to print keyword list of the Python\n",
    "#earlier we had only 33 keywords in python but from the year 2021 we have 35 keywords, added keywords were : 'math' and 'case' \n",
    "import keyword\n",
    "keyword.kwlist"
   ]
  },
  {
   "cell_type": "code",
   "execution_count": 1,
   "id": "00fa6969-96b2-4fc1-a536-cfe53732f630",
   "metadata": {},
   "outputs": [
    {
     "name": "stdout",
     "output_type": "stream",
     "text": [
      "7\n"
     ]
    }
   ],
   "source": [
    "#giving the number inside the variable in Binary \n",
    "a=0b111\n",
    "print(a)"
   ]
  },
  {
   "cell_type": "code",
   "execution_count": 2,
   "id": "fa353afd-8543-4df3-88a7-45dd2e01eac7",
   "metadata": {},
   "outputs": [
    {
     "name": "stdout",
     "output_type": "stream",
     "text": [
      "83\n"
     ]
    }
   ],
   "source": [
    "#giving the number inside the variable in Octal\n",
    "a=0o123\n",
    "print(a)"
   ]
  },
  {
   "cell_type": "code",
   "execution_count": 3,
   "id": "d17097a2-f6ec-494a-af2a-fd0ad7bd422c",
   "metadata": {},
   "outputs": [
    {
     "name": "stdout",
     "output_type": "stream",
     "text": [
      "6785771\n"
     ]
    }
   ],
   "source": [
    "#giving the number inside the variable in hexadecimal\n",
    "a=0x678AEB\n",
    "print(a)"
   ]
  },
  {
   "cell_type": "code",
   "execution_count": 8,
   "id": "2eafdc92-2a46-4790-8225-c0e8678d084b",
   "metadata": {},
   "outputs": [
    {
     "name": "stdout",
     "output_type": "stream",
     "text": [
      "0b1111\n"
     ]
    }
   ],
   "source": [
    "#to convert integer stored in the variable into binary\n",
    "a=15\n",
    "a=bin(a)\n",
    "print(a)"
   ]
  },
  {
   "cell_type": "code",
   "execution_count": 9,
   "id": "6f0b50ba-e1af-4e17-a8cf-19e4ad675ac6",
   "metadata": {},
   "outputs": [
    {
     "name": "stdout",
     "output_type": "stream",
     "text": [
      "0o17\n"
     ]
    }
   ],
   "source": [
    "#to convert integer stored in the variable into octal\n",
    "a=15\n",
    "a=oct(a)\n",
    "print(a)"
   ]
  },
  {
   "cell_type": "code",
   "execution_count": 10,
   "id": "0063701c-06d2-42bd-af44-bf29999d29c7",
   "metadata": {},
   "outputs": [
    {
     "name": "stdout",
     "output_type": "stream",
     "text": [
      "0xf\n"
     ]
    }
   ],
   "source": [
    "#to convert integer stored in the variable into hexadecimal\n",
    "a=15\n",
    "a=hex(a)\n",
    "print(a)"
   ]
  },
  {
   "cell_type": "code",
   "execution_count": 11,
   "id": "d26edb79-e26b-438d-bb38-06016d24e1be",
   "metadata": {},
   "outputs": [
    {
     "name": "stdout",
     "output_type": "stream",
     "text": [
      "0o11157\n"
     ]
    }
   ],
   "source": [
    "#to convert binary number stored in the variable into octal\n",
    "a=0b1001001101111\n",
    "a=oct(a)\n",
    "print(a)"
   ]
  },
  {
   "cell_type": "code",
   "execution_count": 12,
   "id": "d50fe5ec-3202-45ae-8812-8239a7c9557f",
   "metadata": {},
   "outputs": [
    {
     "name": "stdout",
     "output_type": "stream",
     "text": [
      "0xaefb12345\n"
     ]
    }
   ],
   "source": [
    "#to convert hexadecimal number stored in the variable into octal\n",
    "a=0xAEFB12345\n",
    "a=hex(a)\n",
    "print(a)"
   ]
  },
  {
   "cell_type": "code",
   "execution_count": 13,
   "id": "ea960fa4-8d78-4aa8-8e64-00b1b4ded1e2",
   "metadata": {},
   "outputs": [
    {
     "name": "stdout",
     "output_type": "stream",
     "text": [
      "0b1111110101100\n"
     ]
    }
   ],
   "source": [
    "#to convert octal number stored in the variable into binary\n",
    "a=0o17654\n",
    "a=bin(a)\n",
    "print(a)"
   ]
  },
  {
   "cell_type": "code",
   "execution_count": 14,
   "id": "369c4593-d503-4611-b38d-357959eb7dc6",
   "metadata": {},
   "outputs": [
    {
     "name": "stdout",
     "output_type": "stream",
     "text": [
      "0b10101110111101110110\n"
     ]
    }
   ],
   "source": [
    "#to convert hexadecimal number stored in the variable into binary\n",
    "a=0xAEF76\n",
    "a=bin(a)\n",
    "print(a)"
   ]
  },
  {
   "cell_type": "code",
   "execution_count": 15,
   "id": "d50d4ae4-b0b4-4618-9d98-987774019eda",
   "metadata": {},
   "outputs": [
    {
     "name": "stdout",
     "output_type": "stream",
     "text": [
      "0xddc\n"
     ]
    }
   ],
   "source": [
    "#to convert octal number stored in the variable into hexadecimal\n",
    "a=0o6734\n",
    "a=hex(a)\n",
    "print(a)"
   ]
  },
  {
   "cell_type": "code",
   "execution_count": 18,
   "id": "21e9d6fc-3df3-4f1a-b97a-ae3c6e1e11cc",
   "metadata": {},
   "outputs": [
    {
     "name": "stdout",
     "output_type": "stream",
     "text": [
      "27\n"
     ]
    }
   ],
   "source": [
    "#to convert binary number stored in the variable into decimal\n",
    "a=0b11011\n",
    "a=int(a)\n",
    "print(a)"
   ]
  },
  {
   "cell_type": "code",
   "execution_count": 24,
   "id": "a8585f4d-bc13-403b-a8b0-28913900caef",
   "metadata": {},
   "outputs": [
    {
     "name": "stdout",
     "output_type": "stream",
     "text": [
      "456.342\n"
     ]
    }
   ],
   "source": [
    "#giving the exponential value\n",
    "#e will give value in float\n",
    "x=0.456342e3\n",
    "print(x)"
   ]
  },
  {
   "cell_type": "code",
   "execution_count": 25,
   "id": "d3d4cbae-3898-4062-ba37-3cdaf0d411bd",
   "metadata": {},
   "outputs": [
    {
     "name": "stdout",
     "output_type": "stream",
     "text": [
      "42000.0\n"
     ]
    }
   ],
   "source": [
    "#giving the exponential value\n",
    "#e will give value in float\n",
    "x=42e3\n",
    "print(x)"
   ]
  },
  {
   "cell_type": "code",
   "execution_count": 26,
   "id": "beb315d9-4487-4eb1-8613-8b62c5fa72d5",
   "metadata": {},
   "outputs": [
    {
     "name": "stdout",
     "output_type": "stream",
     "text": [
      "(3+4j)\n",
      "<class 'complex'>\n"
     ]
    }
   ],
   "source": [
    "#giving complex values\n",
    "x=3+4j\n",
    "print(x)\n",
    "print(type(x))"
   ]
  },
  {
   "cell_type": "code",
   "execution_count": 27,
   "id": "666dea65-a836-4365-a550-870c817b5f9d",
   "metadata": {},
   "outputs": [
    {
     "name": "stdout",
     "output_type": "stream",
     "text": [
      "(4+3j)\n",
      "<class 'complex'>\n"
     ]
    }
   ],
   "source": [
    "#giving complex values\n",
    "x=3j+4\n",
    "print(x)\n",
    "print(type(x))"
   ]
  },
  {
   "cell_type": "code",
   "execution_count": 28,
   "id": "8677a92d-8ae8-49e3-8e7b-d3d53456b373",
   "metadata": {},
   "outputs": [
    {
     "name": "stdout",
     "output_type": "stream",
     "text": [
      "(-0-4j)\n",
      "<class 'complex'>\n"
     ]
    }
   ],
   "source": [
    "#giving complex values\n",
    "x=-4j\n",
    "print(x)\n",
    "print(type(x))"
   ]
  },
  {
   "cell_type": "code",
   "execution_count": 29,
   "id": "48d9c99b-c46e-4563-98b5-344c7463c519",
   "metadata": {},
   "outputs": [
    {
     "name": "stdout",
     "output_type": "stream",
     "text": [
      "4j\n",
      "<class 'complex'>\n"
     ]
    }
   ],
   "source": [
    "#giving complex values\n",
    "x=0+4j\n",
    "print(x)\n",
    "print(type(x))"
   ]
  },
  {
   "cell_type": "code",
   "execution_count": 31,
   "id": "fe2fbee9-c3ec-4951-b43f-4543e8d76faf",
   "metadata": {},
   "outputs": [
    {
     "name": "stdout",
     "output_type": "stream",
     "text": [
      "(3.9+4j)\n",
      "<class 'complex'>\n"
     ]
    }
   ],
   "source": [
    "#giving complex values\n",
    "x=3.9+4j\n",
    "print(x)\n",
    "print(type(x))"
   ]
  },
  {
   "cell_type": "code",
   "execution_count": 32,
   "id": "018f96ea-70ed-419c-9011-5fcda150ff86",
   "metadata": {},
   "outputs": [
    {
     "name": "stdout",
     "output_type": "stream",
     "text": [
      "(3+4.8j)\n",
      "<class 'complex'>\n"
     ]
    }
   ],
   "source": [
    "#giving complex values\n",
    "x=3+4.8j\n",
    "print(x)\n",
    "print(type(x))"
   ]
  },
  {
   "cell_type": "code",
   "execution_count": 33,
   "id": "c1b0b502-3ac1-405d-b9f4-abc8f4637da0",
   "metadata": {},
   "outputs": [
    {
     "name": "stdout",
     "output_type": "stream",
     "text": [
      "(3.6+4.8j)\n",
      "<class 'complex'>\n"
     ]
    }
   ],
   "source": [
    "#giving complex values\n",
    "x=3.6+4.8j\n",
    "print(x)\n",
    "print(type(x))"
   ]
  },
  {
   "cell_type": "code",
   "execution_count": 37,
   "id": "b97b5660-a9bc-426b-a01b-62eb58823c2d",
   "metadata": {},
   "outputs": [
    {
     "name": "stdout",
     "output_type": "stream",
     "text": [
      "(13+4j)\n",
      "<class 'complex'>\n"
     ]
    }
   ],
   "source": [
    "#giving complex values\n",
    "x=0b1101+4j\n",
    "print(x)\n",
    "print(type(x))"
   ]
  },
  {
   "cell_type": "code",
   "execution_count": 38,
   "id": "f1babfd2-7bbe-4558-9091-afbab6f2e9fc",
   "metadata": {},
   "outputs": [
    {
     "name": "stdout",
     "output_type": "stream",
     "text": [
      "(19347+4j)\n",
      "<class 'complex'>\n"
     ]
    }
   ],
   "source": [
    "#giving complex values\n",
    "x=0o45623+4j\n",
    "print(x)\n",
    "print(type(x))"
   ]
  },
  {
   "cell_type": "code",
   "execution_count": 41,
   "id": "24a5d9a4-f42b-4e96-9117-3a6374beda2b",
   "metadata": {},
   "outputs": [
    {
     "name": "stdout",
     "output_type": "stream",
     "text": [
      "(174+4j)\n",
      "<class 'complex'>\n"
     ]
    }
   ],
   "source": [
    "#giving complex values\n",
    "x=0xAE+4j\n",
    "print(x)\n",
    "print(type(x))\n",
    "#we can only give 0b,0o,0x values only in Real Part, not in Imaginary Part "
   ]
  },
  {
   "cell_type": "code",
   "execution_count": 48,
   "id": "6339f460-0721-47f1-8268-8bf8a91bf7ad",
   "metadata": {},
   "outputs": [
    {
     "name": "stdout",
     "output_type": "stream",
     "text": [
      "3.0\n",
      "4.5\n"
     ]
    }
   ],
   "source": [
    "#fetching value of either imaginary or real part of a complex nmuber\n",
    "x=3+4.5j\n",
    "print(x.real)\n",
    "print(x.imag)"
   ]
  },
  {
   "cell_type": "code",
   "execution_count": 50,
   "id": "fbc4c7b2-6431-41ec-80b0-053c8cd71815",
   "metadata": {},
   "outputs": [
    {
     "name": "stdout",
     "output_type": "stream",
     "text": [
      "True\n",
      "<class 'bool'>\n"
     ]
    }
   ],
   "source": [
    "#giving boolean value in a variable\n",
    "a=True\n",
    "print(a)\n",
    "print(type(a))"
   ]
  },
  {
   "cell_type": "code",
   "execution_count": 51,
   "id": "b83b5d2a-fefd-4b1b-863b-c829f7d08ae1",
   "metadata": {},
   "outputs": [
    {
     "name": "stdout",
     "output_type": "stream",
     "text": [
      "True\n",
      "<class 'bool'>\n"
     ]
    }
   ],
   "source": [
    "#giving boolean value in a variable\n",
    "a=bool(15)\n",
    "print(a)\n",
    "print(type(a))"
   ]
  },
  {
   "cell_type": "code",
   "execution_count": 52,
   "id": "4c830491-e72f-4d94-84fd-8e9df4986f07",
   "metadata": {},
   "outputs": [
    {
     "name": "stdout",
     "output_type": "stream",
     "text": [
      "True\n",
      "<class 'bool'>\n"
     ]
    }
   ],
   "source": [
    "#giving boolean value in a variable\n",
    "a=bool(-133)\n",
    "print(a)\n",
    "print(type(a))"
   ]
  },
  {
   "cell_type": "code",
   "execution_count": 53,
   "id": "7b02b18a-8ba6-4a4b-b934-4fb176883622",
   "metadata": {},
   "outputs": [
    {
     "name": "stdout",
     "output_type": "stream",
     "text": [
      "True\n",
      "<class 'bool'>\n"
     ]
    }
   ],
   "source": [
    "#giving boolean value in a variable\n",
    "a=bool(1.8)\n",
    "print(a)\n",
    "print(type(a))"
   ]
  },
  {
   "cell_type": "code",
   "execution_count": 54,
   "id": "f1240466-86d0-40bd-80ab-2f3d5d30bd3e",
   "metadata": {},
   "outputs": [
    {
     "name": "stdout",
     "output_type": "stream",
     "text": [
      "True\n",
      "<class 'bool'>\n"
     ]
    }
   ],
   "source": [
    "#giving boolean value in a variable\n",
    "a=bool(0.6)\n",
    "print(a)\n",
    "print(type(a))"
   ]
  },
  {
   "cell_type": "code",
   "execution_count": 55,
   "id": "0c26d2aa-e37d-4c2b-8564-29829638e921",
   "metadata": {},
   "outputs": [
    {
     "name": "stdout",
     "output_type": "stream",
     "text": [
      "False\n",
      "<class 'bool'>\n"
     ]
    }
   ],
   "source": [
    "#giving boolean value in a variable\n",
    "a=bool()\n",
    "print(a)\n",
    "print(type(a))"
   ]
  },
  {
   "cell_type": "code",
   "execution_count": 56,
   "id": "0ca30251-e8f5-49ff-b931-692792e56381",
   "metadata": {},
   "outputs": [
    {
     "name": "stdout",
     "output_type": "stream",
     "text": [
      "False\n",
      "<class 'bool'>\n"
     ]
    }
   ],
   "source": [
    "#giving boolean value in a variable\n",
    "a=bool(0.0)\n",
    "print(a)\n",
    "print(type(a))"
   ]
  },
  {
   "cell_type": "code",
   "execution_count": 57,
   "id": "c8f413f6-bee5-4055-aa02-c72a97d86940",
   "metadata": {},
   "outputs": [
    {
     "name": "stdout",
     "output_type": "stream",
     "text": [
      "False\n",
      "<class 'bool'>\n"
     ]
    }
   ],
   "source": [
    "#giving boolean value in a variable\n",
    "a=bool(-0)\n",
    "print(a)\n",
    "print(type(a))"
   ]
  },
  {
   "cell_type": "code",
   "execution_count": 58,
   "id": "53ce3414-7a28-4883-99e1-654d88145488",
   "metadata": {},
   "outputs": [
    {
     "name": "stdout",
     "output_type": "stream",
     "text": [
      "False\n",
      "<class 'bool'>\n"
     ]
    }
   ],
   "source": [
    "#giving boolean value in a variable\n",
    "a=bool(-0.0)\n",
    "print(a)\n",
    "print(type(a))"
   ]
  },
  {
   "cell_type": "code",
   "execution_count": 64,
   "id": "8068a800-9694-46b0-a3fa-d61084b31aaf",
   "metadata": {},
   "outputs": [
    {
     "name": "stdout",
     "output_type": "stream",
     "text": [
      "Learnng Python is very very easy\n"
     ]
    }
   ],
   "source": [
    "#giving string or character values in variable\n",
    "s=('Learnng Python is very very easy')\n",
    "print(s)"
   ]
  },
  {
   "cell_type": "code",
   "execution_count": 66,
   "id": "91b24284-290f-4249-883f-09bc50208cbc",
   "metadata": {},
   "outputs": [
    {
     "name": "stdout",
     "output_type": "stream",
     "text": [
      "Learnng Python is very very easy\n"
     ]
    }
   ],
   "source": [
    "#giving string or character values in variable\n",
    "s=(\"Learnng Python is very very easy\")\n",
    "print(s)\n",
    "#for single line printing of string, we use ' or \""
   ]
  },
  {
   "cell_type": "code",
   "execution_count": 65,
   "id": "20b54ad2-4cba-4857-8d91-d6ed5440af37",
   "metadata": {},
   "outputs": [
    {
     "name": "stdout",
     "output_type": "stream",
     "text": [
      "Learnng \n",
      "Python\n",
      "is \n",
      "very very \n",
      "easy\n"
     ]
    }
   ],
   "source": [
    "#giving string or character values in variable\n",
    "s=('''Learnng \n",
    "Python\n",
    "is \n",
    "very very \n",
    "easy''')\n",
    "print(s)\n",
    "#for multiline printing we will use ''' or \"\"\""
   ]
  },
  {
   "cell_type": "code",
   "execution_count": 10,
   "id": "38edf3a2-935b-4662-b9f1-69603ae36d4c",
   "metadata": {},
   "outputs": [
    {
     "name": "stdout",
     "output_type": "stream",
     "text": [
      "50\n"
     ]
    },
    {
     "data": {
      "text/plain": [
       "'this function is made to add two numbers'"
      ]
     },
     "execution_count": 10,
     "metadata": {},
     "output_type": "execute_result"
    }
   ],
   "source": [
    "#demonstration of Doc String\n",
    "def f():\n",
    "    'this function is made to add two numbers' #this string can be written inside any ',\",'''or\"\"\"\n",
    "    a,b=20,30\n",
    "    s=a+b\n",
    "    print(s)\n",
    "f()\n",
    "f.__doc__\n",
    "#if in case Doc String is not printed, write f.__doc__ inside print statement"
   ]
  },
  {
   "cell_type": "code",
   "execution_count": 13,
   "id": "06ebb7ed-e687-4378-be31-433e0e74c4ad",
   "metadata": {},
   "outputs": [
    {
     "name": "stdout",
     "output_type": "stream",
     "text": [
      "20\n",
      "<class 'str'>\n"
     ]
    }
   ],
   "source": [
    "#converting a value in string\n",
    "a=str(20)\n",
    "print(a)\n",
    "print(type(a))"
   ]
  },
  {
   "cell_type": "code",
   "execution_count": 14,
   "id": "49c3439c-1d9a-4e9b-baef-8325499264d0",
   "metadata": {},
   "outputs": [
    {
     "name": "stdout",
     "output_type": "stream",
     "text": [
      "20.5\n",
      "<class 'str'>\n"
     ]
    }
   ],
   "source": [
    "#converting a value in string\n",
    "a=str(20.5)\n",
    "print(a)\n",
    "print(type(a))"
   ]
  },
  {
   "cell_type": "code",
   "execution_count": 15,
   "id": "b22367a0-5a00-4da3-9163-53abeb509026",
   "metadata": {},
   "outputs": [
    {
     "name": "stdout",
     "output_type": "stream",
     "text": [
      "True\n",
      "<class 'str'>\n"
     ]
    }
   ],
   "source": [
    "#converting a value in string\n",
    "a=str(True)\n",
    "print(a)\n",
    "print(type(a))"
   ]
  },
  {
   "cell_type": "code",
   "execution_count": 16,
   "id": "ec07b1c3-0919-477d-85cf-1511b36cfdf9",
   "metadata": {},
   "outputs": [
    {
     "name": "stdout",
     "output_type": "stream",
     "text": [
      "(3+3.4j)\n",
      "<class 'str'>\n"
     ]
    }
   ],
   "source": [
    "#converting a value in string\n",
    "a=str(3+3.4j)\n",
    "print(a)\n",
    "print(type(a))"
   ]
  },
  {
   "cell_type": "code",
   "execution_count": 20,
   "id": "315476a3-243e-468d-ba42-34e1c7eebf0f",
   "metadata": {},
   "outputs": [
    {
     "name": "stdout",
     "output_type": "stream",
     "text": [
      "K\n",
      "H\n",
      "S\n",
      "H\n",
      " \n",
      "S\n"
     ]
    }
   ],
   "source": [
    "#fetching the element of the string\n",
    "s=\"KRISHNA SINGH\"\n",
    "a=s[0]\n",
    "print(a)\n",
    "a=s[4]\n",
    "print(a)\n",
    "a=s[8]\n",
    "print(a)\n",
    "a=s[-1]\n",
    "print(a)\n",
    "a=s[7]\n",
    "print(a)\n",
    "a=s[-5]\n",
    "print(a)"
   ]
  },
  {
   "cell_type": "code",
   "execution_count": 42,
   "id": "a541aca9-6dbe-4d3f-a627-b84245058ded",
   "metadata": {},
   "outputs": [
    {
     "name": "stdout",
     "output_type": "stream",
     "text": [
      "KRISHNA\n"
     ]
    }
   ],
   "source": [
    "#fetching substring\n",
    "#[start:end:step]\n",
    "#default value of start is 0, of end is length and of step is 1\n",
    "#printing upto end is done as end-1(excluding end)\n",
    "s=\"KRISHNA SINGH\"\n",
    "print(s[0:7:1])"
   ]
  },
  {
   "cell_type": "code",
   "execution_count": 24,
   "id": "d0579867-573e-4d06-b8a6-e990448716fc",
   "metadata": {},
   "outputs": [
    {
     "name": "stdout",
     "output_type": "stream",
     "text": [
      "KIHA\n"
     ]
    }
   ],
   "source": [
    "#fetching substring\n",
    "s=\"KRISHNA SINGH\"\n",
    "print(s[0:7:2])"
   ]
  },
  {
   "cell_type": "code",
   "execution_count": 43,
   "id": "465a9440-ca57-4848-93d9-af61f4a3207d",
   "metadata": {},
   "outputs": [
    {
     "name": "stdout",
     "output_type": "stream",
     "text": [
      "SINGH\n"
     ]
    }
   ],
   "source": [
    "#fetching substring\n",
    "s=\"KRISHNA SINGH\"\n",
    "print(s[-5::1])"
   ]
  },
  {
   "cell_type": "code",
   "execution_count": 44,
   "id": "018a73f0-8530-4dd8-a278-005f0ad7fc51",
   "metadata": {},
   "outputs": [
    {
     "name": "stdout",
     "output_type": "stream",
     "text": [
      "HGNIS\n"
     ]
    }
   ],
   "source": [
    "#fetching substring\n",
    "s=\"KRISHNA SINGH\"\n",
    "print(s[-1:-6:-1])"
   ]
  },
  {
   "cell_type": "code",
   "execution_count": 39,
   "id": "7f7547f3-1261-40f9-a6b0-7b56b5c08d5b",
   "metadata": {},
   "outputs": [
    {
     "name": "stdout",
     "output_type": "stream",
     "text": [
      "HGNIS ANHSIRK\n"
     ]
    }
   ],
   "source": [
    "#fetching substring\n",
    "s=\"KRISHNA SINGH\"\n",
    "print(s[-1::-1])"
   ]
  },
  {
   "cell_type": "code",
   "execution_count": 40,
   "id": "3a3d695a-e848-4999-96ff-2c94855fcf83",
   "metadata": {},
   "outputs": [
    {
     "name": "stdout",
     "output_type": "stream",
     "text": [
      "H\n"
     ]
    }
   ],
   "source": [
    "#fetching substring\n",
    "s=\"KRISHNA SINGH\"\n",
    "print(s[-1::1])"
   ]
  },
  {
   "cell_type": "code",
   "execution_count": 41,
   "id": "f8b08513-5da4-495c-93af-24db2dd25348",
   "metadata": {},
   "outputs": [
    {
     "name": "stdout",
     "output_type": "stream",
     "text": [
      "HGNIS ANHSIRK\n"
     ]
    }
   ],
   "source": [
    "#fetching substring\n",
    "s=\"KRISHNA SINGH\"\n",
    "print(s[12::-1])"
   ]
  },
  {
   "cell_type": "code",
   "execution_count": 45,
   "id": "fa7d730d-391b-473d-8ff0-6d44c829f0ed",
   "metadata": {},
   "outputs": [
    {
     "name": "stdout",
     "output_type": "stream",
     "text": [
      "RK\n"
     ]
    }
   ],
   "source": [
    "#fetching substring\n",
    "s=\"KRISHNA SINGH\"\n",
    "print(s[1::-1])"
   ]
  },
  {
   "cell_type": "code",
   "execution_count": 46,
   "id": "15b680f3-d75e-4744-8513-da4c8d29d643",
   "metadata": {},
   "outputs": [
    {
     "name": "stdout",
     "output_type": "stream",
     "text": [
      "RISHNA SINGH\n"
     ]
    }
   ],
   "source": [
    "#fetching substring\n",
    "s=\"KRISHNA SINGH\"\n",
    "print(s[1::1])"
   ]
  },
  {
   "cell_type": "code",
   "execution_count": 47,
   "id": "78ad91e8-35e6-4565-b5e2-98c781edf72f",
   "metadata": {},
   "outputs": [
    {
     "name": "stdout",
     "output_type": "stream",
     "text": [
      "RK\n"
     ]
    }
   ],
   "source": [
    "#fetching substring\n",
    "s=\"KRISHNA SINGH\"\n",
    "print(s[-12::-1])"
   ]
  },
  {
   "cell_type": "code",
   "execution_count": 49,
   "id": "c4e9d265-51ff-4203-81a0-175d368791d4",
   "metadata": {},
   "outputs": [
    {
     "name": "stdout",
     "output_type": "stream",
     "text": [
      "HGNIS ANHSIRK\n"
     ]
    }
   ],
   "source": [
    "#fetching substring\n",
    "s=\"KRISHNA SINGH\"\n",
    "print(s[::-1])"
   ]
  },
  {
   "cell_type": "code",
   "execution_count": 50,
   "id": "7bff2924-c81b-49b2-bad4-0fa719e8546c",
   "metadata": {},
   "outputs": [
    {
     "name": "stdout",
     "output_type": "stream",
     "text": [
      "K\n"
     ]
    }
   ],
   "source": [
    "#fetching substring\n",
    "s=\"KRISHNA SINGH\"\n",
    "print(s[0::-1])"
   ]
  },
  {
   "cell_type": "code",
   "execution_count": 57,
   "id": "071690cd-069f-4a76-a406-cbd0a84aeff8",
   "metadata": {},
   "outputs": [
    {
     "name": "stdin",
     "output_type": "stream",
     "text": [
      "Enter the number to checked :  123\n"
     ]
    },
    {
     "name": "stdout",
     "output_type": "stream",
     "text": [
      "Not a Pallindrome Number\n"
     ]
    }
   ],
   "source": [
    "#pallindrome Number\n",
    "a=input(\"Enter the number to checked : \")\n",
    "rev=a[-1::-1]\n",
    "if int(a)==int(rev):\n",
    "    print(\"Pallindrome Number\")\n",
    "else:\n",
    "    print(\"Not a Pallindrome Number\")"
   ]
  },
  {
   "cell_type": "code",
   "execution_count": 60,
   "id": "17b8b27d-aa97-4e07-91a4-b4a0a5cf8e0a",
   "metadata": {},
   "outputs": [
    {
     "name": "stdout",
     "output_type": "stream",
     "text": [
      "Hello World!\n"
     ]
    }
   ],
   "source": [
    "a=\"Hello \"\n",
    "b=\"World!\"\n",
    "c=a+b\n",
    "print(c)\n",
    "#for concatination, values should be string"
   ]
  },
  {
   "cell_type": "code",
   "execution_count": 18,
   "id": "5f1c329d-c9bf-4001-9227-4025b8bd7a45",
   "metadata": {},
   "outputs": [
    {
     "name": "stdout",
     "output_type": "stream",
     "text": [
      "Hello Hello Hello \n"
     ]
    }
   ],
   "source": [
    "a=\"Hello \"\n",
    "b=3\n",
    "c=a*b\n",
    "print(c)\n",
    "#for concatination, values should be string, but when one is integer(positive, excluding 0), \n",
    "#-it will print the string part that integer times"
   ]
  },
  {
   "cell_type": "code",
   "execution_count": 3,
   "id": "e6ad5eb9-9d47-4532-95be-e710870f2166",
   "metadata": {},
   "outputs": [
    {
     "name": "stdout",
     "output_type": "stream",
     "text": [
      "4\n"
     ]
    }
   ],
   "source": [
    "#initialization me integer hi lega\n",
    "a=2\n",
    "b=2\n",
    "c=a+b\n",
    "print(c)"
   ]
  },
  {
   "cell_type": "code",
   "execution_count": 5,
   "id": "2d875f84-b321-4333-8b7c-a6c185d8068e",
   "metadata": {},
   "outputs": [
    {
     "name": "stdin",
     "output_type": "stream",
     "text": [
      "enter a : 12\n",
      "enter b : 12\n"
     ]
    },
    {
     "name": "stdout",
     "output_type": "stream",
     "text": [
      "1212\n"
     ]
    }
   ],
   "source": [
    "#input() takes inputted values as strings\n",
    "a=input(\"enter a :\")\n",
    "b=input(\"enter b :\")\n",
    "c=a+b\n",
    "print(c)"
   ]
  },
  {
   "cell_type": "code",
   "execution_count": 7,
   "id": "8eae5845-5672-4c65-a9ca-28ca32b59076",
   "metadata": {},
   "outputs": [
    {
     "name": "stdout",
     "output_type": "stream",
     "text": [
      "1\n"
     ]
    }
   ],
   "source": [
    "a=True\n",
    "a=int(a)\n",
    "print(a)"
   ]
  },
  {
   "cell_type": "code",
   "execution_count": 9,
   "id": "d74d0f22-25c7-4306-b3ee-aff519d779b3",
   "metadata": {},
   "outputs": [
    {
     "name": "stdout",
     "output_type": "stream",
     "text": [
      "10.0\n"
     ]
    }
   ],
   "source": [
    "a=10\n",
    "a=float(a)\n",
    "print(a)"
   ]
  },
  {
   "cell_type": "code",
   "execution_count": 10,
   "id": "e1aebaf6-c95f-4dab-a00f-c6442d931d71",
   "metadata": {},
   "outputs": [
    {
     "name": "stdout",
     "output_type": "stream",
     "text": [
      "10\n"
     ]
    }
   ],
   "source": [
    "a=10.3\n",
    "a=int(a)\n",
    "print(a)"
   ]
  },
  {
   "cell_type": "code",
   "execution_count": 2,
   "id": "d8d480d2-4954-4f81-9a77-b2af2ebf9bcf",
   "metadata": {},
   "outputs": [
    {
     "name": "stdout",
     "output_type": "stream",
     "text": [
      "10.5\n"
     ]
    }
   ],
   "source": [
    "a=\"10.5\"\n",
    "a=float(a)\n",
    "print(a)\n",
    "#int(a) will not work, float(a) will work"
   ]
  },
  {
   "cell_type": "code",
   "execution_count": 15,
   "id": "2ab6e8b1-de50-4f34-ac26-cecc1db0fb7c",
   "metadata": {},
   "outputs": [
    {
     "name": "stdout",
     "output_type": "stream",
     "text": [
      "False\n"
     ]
    }
   ],
   "source": [
    "a=\"\"\n",
    "a=bool(a)\n",
    "print(a)"
   ]
  },
  {
   "cell_type": "code",
   "execution_count": 16,
   "id": "eb3abd49-169a-4f32-8585-ace686378b52",
   "metadata": {},
   "outputs": [
    {
     "name": "stdout",
     "output_type": "stream",
     "text": [
      "True\n"
     ]
    }
   ],
   "source": [
    "a=\" \"\n",
    "a=bool(a)\n",
    "print(a)"
   ]
  },
  {
   "cell_type": "code",
   "execution_count": 6,
   "id": "399c9da2-a6a4-4687-a256-71d6440cee1d",
   "metadata": {},
   "outputs": [
    {
     "name": "stdout",
     "output_type": "stream",
     "text": [
      "1\n",
      "0b1\n"
     ]
    }
   ],
   "source": [
    "#Bitwise Operators\n",
    "a=5\n",
    "b=3\n",
    "c=5&3\n",
    "print(c)\n",
    "c=bin(c)\n",
    "print(c)"
   ]
  },
  {
   "cell_type": "code",
   "execution_count": 7,
   "id": "5da74799-e439-41d2-a7bb-a902c2e2fdda",
   "metadata": {},
   "outputs": [
    {
     "name": "stdout",
     "output_type": "stream",
     "text": [
      "7\n",
      "0b111\n"
     ]
    }
   ],
   "source": [
    "#Bitwise Operators\n",
    "a=5\n",
    "b=3\n",
    "c=5|3\n",
    "print(c)\n",
    "c=bin(c)\n",
    "print(c)"
   ]
  },
  {
   "cell_type": "code",
   "execution_count": 14,
   "id": "09bea9aa-a3e1-427f-9249-61c603b2c98b",
   "metadata": {},
   "outputs": [
    {
     "name": "stdout",
     "output_type": "stream",
     "text": [
      "-6\n",
      "-0b110\n"
     ]
    }
   ],
   "source": [
    "print(~5)\n",
    "print(bin(~5))\n",
    "#2'S compliment will happen to store negative number\n",
    "#2's compliment of 12 ; method for positive numbers\n",
    "#00001100\n",
    "#-------- whole compliment\n",
    "#11110011 sign (-) ; compliment, locking the sign bit\n",
    "#10001100\n",
    "#      +1\n",
    "#-------- 2's compliment\n",
    "#10001101\n",
    "#===============================================\n",
    "#2's Cpmpliment of -7 ; Method for negative numbers\n",
    "#10000111\n",
    "#-------- compliment(locking the sign)\n",
    "#11111000\n",
    "#      +1 sign(1)\n",
    "#--------\n",
    "#11111001\n",
    "#-------- whole compliment\n",
    "#00000110\n"
   ]
  },
  {
   "cell_type": "code",
   "execution_count": 17,
   "id": "915a77a8-9a6f-4cbf-819e-9f0716d395d3",
   "metadata": {},
   "outputs": [
    {
     "name": "stdout",
     "output_type": "stream",
     "text": [
      "8\n",
      "-3\n",
      "-13\n",
      "6\n",
      "2\n",
      "-9\n",
      "-0b1101\n",
      "0b110\n"
     ]
    }
   ],
   "source": [
    "#Bitwise Operators\n",
    "a=12\n",
    "b=-7\n",
    "c=a&b\n",
    "print(c)\n",
    "c=a|b\n",
    "print(c)\n",
    "a=~a\n",
    "b=~b\n",
    "print(a)\n",
    "print(b)\n",
    "c=a&b\n",
    "print(c)\n",
    "c=a|b\n",
    "print(c)\n",
    "a=bin(a)\n",
    "b=bin(b)\n",
    "print(a)\n",
    "print(b)\n"
   ]
  },
  {
   "cell_type": "code",
   "execution_count": 18,
   "id": "6870f6d4-3f21-4f0f-a6b1-11ec324076b8",
   "metadata": {},
   "outputs": [
    {
     "name": "stdout",
     "output_type": "stream",
     "text": [
      "6\n",
      "0b110\n"
     ]
    }
   ],
   "source": [
    "#Bitwise Operators\n",
    "a=5\n",
    "b=3\n",
    "c=5^3\n",
    "print(c)\n",
    "c=bin(c)\n",
    "print(c)"
   ]
  },
  {
   "cell_type": "code",
   "execution_count": 21,
   "id": "2da06d7b-af01-4088-aad8-78a846505e0b",
   "metadata": {},
   "outputs": [
    {
     "name": "stdout",
     "output_type": "stream",
     "text": [
      "6\n",
      "0b110\n"
     ]
    }
   ],
   "source": [
    "#Bitwise Operators\n",
    "#left shift ; a<<b; right side represent number of shifts to be done and left side represent the number to be shifted\n",
    "a=3\n",
    "b=1\n",
    "c=a<<b\n",
    "print(c)\n",
    "c=bin(c)\n",
    "print(c)\n",
    "#for 3<<1\n",
    "#00000011\n",
    "#to be shifted 1 \n",
    "#00000110"
   ]
  },
  {
   "cell_type": "code",
   "execution_count": 22,
   "id": "f7322027-2b0e-4333-9980-ebcc8cdbb51e",
   "metadata": {},
   "outputs": [
    {
     "name": "stdout",
     "output_type": "stream",
     "text": [
      "12\n",
      "0b1100\n"
     ]
    }
   ],
   "source": [
    "#Bitwise Operators\n",
    "#left shift ; a<<b; right side represent number of shifts to be done and left side represent the number to be shifted\n",
    "a=3\n",
    "b=2\n",
    "c=a<<b\n",
    "print(c)\n",
    "c=bin(c)\n",
    "print(c)\n",
    "#for 3<<2\n",
    "#00000011\n",
    "#to be shifted 2 \n",
    "#00001100"
   ]
  },
  {
   "cell_type": "code",
   "execution_count": 24,
   "id": "7fbde77e-8831-4dfa-ad41-c9d496f0bc16",
   "metadata": {},
   "outputs": [
    {
     "name": "stdout",
     "output_type": "stream",
     "text": [
      "1\n",
      "0b1\n"
     ]
    }
   ],
   "source": [
    "#Bitwise Operators\n",
    "#right shift ; a<<b; right side represent number of shifts to be done and left side represent the number to be shifted\n",
    "a=3\n",
    "b=1\n",
    "c=a>>b\n",
    "print(c)\n",
    "c=bin(c)\n",
    "print(c)\n",
    "#for 3>>1\n",
    "#00000011\n",
    "#to be shifted 1 \n",
    "#00000001"
   ]
  },
  {
   "cell_type": "code",
   "execution_count": 38,
   "id": "e3fcf28a-dd37-46eb-8eeb-af9b720ee723",
   "metadata": {},
   "outputs": [
    {
     "name": "stdin",
     "output_type": "stream",
     "text": [
      "Enter a number to be multiplied 5\n"
     ]
    },
    {
     "name": "stdout",
     "output_type": "stream",
     "text": [
      "20\n"
     ]
    }
   ],
   "source": [
    "#WAPP to multiply a given number by 4 using bitwse operator\n",
    "#for multiply we use left shift and we shift the given number by power of base two of the given number\n",
    "a=int(input(\"Enter a number to be multiplied\"))\n",
    "m=a<<2\n",
    "print(m)"
   ]
  },
  {
   "cell_type": "code",
   "execution_count": 37,
   "id": "92683b43-9290-4e81-a4c1-7c6aa4f46e43",
   "metadata": {},
   "outputs": [
    {
     "name": "stdin",
     "output_type": "stream",
     "text": [
      "Enter a number to be multiplied 2\n"
     ]
    },
    {
     "name": "stdout",
     "output_type": "stream",
     "text": [
      "0b10000b1\n"
     ]
    }
   ],
   "source": [
    "#WAPP to multiply a given number by 5 using bitwse operator\n",
    "a=int(input(\"Enter a number to be multiplied\"))\n",
    "m=a<<3\n",
    "print(m)"
   ]
  },
  {
   "cell_type": "code",
   "execution_count": 39,
   "id": "af01d3cf-201b-4b6b-b0df-171dbc446ba0",
   "metadata": {},
   "outputs": [
    {
     "name": "stdout",
     "output_type": "stream",
     "text": [
      "True\n"
     ]
    }
   ],
   "source": [
    "#identity operator \n",
    "a=10\n",
    "b=10\n",
    "c=a is b\n",
    "print(c)"
   ]
  },
  {
   "cell_type": "code",
   "execution_count": 40,
   "id": "9b90ab2e-c569-478b-8bc7-2b629a82d523",
   "metadata": {},
   "outputs": [
    {
     "name": "stdout",
     "output_type": "stream",
     "text": [
      "False\n"
     ]
    }
   ],
   "source": [
    "#identity operator \n",
    "a=10\n",
    "b=12\n",
    "c=a is b\n",
    "print(c)"
   ]
  },
  {
   "cell_type": "code",
   "execution_count": 41,
   "id": "c0a80562-94bd-451e-a4fc-ca878f6c0abf",
   "metadata": {},
   "outputs": [
    {
     "name": "stdout",
     "output_type": "stream",
     "text": [
      "True\n"
     ]
    }
   ],
   "source": [
    "#identity operator \n",
    "a=10\n",
    "a=12\n",
    "c=a is a\n",
    "print(c)"
   ]
  },
  {
   "cell_type": "code",
   "execution_count": 43,
   "id": "84f158af-3da7-4f2f-afa5-8be4c7427c00",
   "metadata": {},
   "outputs": [
    {
     "name": "stdout",
     "output_type": "stream",
     "text": [
      "True\n"
     ]
    }
   ],
   "source": [
    "#identity operator \n",
    "a=10\n",
    "a=10\n",
    "c=a is a\n",
    "print(c)"
   ]
  },
  {
   "cell_type": "code",
   "execution_count": 45,
   "id": "cd0844ec-55e3-41e4-ac33-d97819c3e8fe",
   "metadata": {},
   "outputs": [
    {
     "name": "stdout",
     "output_type": "stream",
     "text": [
      "False\n",
      "False\n",
      "True\n"
     ]
    }
   ],
   "source": [
    "#List\n",
    "#use of 'in' and 'not in'\n",
    "l=[2,4,6]\n",
    "x=[2,4,6]\n",
    "print(l is x)\n",
    "print(12 in x)\n",
    "print(12 not in x)\n"
   ]
  },
  {
   "cell_type": "code",
   "execution_count": 47,
   "id": "065ce111-653d-4433-a13d-a7926aadd974",
   "metadata": {},
   "outputs": [
    {
     "name": "stdout",
     "output_type": "stream",
     "text": [
      "True\n",
      "True\n"
     ]
    }
   ],
   "source": [
    "#use of 'in' and 'not in'\n",
    "s=\"Hello\"\n",
    "print('H' in s)\n",
    "print('k' not in s)\n"
   ]
  },
  {
   "cell_type": "code",
   "execution_count": 55,
   "id": "b5d7df61-9589-4db9-820f-bc42817be88d",
   "metadata": {
    "scrolled": true
   },
   "outputs": [
    {
     "name": "stdout",
     "output_type": "stream",
     "text": [
      "True\n",
      "True\n"
     ]
    }
   ],
   "source": [
    "#use of 'in' and 'not in'\n",
    "s=\"Hello I am the President of United States of America, Donald.J.Trump.We are gpoing to drop an atomic bomb over china\"\n",
    "print('Hello I am the President' in s)\n",
    "print('Japan' not in s)"
   ]
  },
  {
   "cell_type": "code",
   "execution_count": 54,
   "id": "58ed5cf5-7778-4bfb-a44e-8f65872ccf57",
   "metadata": {},
   "outputs": [
    {
     "name": "stdout",
     "output_type": "stream",
     "text": [
      "(10+0j)\n"
     ]
    }
   ],
   "source": [
    "#use of complex()\n",
    "print(complex(10))"
   ]
  },
  {
   "cell_type": "code",
   "execution_count": 51,
   "id": "166ea386-9afc-4496-9467-fc5fdfd0e25f",
   "metadata": {},
   "outputs": [
    {
     "name": "stdout",
     "output_type": "stream",
     "text": [
      "(10.8+0j)\n"
     ]
    }
   ],
   "source": [
    "#use of complex()\n",
    "print(complex(10.8))"
   ]
  },
  {
   "cell_type": "code",
   "execution_count": 52,
   "id": "81bfcba4-c713-4408-8340-15260d33a0e0",
   "metadata": {},
   "outputs": [
    {
     "name": "stdout",
     "output_type": "stream",
     "text": [
      "(1+0j)\n"
     ]
    }
   ],
   "source": [
    "#use of complex()\n",
    "print(complex(True))"
   ]
  },
  {
   "cell_type": "code",
   "execution_count": 53,
   "id": "4c028ea4-8f48-471b-95ac-ba4de392e406",
   "metadata": {},
   "outputs": [
    {
     "name": "stdout",
     "output_type": "stream",
     "text": [
      "0j\n"
     ]
    }
   ],
   "source": [
    "#use of complex()\n",
    "print(complex(False))"
   ]
  },
  {
   "cell_type": "code",
   "execution_count": 56,
   "id": "50a31433-5b46-4429-bb0d-bf6acd2a1a75",
   "metadata": {},
   "outputs": [
    {
     "name": "stdout",
     "output_type": "stream",
     "text": [
      "(10+0j)\n"
     ]
    }
   ],
   "source": [
    "#use of complex()\n",
    "#numeric value in string can be used \n",
    "print(complex('10'))"
   ]
  },
  {
   "cell_type": "code",
   "execution_count": 57,
   "id": "bbd0796a-05d6-4b31-ba64-af2b337ac979",
   "metadata": {},
   "outputs": [
    {
     "name": "stdout",
     "output_type": "stream",
     "text": [
      "(10.8+0j)\n"
     ]
    }
   ],
   "source": [
    "#use of complex()\n",
    "#numeric value in string can be used \n",
    "print(complex('10.8'))"
   ]
  },
  {
   "cell_type": "code",
   "execution_count": 59,
   "id": "7c679e43-d95a-4c5b-b6b5-87dcb898e5a3",
   "metadata": {},
   "outputs": [
    {
     "name": "stdout",
     "output_type": "stream",
     "text": [
      "(10+3j)\n"
     ]
    }
   ],
   "source": [
    "#use of complex() \n",
    "print(complex(10,3))"
   ]
  },
  {
   "cell_type": "code",
   "execution_count": 60,
   "id": "4d5973e6-bc53-4653-a4ee-2c2a20a08a42",
   "metadata": {},
   "outputs": [
    {
     "name": "stdout",
     "output_type": "stream",
     "text": [
      "(10.3+3.2j)\n"
     ]
    }
   ],
   "source": [
    "#use of complex() \n",
    "print(complex(10.3,3.2))"
   ]
  },
  {
   "cell_type": "code",
   "execution_count": 61,
   "id": "4e38ac41-d588-47f4-b30b-44633905fcc2",
   "metadata": {},
   "outputs": [
    {
     "name": "stdout",
     "output_type": "stream",
     "text": [
      "(1+0j)\n"
     ]
    }
   ],
   "source": [
    "#use of complex() \n",
    "print(complex(True,False))"
   ]
  },
  {
   "cell_type": "code",
   "execution_count": 69,
   "id": "4e7a1113-d7c7-4407-8240-48e5b6f8cb61",
   "metadata": {},
   "outputs": [
    {
     "ename": "TypeError",
     "evalue": "complex() can't take second arg if first is a string",
     "output_type": "error",
     "traceback": [
      "\u001b[1;31m---------------------------------------------------------------------------\u001b[0m",
      "\u001b[1;31mTypeError\u001b[0m                                 Traceback (most recent call last)",
      "Cell \u001b[1;32mIn[69], line 2\u001b[0m\n\u001b[0;32m      1\u001b[0m \u001b[38;5;66;03m#use of complex() \u001b[39;00m\n\u001b[1;32m----> 2\u001b[0m \u001b[38;5;28mprint\u001b[39m(\u001b[38;5;28;43mcomplex\u001b[39;49m\u001b[43m(\u001b[49m\u001b[38;5;124;43m'\u001b[39;49m\u001b[38;5;124;43m10\u001b[39;49m\u001b[38;5;124;43m'\u001b[39;49m\u001b[43m,\u001b[49m\u001b[38;5;124;43m'\u001b[39;49m\u001b[38;5;124;43m3\u001b[39;49m\u001b[38;5;124;43m'\u001b[39;49m\u001b[43m)\u001b[49m)\n",
      "\u001b[1;31mTypeError\u001b[0m: complex() can't take second arg if first is a string"
     ]
    }
   ],
   "source": [
    "#use of complex() \n",
    "print(complex('10','3'))"
   ]
  },
  {
   "cell_type": "code",
   "execution_count": 64,
   "id": "731d61ea-f2eb-4d05-a5c9-f2aeb647a53f",
   "metadata": {},
   "outputs": [
    {
     "ename": "TypeError",
     "evalue": "complex() can't take second arg if first is a string",
     "output_type": "error",
     "traceback": [
      "\u001b[1;31m---------------------------------------------------------------------------\u001b[0m",
      "\u001b[1;31mTypeError\u001b[0m                                 Traceback (most recent call last)",
      "Cell \u001b[1;32mIn[64], line 2\u001b[0m\n\u001b[0;32m      1\u001b[0m \u001b[38;5;66;03m#use of complex() \u001b[39;00m\n\u001b[1;32m----> 2\u001b[0m \u001b[38;5;28mprint\u001b[39m(\u001b[38;5;28;43mcomplex\u001b[39;49m\u001b[43m(\u001b[49m\u001b[38;5;124;43m'\u001b[39;49m\u001b[38;5;124;43m10\u001b[39;49m\u001b[38;5;124;43m'\u001b[39;49m\u001b[43m,\u001b[49m\u001b[38;5;241;43m3\u001b[39;49m\u001b[43m)\u001b[49m)\n",
      "\u001b[1;31mTypeError\u001b[0m: complex() can't take second arg if first is a string"
     ]
    }
   ],
   "source": [
    "#use of complex() \n",
    "print(complex('10',3))"
   ]
  },
  {
   "cell_type": "code",
   "execution_count": 65,
   "id": "6dddea15-4c25-4e93-b3c6-ce60ea6b610d",
   "metadata": {},
   "outputs": [
    {
     "ename": "TypeError",
     "evalue": "complex() second arg can't be a string",
     "output_type": "error",
     "traceback": [
      "\u001b[1;31m---------------------------------------------------------------------------\u001b[0m",
      "\u001b[1;31mTypeError\u001b[0m                                 Traceback (most recent call last)",
      "Cell \u001b[1;32mIn[65], line 2\u001b[0m\n\u001b[0;32m      1\u001b[0m \u001b[38;5;66;03m#use of complex() \u001b[39;00m\n\u001b[1;32m----> 2\u001b[0m \u001b[38;5;28mprint\u001b[39m(\u001b[38;5;28;43mcomplex\u001b[39;49m\u001b[43m(\u001b[49m\u001b[38;5;241;43m10\u001b[39;49m\u001b[43m,\u001b[49m\u001b[38;5;124;43m'\u001b[39;49m\u001b[38;5;124;43m3\u001b[39;49m\u001b[38;5;124;43m'\u001b[39;49m\u001b[43m)\u001b[49m)\n",
      "\u001b[1;31mTypeError\u001b[0m: complex() second arg can't be a string"
     ]
    }
   ],
   "source": [
    "#use of complex() \n",
    "print(complex(10,'3'))"
   ]
  },
  {
   "cell_type": "code",
   "execution_count": null,
   "id": "ef25019e-e9d0-492b-90b9-7c5f38c544f3",
   "metadata": {},
   "outputs": [],
   "source": [
    "#we cannot take both values together in string"
   ]
  },
  {
   "cell_type": "code",
   "execution_count": null,
   "id": "f0b0e065-3bcc-4e9c-a090-dd12067c964f",
   "metadata": {},
   "outputs": [],
   "source": [
    "#Lists; it is a sequencial data type"
   ]
  },
  {
   "cell_type": "code",
   "execution_count": 1,
   "id": "f745845c-00a5-42fd-bb6c-6b829447f6b9",
   "metadata": {},
   "outputs": [
    {
     "name": "stdout",
     "output_type": "stream",
     "text": [
      "Hello\n"
     ]
    }
   ],
   "source": [
    "a=[2,2.3,\"Hello\"]\n",
    "print(a[-1])"
   ]
  },
  {
   "cell_type": "code",
   "execution_count": 2,
   "id": "3403046a-9849-43a9-9d78-89489cf80ee0",
   "metadata": {},
   "outputs": [
    {
     "name": "stdout",
     "output_type": "stream",
     "text": [
      "[2, 2.3, 'Hello']\n"
     ]
    }
   ],
   "source": [
    "a=[2,2.3,\"Hello\"]\n",
    "print(a[:])"
   ]
  },
  {
   "cell_type": "code",
   "execution_count": 9,
   "id": "c63b022e-501e-4bc2-ae4c-cc08ee31a817",
   "metadata": {},
   "outputs": [
    {
     "name": "stdout",
     "output_type": "stream",
     "text": [
      "['Hello', 2.3, 2]\n"
     ]
    }
   ],
   "source": [
    "a=[2,2.3,\"Hello\"]\n",
    "print(a[::-1])"
   ]
  },
  {
   "cell_type": "code",
   "execution_count": 7,
   "id": "c9c71520-f4f3-452c-a3d0-b8ff5ce10187",
   "metadata": {},
   "outputs": [
    {
     "name": "stdout",
     "output_type": "stream",
     "text": [
      "[2.3, 'Hello']\n"
     ]
    }
   ],
   "source": [
    "a=[2,2.3,\"Hello\"]\n",
    "print(a[1:3])"
   ]
  },
  {
   "cell_type": "code",
   "execution_count": 14,
   "id": "98ac7f65-06f5-473e-802b-b7acd01539e8",
   "metadata": {
    "scrolled": true
   },
   "outputs": [
    {
     "name": "stdout",
     "output_type": "stream",
     "text": [
      "[2, 2.3, 'Hello', 'Hi']\n",
      "4\n",
      "[2, 2.3, 'Hi']\n",
      "[2, 2.3, 'Hi', 2, 2.3, 'Hi']\n"
     ]
    }
   ],
   "source": [
    "#use of len() and append() and remove()\n",
    "a=[2,2.3,\"Hello\"]\n",
    "a.append('Hi')\n",
    "print(a)\n",
    "print(len(a))\n",
    "a.remove('Hello')\n",
    "print(a)\n",
    "print(a*2)"
   ]
  },
  {
   "cell_type": "code",
   "execution_count": 1,
   "id": "aaf5f79d-88b8-4a7f-9330-8f8d86efb096",
   "metadata": {},
   "outputs": [
    {
     "name": "stdout",
     "output_type": "stream",
     "text": [
      "2.5\n"
     ]
    }
   ],
   "source": [
    "#tuple\n",
    "#syntax = tuple_name(value1,vlaue2............value n) \n",
    "t=(5,2.5,'Hi')\n",
    "print(t[-2])\n"
   ]
  },
  {
   "cell_type": "code",
   "execution_count": 6,
   "id": "6f8881ef-65e1-4f73-9152-03ec59711fa2",
   "metadata": {},
   "outputs": [
    {
     "ename": "TypeError",
     "evalue": "'tuple' object does not support item assignment",
     "output_type": "error",
     "traceback": [
      "\u001b[1;31m---------------------------------------------------------------------------\u001b[0m",
      "\u001b[1;31mTypeError\u001b[0m                                 Traceback (most recent call last)",
      "Cell \u001b[1;32mIn[6], line 4\u001b[0m\n\u001b[0;32m      1\u001b[0m \u001b[38;5;66;03m#tuple\u001b[39;00m\n\u001b[0;32m      2\u001b[0m \u001b[38;5;66;03m#it is immutable\u001b[39;00m\n\u001b[0;32m      3\u001b[0m t\u001b[38;5;241m=\u001b[39m(\u001b[38;5;241m5\u001b[39m,\u001b[38;5;241m2.5\u001b[39m,\u001b[38;5;124m'\u001b[39m\u001b[38;5;124mHi\u001b[39m\u001b[38;5;124m'\u001b[39m)\n\u001b[1;32m----> 4\u001b[0m \u001b[43mt\u001b[49m\u001b[43m[\u001b[49m\u001b[38;5;241;43m0\u001b[39;49m\u001b[43m]\u001b[49m\u001b[38;5;241m=\u001b[39m\u001b[38;5;241m2\u001b[39m\n\u001b[0;32m      5\u001b[0m \u001b[38;5;28mprint\u001b[39m(t[\u001b[38;5;241m-\u001b[39m\u001b[38;5;241m2\u001b[39m])\n",
      "\u001b[1;31mTypeError\u001b[0m: 'tuple' object does not support item assignment"
     ]
    }
   ],
   "source": [
    "#tuple\n",
    "#it is immutable\n",
    "t=(5,2.5,'Hi')\n",
    "t[0]=2\n",
    "print(t[-2])"
   ]
  },
  {
   "cell_type": "code",
   "execution_count": 11,
   "id": "dfb25408-2c8f-4dfd-8c7c-ae44866b4293",
   "metadata": {},
   "outputs": [
    {
     "name": "stdout",
     "output_type": "stream",
     "text": [
      "[5, 2.5, 'Hi']\n",
      "5\n",
      "2\n",
      "(2, 2.5, 'Hi')\n"
     ]
    }
   ],
   "source": [
    "#tuple to list\n",
    "t=(5,2.5,'Hi')\n",
    "l=list(t) #converting tuple into list\n",
    "print(l)\n",
    "print(l[0])\n",
    "l[0]=2\n",
    "print(l[0])\n",
    "t=tuple(l) #converting list into tuple\n",
    "print(t)"
   ]
  },
  {
   "cell_type": "code",
   "execution_count": null,
   "id": "8b174691-6ad7-445e-aa81-a91eba2e17e3",
   "metadata": {},
   "outputs": [],
   "source": [
    "#when we use append() in tuple it will show attribute error"
   ]
  },
  {
   "cell_type": "code",
   "execution_count": 13,
   "id": "69e3709f-0211-467d-850b-40129179d8a9",
   "metadata": {},
   "outputs": [
    {
     "name": "stdout",
     "output_type": "stream",
     "text": [
      "()\n"
     ]
    }
   ],
   "source": [
    "#empty tuple\n",
    "t=()\n",
    "print(t)\n",
    "#tuple allows indexing and slicing\n",
    "#heterogenous datatype values are allowed \n",
    "#duplicate values are allowed"
   ]
  },
  {
   "cell_type": "code",
   "execution_count": null,
   "id": "0c10aaf5-b7db-4b9f-802f-b177310e094e",
   "metadata": {},
   "outputs": [],
   "source": [
    "#range(start,end,step)\n",
    "#it is immutable in nature\n",
    "#range(5) means 0 to 4"
   ]
  },
  {
   "cell_type": "code",
   "execution_count": 20,
   "id": "9d614ec5-3338-4003-8780-d9689e5341f3",
   "metadata": {},
   "outputs": [
    {
     "name": "stdout",
     "output_type": "stream",
     "text": [
      "<class 'set'>\n",
      "{1, 2, 3, 4, 5, 6, 7, 8, 9}\n",
      "{1, 2, 3, 4, 5, 6, 7, 8, 9, 60}\n",
      "{1, 2, 3, 5, 6, 7, 8, 9, 60}\n"
     ]
    }
   ],
   "source": [
    "#set_name={value1,value2...........value n}\n",
    "#different datatypes can be allowed\n",
    "#no repeated value is allowed\n",
    "#insertion order does not preserve = which means no slicing and indexing is allowed\n",
    "#mutable, but we cannot chnage the value inside it, we can increase or decrease the size of the set\n",
    "#growable\n",
    "#set is unordered datatype\n",
    "s1={2,3.5,\"Hi\"}\n",
    "print(type(s1))\n",
    "s2={1,2,3,4,5,5,6,7,8,8,9,9,9}\n",
    "print(s2)\n",
    "s2.add(60)\n",
    "print(s2)\n",
    "s2.remove(4)\n",
    "print(s2)"
   ]
  },
  {
   "cell_type": "code",
   "execution_count": 28,
   "id": "4e8d68e6-4a61-443e-b94e-a5506f247e2f",
   "metadata": {},
   "outputs": [
    {
     "name": "stdout",
     "output_type": "stream",
     "text": [
      "<class 'dict'>\n",
      "<class 'set'>\n"
     ]
    }
   ],
   "source": [
    "#empty set\n",
    "s={}\n",
    "print(type(s))\n",
    "#in order to print empty set we have to use set() function\n",
    "s=set(s)\n",
    "print(type(s))"
   ]
  },
  {
   "cell_type": "code",
   "execution_count": 29,
   "id": "11cac371-a314-41c2-bf47-e2c58fe24e29",
   "metadata": {},
   "outputs": [
    {
     "name": "stdout",
     "output_type": "stream",
     "text": [
      "<class 'set'>\n",
      "<class 'frozenset'>\n"
     ]
    }
   ],
   "source": [
    "#frozen set will disable everything which set was allowed to do\n",
    "#we cannot use add() and remove() in frozen set \n",
    "s={1,2,3,4,5,6,7,8,9}\n",
    "fs=frozenset(s)\n",
    "print(type(s))\n",
    "print(type(fs))"
   ]
  },
  {
   "cell_type": "code",
   "execution_count": 31,
   "id": "9dc863e3-b9f5-4f12-bcc4-4602ef16d90e",
   "metadata": {},
   "outputs": [
    {
     "name": "stdout",
     "output_type": "stream",
     "text": [
      "Gottham\n",
      "Dholakpur\n"
     ]
    }
   ],
   "source": [
    "#dictionary is a mapped datatype \n",
    "#d={key1:value1,key2:value2...................key(n):value(n)}\n",
    "d={'city1':'Madrid','city2':'Wakanda','city3':'Gottham','city4':'Dholakpur','city5':'Furfuri Nagar','city6':'Mouse Island'}\n",
    "print(d['city3'])\n",
    "print(d['city4'])\n",
    "#keys duplicate nahi ho sakti hai par values duplicate ho sakti hai\n",
    "#agar keys same hogi toh last wali print hogi"
   ]
  },
  {
   "cell_type": "code",
   "execution_count": 33,
   "id": "4ac20a79-beeb-4b79-8e5d-aacbe2127a29",
   "metadata": {},
   "outputs": [
    {
     "name": "stdout",
     "output_type": "stream",
     "text": [
      "{'league1': 'La Liga', 'league2': 'Premier League', 'league3': 'Bundesliga', 'league4': 'GPL'}\n",
      "Bundesliga\n",
      "GPL\n"
     ]
    }
   ],
   "source": [
    "d={'league1':'La Liga','league2':'Premier League','league3':'Bundesliga','league4':'IPL','league4':'GPL'}\n",
    "print(d)\n",
    "print(d['league3'])\n",
    "print(d['league4'])"
   ]
  },
  {
   "cell_type": "code",
   "execution_count": 35,
   "id": "0811d000-68c2-46b9-a5da-8694d60e20dc",
   "metadata": {},
   "outputs": [
    {
     "name": "stdout",
     "output_type": "stream",
     "text": [
      "{'league1': 'La Liga', 'league2': 'Premier League', 'league3': 'Bundesliga', 'league4': 'IPL', 'league5': 'IPL'}\n",
      "Bundesliga\n",
      "IPL\n"
     ]
    }
   ],
   "source": [
    "d={'league1':'La Liga','league2':'Premier League','league3':'Bundesliga','league4':'IPL','league5':'IPL'}\n",
    "print(d)\n",
    "print(d['league3'])\n",
    "print(d['league4'])"
   ]
  },
  {
   "cell_type": "code",
   "execution_count": null,
   "id": "081c4075-5c36-424d-a35d-67e682ad15fb",
   "metadata": {},
   "outputs": [],
   "source": [
    "#types to print string or types and methods to print in python"
   ]
  },
  {
   "cell_type": "code",
   "execution_count": 42,
   "id": "5e9c7950-fa8e-4e53-b0da-fc0c891f2b5d",
   "metadata": {},
   "outputs": [],
   "source": [
    "#String Functions\n",
    "#lower()\n",
    "#upper()\n",
    "#strip()\n",
    "#split()\n",
    "#join()\n",
    "#replace()\n",
    "#find()\n",
    "#startswith()\n",
    "#endswith()"
   ]
  },
  {
   "cell_type": "code",
   "execution_count": 43,
   "id": "b3557f93-c337-44ae-b3ef-f56454dca9ef",
   "metadata": {},
   "outputs": [
    {
     "name": "stdout",
     "output_type": "stream",
     "text": [
      "india is my country\n"
     ]
    }
   ],
   "source": [
    "s=\"India is my country\"\n",
    "s=s.lower()\n",
    "print(s)"
   ]
  },
  {
   "cell_type": "code",
   "execution_count": 44,
   "id": "fa8102f1-f43f-407f-bca6-2d5ba12cec5c",
   "metadata": {},
   "outputs": [
    {
     "name": "stdout",
     "output_type": "stream",
     "text": [
      "INDIA IS MY COUNTRY\n"
     ]
    }
   ],
   "source": [
    "s=\"India is my country\"\n",
    "s=s.upper()\n",
    "print(s)"
   ]
  },
  {
   "cell_type": "code",
   "execution_count": 45,
   "id": "0cc81409-00fb-4b99-be26-bce5ae61e594",
   "metadata": {},
   "outputs": [
    {
     "name": "stdout",
     "output_type": "stream",
     "text": [
      "India is my country\n"
     ]
    }
   ],
   "source": [
    "s=\" India is my country \"\n",
    "s=s.strip()\n",
    "print(s)"
   ]
  },
  {
   "cell_type": "code",
   "execution_count": 46,
   "id": "69dff7aa-8dde-46a3-a5a8-676e60df2f6c",
   "metadata": {},
   "outputs": [
    {
     "name": "stdout",
     "output_type": "stream",
     "text": [
      "['India', 'is', 'my', 'country']\n"
     ]
    }
   ],
   "source": [
    "s=\"India is my country\"\n",
    "s=s.split()\n",
    "print(s)\n",
    "#split hoke list me store hoga"
   ]
  },
  {
   "cell_type": "code",
   "execution_count": 47,
   "id": "0dd06d55-c8cc-4c4b-a600-7236e5e03f26",
   "metadata": {},
   "outputs": [
    {
     "name": "stdout",
     "output_type": "stream",
     "text": [
      "['India']\n"
     ]
    }
   ],
   "source": [
    "s=\"India\"\n",
    "s=s.split()\n",
    "print(s)"
   ]
  },
  {
   "cell_type": "code",
   "execution_count": 50,
   "id": "f073692d-65b6-4ef7-b858-da1472eee595",
   "metadata": {},
   "outputs": [
    {
     "name": "stdout",
     "output_type": "stream",
     "text": [
      "['India,is,my,country']\n"
     ]
    }
   ],
   "source": [
    "s=\"India,is,my,country\"\n",
    "s=s.split()\n",
    "print(s)"
   ]
  },
  {
   "cell_type": "code",
   "execution_count": 51,
   "id": "67909f3f-b321-496d-917a-7c722f9e15d7",
   "metadata": {},
   "outputs": [
    {
     "name": "stdout",
     "output_type": "stream",
     "text": [
      "['India', 'is', 'my', 'country']\n"
     ]
    }
   ],
   "source": [
    "s=\"India,is,my,country\"\n",
    "s=s.split(',')\n",
    "print(s)"
   ]
  },
  {
   "cell_type": "code",
   "execution_count": 55,
   "id": "66cdecc1-70fa-4431-91d6-0ebc22ef40ff",
   "metadata": {},
   "outputs": [
    {
     "name": "stdout",
     "output_type": "stream",
     "text": [
      "India is my country\n"
     ]
    }
   ],
   "source": [
    "l=[\"India\",\"is\",\"my\",\"country\"]\n",
    "s=\" \".join(l)\n",
    "print(s)"
   ]
  },
  {
   "cell_type": "code",
   "execution_count": 60,
   "id": "b6dfa720-d911-462e-96c9-b6878454205b",
   "metadata": {},
   "outputs": [
    {
     "name": "stdout",
     "output_type": "stream",
     "text": [
      "I-n-d-i-a- -i-s- -m-y- -c-o-u-n-t-r-y\n"
     ]
    }
   ],
   "source": [
    "s=\"India is my country\"\n",
    "s=\"-\".join(s)\n",
    "print(s)"
   ]
  },
  {
   "cell_type": "code",
   "execution_count": 63,
   "id": "eae94ebd-b7e7-480e-a372-d236ccab3066",
   "metadata": {},
   "outputs": [
    {
     "name": "stdout",
     "output_type": "stream",
     "text": [
      "I-n-d-i-a\n",
      "I:-:n:-:d:-:i:-:a\n"
     ]
    }
   ],
   "source": [
    "s=\"India\"\n",
    "s=\"-\".join(s)\n",
    "print(s)"
   ]
  },
  {
   "cell_type": "code",
   "execution_count": 62,
   "id": "c7370ae3-a54a-420f-935c-fef6cbf50d97",
   "metadata": {},
   "outputs": [
    {
     "name": "stdout",
     "output_type": "stream",
     "text": [
      "India is my country\n"
     ]
    }
   ],
   "source": [
    "t=(\"India\",\"is\",\"my\",\"country\")\n",
    "s=\" \".join(l)\n",
    "print(s)"
   ]
  },
  {
   "cell_type": "code",
   "execution_count": 64,
   "id": "6ed3e90b-f51d-4b64-b752-33f6eb770719",
   "metadata": {},
   "outputs": [
    {
     "name": "stdout",
     "output_type": "stream",
     "text": [
      "I:n:d:i:a\n"
     ]
    }
   ],
   "source": [
    "s=\"India\"\n",
    "s=\":\".join(s)\n",
    "print(s)"
   ]
  },
  {
   "cell_type": "code",
   "execution_count": 65,
   "id": "c242c860-9504-46eb-934f-bb4b39307f96",
   "metadata": {},
   "outputs": [
    {
     "ename": "TypeError",
     "evalue": "sequence item 0: expected str instance, int found",
     "output_type": "error",
     "traceback": [
      "\u001b[1;31m---------------------------------------------------------------------------\u001b[0m",
      "\u001b[1;31mTypeError\u001b[0m                                 Traceback (most recent call last)",
      "Cell \u001b[1;32mIn[65], line 2\u001b[0m\n\u001b[0;32m      1\u001b[0m s\u001b[38;5;241m=\u001b[39m\u001b[38;5;124m\"\u001b[39m\u001b[38;5;124mIndia\u001b[39m\u001b[38;5;124m\"\u001b[39m\n\u001b[1;32m----> 2\u001b[0m s\u001b[38;5;241m=\u001b[39m\u001b[38;5;124;43m\"\u001b[39;49m\u001b[38;5;124;43m:\u001b[39;49m\u001b[38;5;124;43m\"\u001b[39;49m\u001b[38;5;241;43m.\u001b[39;49m\u001b[43mjoin\u001b[49m\u001b[43m(\u001b[49m\u001b[38;5;28;43mrange\u001b[39;49m\u001b[43m(\u001b[49m\u001b[38;5;241;43m3\u001b[39;49m\u001b[43m)\u001b[49m\u001b[43m)\u001b[49m\n\u001b[0;32m      3\u001b[0m \u001b[38;5;28mprint\u001b[39m(s)\n",
      "\u001b[1;31mTypeError\u001b[0m: sequence item 0: expected str instance, int found"
     ]
    }
   ],
   "source": [
    "s=\"India\"\n",
    "s=\":\".join(range(3))\n",
    "print(s)\n",
    "#join function sirf string par chalega"
   ]
  },
  {
   "cell_type": "code",
   "execution_count": 68,
   "id": "d60ee90d-68be-46c4-bf0b-51df50b8505a",
   "metadata": {},
   "outputs": [
    {
     "name": "stdout",
     "output_type": "stream",
     "text": [
      "In sooth i know not why i am so happy\n"
     ]
    }
   ],
   "source": [
    "s=\"In sooth i know not why i am so sad\"\n",
    "s=s.replace(\"sad\",\"happy\")\n",
    "print(s)"
   ]
  },
  {
   "cell_type": "code",
   "execution_count": 74,
   "id": "baadf0c4-a706-448d-ba46-f3e3a0abe05e",
   "metadata": {},
   "outputs": [
    {
     "name": "stdout",
     "output_type": "stream",
     "text": [
      "*\n"
     ]
    }
   ],
   "source": [
    "s=\"In sooth i know not why i am so sad\"\n",
    "s=s.replace(\"In sooth i know not why i am so sad\",\"*\")\n",
    "print(s)"
   ]
  },
  {
   "cell_type": "code",
   "execution_count": 75,
   "id": "31ac0ac5-08e2-4820-8970-344a1da1216e",
   "metadata": {},
   "outputs": [
    {
     "name": "stdout",
     "output_type": "stream",
     "text": [
      "In*sooth*i*know*not*why*i*am*so*sad\n"
     ]
    }
   ],
   "source": [
    "s=\"In sooth i know not why i am so sad\"\n",
    "s=s.replace(\" \",\"*\")\n",
    "print(s)"
   ]
  },
  {
   "cell_type": "code",
   "execution_count": 76,
   "id": "a6acf33b-6c85-4ae3-95a2-a5aa9b3b2004",
   "metadata": {},
   "outputs": [
    {
     "name": "stdout",
     "output_type": "stream",
     "text": [
      "3\n"
     ]
    }
   ],
   "source": [
    "s=\"In sooth i know not why i am so sad\"\n",
    "s=s.find(\"sooth\")\n",
    "print(s)"
   ]
  },
  {
   "cell_type": "code",
   "execution_count": 77,
   "id": "57168bd6-0de5-46b9-9534-e3082937fb69",
   "metadata": {},
   "outputs": [
    {
     "name": "stdout",
     "output_type": "stream",
     "text": [
      "2\n"
     ]
    }
   ],
   "source": [
    "s=\"In sooth i know not why i am so sad\"\n",
    "s=s.find(\" \")\n",
    "print(s)\n",
    "#repeat me first occurance wala dega"
   ]
  },
  {
   "cell_type": "code",
   "execution_count": 78,
   "id": "65129217-8d6e-475e-af0b-9d18cd870d54",
   "metadata": {},
   "outputs": [
    {
     "name": "stdout",
     "output_type": "stream",
     "text": [
      "-1\n"
     ]
    }
   ],
   "source": [
    "s=\"In sooth i know not why i am so sad\"\n",
    "s=s.find(\"Antonio\")\n",
    "print(s)"
   ]
  },
  {
   "cell_type": "code",
   "execution_count": 79,
   "id": "bd3d8e81-571d-4eeb-a342-265c8c286106",
   "metadata": {},
   "outputs": [
    {
     "name": "stdout",
     "output_type": "stream",
     "text": [
      "26\n"
     ]
    }
   ],
   "source": [
    "s=\"In sooth i know not why i am so sad\"\n",
    "s=s.find(\"a\")\n",
    "print(s)"
   ]
  },
  {
   "cell_type": "code",
   "execution_count": 80,
   "id": "bd55a61b-1d62-4048-be9c-366376fb98d6",
   "metadata": {},
   "outputs": [
    {
     "name": "stdout",
     "output_type": "stream",
     "text": [
      "False\n"
     ]
    }
   ],
   "source": [
    "s=\"In sooth i know not why i am so sad\"\n",
    "s=s.startswith(\"sooth\")\n",
    "print(s)"
   ]
  },
  {
   "cell_type": "code",
   "execution_count": 82,
   "id": "f08ca4ca-3f01-45d5-8002-bfc7a45c76f5",
   "metadata": {},
   "outputs": [
    {
     "name": "stdout",
     "output_type": "stream",
     "text": [
      "True\n"
     ]
    }
   ],
   "source": [
    "s=\"In sooth i know not why i am so sad\"\n",
    "s=s.startswith(\"In\")\n",
    "print(s)"
   ]
  },
  {
   "cell_type": "code",
   "execution_count": 84,
   "id": "b7bbf157-6a0e-47e0-8cb3-02423531c61f",
   "metadata": {},
   "outputs": [
    {
     "name": "stdout",
     "output_type": "stream",
     "text": [
      "False\n"
     ]
    }
   ],
   "source": [
    "s=\"In sooth i know not why i am so sad\"\n",
    "s=s.endswith(\"sooth\")\n",
    "print(s)"
   ]
  },
  {
   "cell_type": "code",
   "execution_count": 86,
   "id": "119f9e5e-8a31-4147-90a3-c1aff2afec13",
   "metadata": {},
   "outputs": [
    {
     "name": "stdout",
     "output_type": "stream",
     "text": [
      "True\n"
     ]
    }
   ],
   "source": [
    "s=\"In sooth i know not why i am so sad\"\n",
    "s=s.endswith(\"sad\")\n",
    "print(s)"
   ]
  },
  {
   "cell_type": "code",
   "execution_count": 58,
   "id": "e3e98d37-a4e8-47b9-b1c6-beb5da61a76f",
   "metadata": {},
   "outputs": [
    {
     "name": "stdin",
     "output_type": "stream",
     "text": [
      "Enter the number to checked :  121\n"
     ]
    },
    {
     "name": "stdout",
     "output_type": "stream",
     "text": [
      "Pallindrome Number\n"
     ]
    }
   ],
   "source": [
    "#pallindrome Number\n",
    "a=input(\"Enter the number to checked : \")\n",
    "rev=a[-1::-1]\n",
    "if int(a)==int(rev):\n",
    "    print(\"Pallindrome Number\")\n",
    "else:\n",
    "    print(\"Not a Pallindrome Number\")"
   ]
  },
  {
   "cell_type": "code",
   "execution_count": 2,
   "id": "a11ec785-544e-4fb9-ae5d-05e5a287d2a4",
   "metadata": {},
   "outputs": [
    {
     "name": "stdout",
     "output_type": "stream",
     "text": [
      "nohtyP\n"
     ]
    }
   ],
   "source": [
    "#revrsed function\n",
    "s=\"Python\"\n",
    "print(\"\".join(reversed(s)))"
   ]
  },
  {
   "cell_type": "code",
   "execution_count": 89,
   "id": "e6dd97ed-c87e-47cf-a9f0-099e2b1bc62d",
   "metadata": {},
   "outputs": [
    {
     "name": "stdout",
     "output_type": "stream",
     "text": [
      "1\n"
     ]
    }
   ],
   "source": [
    "s=\"In sooth i know not why i am so sad\"\n",
    "s=s.count(\"sooth\")\n",
    "print(s)"
   ]
  },
  {
   "cell_type": "code",
   "execution_count": 93,
   "id": "aee1e0a5-0a6f-43f8-b8a4-95654553ee00",
   "metadata": {},
   "outputs": [
    {
     "name": "stdout",
     "output_type": "stream",
     "text": [
      "4\n"
     ]
    }
   ],
   "source": [
    "s=\"Old MacDonald had a farm E I E I O, and on that farm he had a dog E I E I O\"\n",
    "s=s.count(\"E\")\n",
    "print(s)"
   ]
  },
  {
   "cell_type": "code",
   "execution_count": 6,
   "id": "335d80cb-7885-45ea-8511-87a99b415b33",
   "metadata": {},
   "outputs": [
    {
     "data": {
      "text/plain": [
       "12"
      ]
     },
     "execution_count": 6,
     "metadata": {},
     "output_type": "execute_result"
    }
   ],
   "source": [
    "#find() function\n",
    "#syntax :- (substring,start,end)\n",
    "#if it will find the substring, \n",
    "#it returns the index at which we find that substring and if it doesn't find it, \n",
    "#it will return -1\n",
    "#we cannot use minus indexing in the start and end section, to replace it we have rfind() and rindex() functions\n",
    "s=\"Python is a noob language\"\n",
    "s.find('noob',0,18)"
   ]
  },
  {
   "cell_type": "code",
   "execution_count": 5,
   "id": "81be537c-a47d-4b56-9591-4726c997e49c",
   "metadata": {},
   "outputs": [
    {
     "data": {
      "text/plain": [
       "-1"
      ]
     },
     "execution_count": 5,
     "metadata": {},
     "output_type": "execute_result"
    }
   ],
   "source": [
    "s=\"Python is a noob language\"\n",
    "s.find('noob',0,7)"
   ]
  },
  {
   "cell_type": "code",
   "execution_count": 7,
   "id": "9fab5f57-6860-44d4-893f-7da389fbed58",
   "metadata": {},
   "outputs": [
    {
     "data": {
      "text/plain": [
       "12"
      ]
     },
     "execution_count": 7,
     "metadata": {},
     "output_type": "execute_result"
    }
   ],
   "source": [
    "s=\"Python is a noob language\"\n",
    "s.find('noob',0,len(s))"
   ]
  },
  {
   "cell_type": "code",
   "execution_count": 8,
   "id": "fe6a8f8f-d3a9-49ae-862b-6c8d90452958",
   "metadata": {},
   "outputs": [
    {
     "data": {
      "text/plain": [
       "12"
      ]
     },
     "execution_count": 8,
     "metadata": {},
     "output_type": "execute_result"
    }
   ],
   "source": [
    "s=\"Python is a noob language\"\n",
    "s.rfind('noob',0,18)"
   ]
  },
  {
   "cell_type": "code",
   "execution_count": 9,
   "id": "a10c2259-a90f-4e96-8c5a-00e2649fa752",
   "metadata": {},
   "outputs": [
    {
     "data": {
      "text/plain": [
       "12"
      ]
     },
     "execution_count": 9,
     "metadata": {},
     "output_type": "execute_result"
    }
   ],
   "source": [
    "s=\"Python is a noob language\"\n",
    "s.rfind('noob',0,len(s))"
   ]
  },
  {
   "cell_type": "code",
   "execution_count": 10,
   "id": "7d4be981-4845-4178-a42f-3ce713720d29",
   "metadata": {},
   "outputs": [
    {
     "data": {
      "text/plain": [
       "-1"
      ]
     },
     "execution_count": 10,
     "metadata": {},
     "output_type": "execute_result"
    }
   ],
   "source": [
    "s=\"Python is a noob language\"\n",
    "s.rfind('noob',0,7)"
   ]
  },
  {
   "cell_type": "code",
   "execution_count": 11,
   "id": "2196eae3-4d31-45fa-8e36-6164e0812552",
   "metadata": {},
   "outputs": [
    {
     "data": {
      "text/plain": [
       "12"
      ]
     },
     "execution_count": 11,
     "metadata": {},
     "output_type": "execute_result"
    }
   ],
   "source": [
    "s=\"Python is a noob language\"\n",
    "s.index('noob',0,18)"
   ]
  },
  {
   "cell_type": "code",
   "execution_count": 12,
   "id": "17589e14-166f-4a48-a529-cb77df8dc532",
   "metadata": {},
   "outputs": [
    {
     "ename": "ValueError",
     "evalue": "substring not found",
     "output_type": "error",
     "traceback": [
      "\u001b[1;31m---------------------------------------------------------------------------\u001b[0m",
      "\u001b[1;31mValueError\u001b[0m                                Traceback (most recent call last)",
      "Cell \u001b[1;32mIn[12], line 2\u001b[0m\n\u001b[0;32m      1\u001b[0m s\u001b[38;5;241m=\u001b[39m\u001b[38;5;124m\"\u001b[39m\u001b[38;5;124mPython is a noob language\u001b[39m\u001b[38;5;124m\"\u001b[39m\n\u001b[1;32m----> 2\u001b[0m \u001b[43ms\u001b[49m\u001b[38;5;241;43m.\u001b[39;49m\u001b[43mindex\u001b[49m\u001b[43m(\u001b[49m\u001b[38;5;124;43m'\u001b[39;49m\u001b[38;5;124;43mnoob\u001b[39;49m\u001b[38;5;124;43m'\u001b[39;49m\u001b[43m,\u001b[49m\u001b[38;5;241;43m0\u001b[39;49m\u001b[43m,\u001b[49m\u001b[38;5;241;43m7\u001b[39;49m\u001b[43m)\u001b[49m\n",
      "\u001b[1;31mValueError\u001b[0m: substring not found"
     ]
    }
   ],
   "source": [
    "s=\"Python is a noob language\"\n",
    "s.index('noob',0,7)"
   ]
  },
  {
   "cell_type": "code",
   "execution_count": 13,
   "id": "ad960dfe-722e-4cfb-9504-87b5cc12c4c1",
   "metadata": {},
   "outputs": [
    {
     "data": {
      "text/plain": [
       "12"
      ]
     },
     "execution_count": 13,
     "metadata": {},
     "output_type": "execute_result"
    }
   ],
   "source": [
    "s=\"Python is a noob language\"\n",
    "s.rindex('noob',0,18)"
   ]
  },
  {
   "cell_type": "code",
   "execution_count": 14,
   "id": "26376fb7-246e-4b07-bc83-6f25ad9fef75",
   "metadata": {},
   "outputs": [
    {
     "data": {
      "text/plain": [
       "12"
      ]
     },
     "execution_count": 14,
     "metadata": {},
     "output_type": "execute_result"
    }
   ],
   "source": [
    "s=\"Python is a noob language\"\n",
    "s.rindex('noob',0,len(s))\n",
    "#find() was also made, while we had index() because if returns -1 if the substring is not found unlike index() which gives error"
   ]
  },
  {
   "cell_type": "code",
   "execution_count": 19,
   "id": "12ad4807-5651-4049-b70b-801e133c8f68",
   "metadata": {},
   "outputs": [
    {
     "name": "stdout",
     "output_type": "stream",
     "text": [
      "PYTHON IS A NOOB LANGUAGE\n",
      "Python is a noob language\n",
      "Python Is A Noob Language\n"
     ]
    }
   ],
   "source": [
    "s=\"python is a noob language\"\n",
    "s.rindex('noob',0,len(s))\n",
    "s=s.swapcase() #sabka case alter kar dega\n",
    "print(s)\n",
    "s=s.capitalize() #it will capitalize only the \n",
    "print(s)\n",
    "s=s.title() #it will capitalize every first letter of the word\n",
    "print(s)"
   ]
  },
  {
   "cell_type": "code",
   "execution_count": 20,
   "id": "388db65a-a532-4dd5-9b5e-8ca382c6a557",
   "metadata": {},
   "outputs": [],
   "source": [
    "#s.isalpha()\n",
    "#s.idigit()\n",
    "#s.isalnum() e.g. B1     \n",
    "#s.isalpha()\n",
    "#s.ispace()"
   ]
  },
  {
   "cell_type": "code",
   "execution_count": 13,
   "id": "8dbf802b-a79b-4d71-bf7a-b7cdcfd84d3f",
   "metadata": {},
   "outputs": [],
   "source": [
    "#                       _________CONTROL STATEMENT________\n",
    "#                      |                |                |\n",
    "#              decision making      iterative       transfer/jump\n",
    "#out of multiple conditions if we want single decision, we use elif\n",
    "#if is used for the trueness of the given condition\n",
    "#else is used for falseness of the give condition\n",
    "#every block in control statement starts with a colon\n",
    "#syntax of if :=\n",
    "#if condition:\n",
    "#             statement_1\n",
    "#             statement_n\n",
    "#*watch out for indentation\n"
   ]
  },
  {
   "cell_type": "code",
   "execution_count": 14,
   "id": "71cea118-aa85-4620-b99f-1d336a1f1b64",
   "metadata": {},
   "outputs": [
    {
     "name": "stdin",
     "output_type": "stream",
     "text": [
      "Enter a character : Z\n"
     ]
    },
    {
     "name": "stdout",
     "output_type": "stream",
     "text": [
      "Character is a Consonent\n"
     ]
    }
   ],
   "source": [
    "#WAPP to check if a given character is a vowel or not?\n",
    "c=str(input(\"Enter a character :\"))\n",
    "if(c=='A' or c=='E'or c=='I' or c=='O' or c=='U' or c=='a' or c=='e'or c=='i' or c=='o' or c=='u'):\n",
    "    print(\"Character is a Vowel\")\n",
    "else:\n",
    "    print(\"Character is a Consonent\") "
   ]
  },
  {
   "cell_type": "code",
   "execution_count": 15,
   "id": "ae091f72-11c4-4d8f-924d-10db51167109",
   "metadata": {},
   "outputs": [
    {
     "name": "stdin",
     "output_type": "stream",
     "text": [
      "Enter a character : A\n"
     ]
    },
    {
     "name": "stdout",
     "output_type": "stream",
     "text": [
      "Vowel\n"
     ]
    }
   ],
   "source": [
    "#using sequential dtatype. e.g. Lists\n",
    "a=str(input(\"Enter a character :\"))\n",
    "l=['a','e','i','o','u','A','E','I','O','U']\n",
    "if(a in l):\n",
    "    print(\"Vowel\")\n",
    "else:\n",
    "    print(\"Consonent\")"
   ]
  },
  {
   "cell_type": "code",
   "execution_count": 16,
   "id": "a5bc7fa1-e64e-4337-8ffa-f5abe1883374",
   "metadata": {},
   "outputs": [
    {
     "name": "stdin",
     "output_type": "stream",
     "text": [
      "Enter a character : Z\n"
     ]
    },
    {
     "name": "stdout",
     "output_type": "stream",
     "text": [
      "Consonent\n"
     ]
    }
   ],
   "source": [
    "#using sequential dtatype. e.g. Lists\n",
    "a=str(input(\"Enter a character :\"))\n",
    "l=['a','e','i','o','u','A','E','I','O','U']\n",
    "if(a in l):\n",
    "    print(\"Vowel\")\n",
    "else:\n",
    "    print(\"Consonent\")"
   ]
  },
  {
   "cell_type": "code",
   "execution_count": 18,
   "id": "522a818e-9dc6-4439-8a37-cb0b2a4637f2",
   "metadata": {},
   "outputs": [
    {
     "name": "stdin",
     "output_type": "stream",
     "text": [
      "Enter a character : A\n"
     ]
    },
    {
     "name": "stdout",
     "output_type": "stream",
     "text": [
      "Vowel\n"
     ]
    }
   ],
   "source": [
    "#using string\n",
    "a=str(input(\"Enter a character :\"))\n",
    "if(a in l):\n",
    "    print(\"Vowel\")\n",
    "else:\n",
    "    print(\"Consonent\")"
   ]
  },
  {
   "cell_type": "code",
   "execution_count": 19,
   "id": "0f8beee9-ce41-477d-9f55-7fbfd0e8e3bc",
   "metadata": {},
   "outputs": [
    {
     "name": "stdin",
     "output_type": "stream",
     "text": [
      "Enter a character : Z\n"
     ]
    },
    {
     "name": "stdout",
     "output_type": "stream",
     "text": [
      "Consonent\n"
     ]
    }
   ],
   "source": [
    "#using string\n",
    "a=str(input(\"Enter a character :\"))\n",
    "if(a in l):\n",
    "    print(\"Vowel\")\n",
    "else:\n",
    "    print(\"Consonent\")"
   ]
  },
  {
   "cell_type": "code",
   "execution_count": null,
   "id": "ac69286a-ac82-434f-b52c-6c3a81cc22bb",
   "metadata": {},
   "outputs": [],
   "source": [
    "#WAPP to find number of Vowels in the string\n",
    "a=str(input(\"Enter a character :\"))\n",
    "l=s.len()\n",
    "for i in range \n",
    "if(a in l):\n",
    "    c++"
   ]
  },
  {
   "cell_type": "code",
   "execution_count": 5,
   "id": "358b33fc-1f0e-4c35-8cc2-26a5482f0468",
   "metadata": {},
   "outputs": [
    {
     "name": "stdin",
     "output_type": "stream",
     "text": [
      "Enter a number 4\n"
     ]
    },
    {
     "name": "stdout",
     "output_type": "stream",
     "text": [
      "+4\n"
     ]
    }
   ],
   "source": [
    "#WAPP to change a given nmuber into it's absolute number if it is negative\n",
    "n=int(input(\"Enter a number\"))\n",
    "if(n<0):\n",
    "    n=abs(n)\n",
    "    print(\"+\",n)\n",
    "else:\n",
    "    print(\"+\",n,sep=\"\")\n",
    "#abs() is not given in Math Library"
   ]
  },
  {
   "cell_type": "code",
   "execution_count": 4,
   "id": "8c24a103-9da3-47e8-9e82-acb924dd85dd",
   "metadata": {},
   "outputs": [
    {
     "name": "stdin",
     "output_type": "stream",
     "text": [
      "Enter a number -4\n"
     ]
    },
    {
     "name": "stdout",
     "output_type": "stream",
     "text": [
      "+4\n"
     ]
    }
   ],
   "source": [
    "#WAPP to change a given nmuber into it's absolute number if it is negative\n",
    "n=int(input(\"Enter a number\"))\n",
    "if(n<0):\n",
    "    n=abs(n)\n",
    "    print(\"+\",n,sep=\"\")\n",
    "else:\n",
    "    print(\"+\",n,sep=\"\")"
   ]
  },
  {
   "cell_type": "code",
   "execution_count": 8,
   "id": "6294205c-8566-4574-85d4-3724219f49df",
   "metadata": {},
   "outputs": [
    {
     "name": "stdin",
     "output_type": "stream",
     "text": [
      "Enter a number -4\n"
     ]
    },
    {
     "name": "stdout",
     "output_type": "stream",
     "text": [
      "+4\n"
     ]
    }
   ],
   "source": [
    "#WAPP to change a given nmuber into it's absolute number if it is negative\n",
    "#using {:+d} trick, this is used to print a number with sign\n",
    "n=int(input(\"Enter a number\"))\n",
    "if(n<0):\n",
    "    n=abs(n)\n",
    "    print(f\"{abs(n):+d}\")\n",
    "else:\n",
    "    print(f\"{abs(n):+d}\")"
   ]
  },
  {
   "cell_type": "code",
   "execution_count": 18,
   "id": "59475982-dcbf-4fba-a419-3d7c135440f6",
   "metadata": {},
   "outputs": [
    {
     "name": "stdin",
     "output_type": "stream",
     "text": [
      "Enter a number -4\n"
     ]
    },
    {
     "name": "stdout",
     "output_type": "stream",
     "text": [
      "+4\n"
     ]
    }
   ],
   "source": [
    "#WAPP to change a given nmuber into it's absolute number if it is negative\n",
    "#using {:+d} trick, this is used to print a number with sign, for negative => {:-d}\n",
    "#using absolute function to print\n",
    "n=int(input(\"Enter a number\"))\n",
    "if(n<0):\n",
    "    n=abs(n)\n",
    "    print(\"{:+d}\".format(abs(n)))\n",
    "else:\n",
    "    print(\"{:+d}\".format(abs(n)))"
   ]
  },
  {
   "cell_type": "code",
   "execution_count": null,
   "id": "6092e526-c7a7-43fb-804e-005382adfde6",
   "metadata": {},
   "outputs": [],
   "source": [
    "#if(condition):\n",
    "#|    statements\n",
    "#|\n",
    "#else:\n",
    "#     statements"
   ]
  },
  {
   "cell_type": "code",
   "execution_count": 16,
   "id": "4a74520b-07ea-406e-a823-e34730977b5a",
   "metadata": {},
   "outputs": [
    {
     "name": "stdin",
     "output_type": "stream",
     "text": [
      " 12:34:54\n",
      " 1:34:54\n"
     ]
    },
    {
     "name": "stdout",
     "output_type": "stream",
     "text": [
      "14:9:48\n"
     ]
    }
   ],
   "source": [
    "#WAPP to add two given times\n",
    "t1=input()\n",
    "t2=input()\n",
    "l1=t1.split(':')\n",
    "l2=t2.split(':')\n",
    "l1[0]=int(l1[0])\n",
    "h1=l1[0]\n",
    "l1[1]=int(l1[1])\n",
    "m1=l1[1]\n",
    "l1[2]=int(l1[2])\n",
    "s1=l1[2]\n",
    "l2[0]=int(l2[0])\n",
    "h2=l2[0]\n",
    "l2[1]=int(l2[1])\n",
    "m2=l2[1]\n",
    "l2[2]=int(l2[2])\n",
    "s2=l2[2]\n",
    "s=s1+s2\n",
    "m=m1+m2\n",
    "h=h1+h2\n",
    "if(s>=60):\n",
    "    s=s-60\n",
    "    m=m+1\n",
    "if(m>=60):\n",
    "    m=m-60\n",
    "    h=h+1\n",
    "if(h>=24):\n",
    "    h=h-24\n",
    "    print(\"Next Day\",h,m,s,sep=\":\")\n",
    "else:\n",
    "    print(h,m,s,sep=\":\")"
   ]
  },
  {
   "cell_type": "code",
   "execution_count": 17,
   "id": "a32f8d2b-b3fe-4f30-94f0-b964efa1f438",
   "metadata": {},
   "outputs": [
    {
     "name": "stdin",
     "output_type": "stream",
     "text": [
      " 23:45:54\n",
      " 15:43:32\n"
     ]
    },
    {
     "name": "stdout",
     "output_type": "stream",
     "text": [
      "Next Day:15:29:26\n"
     ]
    }
   ],
   "source": [
    "#WAPP to add two given times\n",
    "t1=input()\n",
    "t2=input()\n",
    "l1=t1.split(':')\n",
    "l2=t2.split(':')\n",
    "l1[0]=int(l1[0])\n",
    "h1=l1[0]\n",
    "l1[1]=int(l1[1])\n",
    "m1=l1[1]\n",
    "l1[2]=int(l1[2])\n",
    "s1=l1[2]\n",
    "l2[0]=int(l2[0])\n",
    "h2=l2[0]\n",
    "l2[1]=int(l2[1])\n",
    "m2=l2[1]\n",
    "l2[2]=int(l2[2])\n",
    "s2=l2[2]\n",
    "s=s1+s2\n",
    "m=m1+m2\n",
    "h=h1+h2\n",
    "if(s>=60):\n",
    "    s=s-60\n",
    "    m=m+1\n",
    "if(m>=60):\n",
    "    m=m-60\n",
    "    h=h+1\n",
    "if(h>=24):\n",
    "    h=h-24\n",
    "    print(\"Next Day\",h,m,s,sep=\":\")\n",
    "else:\n",
    "    print(h,m,s,sep=\":\")"
   ]
  },
  {
   "cell_type": "code",
   "execution_count": 18,
   "id": "e2fcd901-40e7-44a8-847c-907917656dec",
   "metadata": {},
   "outputs": [
    {
     "name": "stdin",
     "output_type": "stream",
     "text": [
      "enter a digit 2\n"
     ]
    },
    {
     "name": "stdout",
     "output_type": "stream",
     "text": [
      "two\n"
     ]
    }
   ],
   "source": [
    "#WAPP to enter a single digit in integer and print it's eqivalent word\n",
    "l=['zero','one','two','three','four','five','six','seven','eight','nine']\n",
    "n=input(\"enter a digit\")\n",
    "n=int(n)\n",
    "print(l[n])"
   ]
  },
  {
   "cell_type": "code",
   "execution_count": 17,
   "id": "ddfb8026-ddfd-459b-a16b-cad74df59daa",
   "metadata": {},
   "outputs": [
    {
     "name": "stdin",
     "output_type": "stream",
     "text": [
      "enter a digit 8758\n"
     ]
    },
    {
     "name": "stdout",
     "output_type": "stream",
     "text": [
      "eight seven five eight "
     ]
    }
   ],
   "source": [
    "#converting each digit into it's equivalent word\n",
    "l=['zero','one','two','three','four','five','six','seven','eight','nine']\n",
    "n=input(\"enter a digit\")\n",
    "for i in range(len(n)):\n",
    "    s=int(n[i])\n",
    "    print(l[s],end=\" \")"
   ]
  },
  {
   "cell_type": "code",
   "execution_count": null,
   "id": "d3838982-e097-4b1f-8560-75f2714ccc89",
   "metadata": {},
   "outputs": [],
   "source": [
    "#converting each digit into it's equivalent word\n",
    "#iske neeche isko bina loop ke karna hai\n",
    "l=['zero','one','two','three','four','five','six','seven','eight','nine']\n",
    "n=input(\"enter a digit\")\n",
    "for i in range(len(n)):\n",
    "    s=int(n[i])\n",
    "    print(l[s],end=\" \")"
   ]
  },
  {
   "cell_type": "code",
   "execution_count": null,
   "id": "a037f57a-6dea-49dc-b605-a0d57068c27d",
   "metadata": {},
   "outputs": [],
   "source": [
    "#finding the greatest number using nested if\n",
    "a=int(input(a))\n",
    "b=int(input(b))\n",
    "c=int(input(c))\n"
   ]
  },
  {
   "cell_type": "code",
   "execution_count": 4,
   "id": "2e497e06-8038-4b0d-ace6-babcb184d708",
   "metadata": {},
   "outputs": [
    {
     "name": "stdin",
     "output_type": "stream",
     "text": [
      "Enter the Age 16\n",
      "Enter the wight 13\n",
      " no\n",
      " A+\n"
     ]
    },
    {
     "name": "stdout",
     "output_type": "stream",
     "text": [
      "no\n"
     ]
    }
   ],
   "source": [
    "#donor\n",
    "#ye wala question tameez me phirse karna hai\n",
    "a=int(input(\"Enter the Age\"))\n",
    "w=int(input(\"Enter the wight\"))\n",
    "d=input()\n",
    "e=input()\n",
    "if(a>=18):\n",
    "    if(w>=50):\n",
    "        if(d==\"no\"):\n",
    "            if(e!=\"O-\"):\n",
    "                print(\"yes\")\n",
    "else:\n",
    "    print(\"no\")     "
   ]
  },
  {
   "cell_type": "code",
   "execution_count": 3,
   "id": "3cb46e4b-9150-498f-87ba-dfa8c021bf4b",
   "metadata": {},
   "outputs": [
    {
     "name": "stdin",
     "output_type": "stream",
     "text": [
      " 23\n",
      " 12\n",
      " 34\n"
     ]
    },
    {
     "name": "stdout",
     "output_type": "stream",
     "text": [
      "b is smallest\n"
     ]
    }
   ],
   "source": [
    "a=int(input())\n",
    "b=int(input())\n",
    "c=int(input())\n",
    "min=print(\"a is smallest\") if(a<b and a<c) else print(\"b is smallest\") if(b<a and b<c) else print(\"c is smallest\") if(c<a and c<b) else print(\"Equal\")"
   ]
  },
  {
   "cell_type": "code",
   "execution_count": 6,
   "id": "c628320c-8e4d-4d08-a155-f890e78cfb9f",
   "metadata": {},
   "outputs": [
    {
     "name": "stdout",
     "output_type": "stream",
     "text": [
      "P and y and t and h and o and n and "
     ]
    }
   ],
   "source": [
    "#we have only while and do while loops in Python\n",
    "#iterative statements are used to operate a block or statement number of times\n",
    "#iterable means jispe operation iteration wale perform hote hain\n",
    "#syntax of while => while (condition):\n",
    "#                           statements\n",
    "s='Python'\n",
    "i=0\n",
    "while(i<len(s)):\n",
    "    print(s[i],end=\" and \")\n",
    "    i=i+1"
   ]
  },
  {
   "cell_type": "code",
   "execution_count": 8,
   "id": "185048ce-0509-4893-ab19-b44013dbbe64",
   "metadata": {},
   "outputs": [
    {
     "name": "stdout",
     "output_type": "stream",
     "text": [
      "1 is odd\n",
      "3 is odd\n",
      "5 is odd\n",
      "7 is odd\n",
      "9 is odd\n",
      "11 is odd\n",
      "13 is odd\n",
      "15 is odd\n",
      "17 is odd\n",
      "19 is odd\n",
      "21 is odd\n",
      "23 is odd\n",
      "25 is odd\n",
      "27 is odd\n",
      "29 is odd\n",
      "31 is odd\n",
      "33 is odd\n",
      "35 is odd\n",
      "37 is odd\n",
      "39 is odd\n",
      "41 is odd\n",
      "43 is odd\n",
      "45 is odd\n",
      "47 is odd\n",
      "49 is odd\n",
      "51 is odd\n",
      "53 is odd\n",
      "55 is odd\n",
      "57 is odd\n",
      "59 is odd\n",
      "61 is odd\n",
      "63 is odd\n",
      "65 is odd\n",
      "67 is odd\n",
      "69 is odd\n",
      "71 is odd\n",
      "73 is odd\n",
      "75 is odd\n",
      "77 is odd\n",
      "79 is odd\n",
      "81 is odd\n",
      "83 is odd\n",
      "85 is odd\n",
      "87 is odd\n",
      "89 is odd\n",
      "91 is odd\n",
      "93 is odd\n",
      "95 is odd\n",
      "97 is odd\n",
      "99 is odd\n"
     ]
    }
   ],
   "source": [
    "#WAPP to print all odd numbers from first 100 natural numbers\n",
    "i=1\n",
    "while(i<=100):\n",
    "    if(i%2!=0):\n",
    "        print(i,\"is odd\")\n",
    "    i=i+1"
   ]
  },
  {
   "cell_type": "code",
   "execution_count": 12,
   "id": "7f3ef341-e37b-4ae0-888a-7674dc5aa920",
   "metadata": {},
   "outputs": [
    {
     "name": "stdout",
     "output_type": "stream",
     "text": [
      "2 is even\n",
      "4 is even\n",
      "6 is even\n",
      "8 is even\n",
      "10 is even\n",
      "12 is even\n",
      "14 is even\n",
      "16 is even\n",
      "18 is even\n",
      "20 is even\n",
      "22 is even\n",
      "24 is even\n",
      "26 is even\n",
      "28 is even\n",
      "30 is even\n",
      "32 is even\n",
      "34 is even\n",
      "36 is even\n",
      "38 is even\n",
      "40 is even\n",
      "42 is even\n",
      "44 is even\n",
      "46 is even\n",
      "48 is even\n",
      "50 is even\n",
      "52 is even\n",
      "54 is even\n",
      "56 is even\n",
      "58 is even\n",
      "60 is even\n",
      "62 is even\n",
      "64 is even\n",
      "66 is even\n",
      "68 is even\n",
      "70 is even\n",
      "72 is even\n",
      "74 is even\n",
      "76 is even\n",
      "78 is even\n",
      "80 is even\n",
      "82 is even\n",
      "84 is even\n",
      "86 is even\n",
      "88 is even\n",
      "90 is even\n",
      "92 is even\n",
      "94 is even\n",
      "96 is even\n",
      "98 is even\n",
      "100 is even\n"
     ]
    }
   ],
   "source": [
    "#WAPP to print all odd numbers from first 100 natural numbers\n",
    "i=1\n",
    "while(i<=100):\n",
    "    if(i%2==0):\n",
    "        print(i,\"is even\")\n",
    "    i=i+1"
   ]
  },
  {
   "cell_type": "code",
   "execution_count": 1,
   "id": "0eafc2d3-9540-4f9d-bc6b-b916ba84d8cb",
   "metadata": {},
   "outputs": [
    {
     "name": "stdin",
     "output_type": "stream",
     "text": [
      "enter astring qwerty\n"
     ]
    },
    {
     "name": "stdout",
     "output_type": "stream",
     "text": [
      "ytrewq"
     ]
    }
   ],
   "source": [
    "#WAPP to reverse a string using while loop\n",
    "s=input(\"enter astring\")\n",
    "i=len(s)\n",
    "i=i-1\n",
    "while(i>=0):\n",
    "    print(s[i],end=\"\")\n",
    "    i=i-1"
   ]
  },
  {
   "cell_type": "code",
   "execution_count": 3,
   "id": "63418909-1e77-4909-80a7-70a228d1e03c",
   "metadata": {},
   "outputs": [
    {
     "name": "stdin",
     "output_type": "stream",
     "text": [
      "enter a number 5\n"
     ]
    },
    {
     "name": "stdout",
     "output_type": "stream",
     "text": [
      "Factorial of the given number is 120\n"
     ]
    }
   ],
   "source": [
    "#WAPP to find factorial of a number\n",
    "a=int(input(\"enter a number\"))\n",
    "if(a==0):\n",
    "    print(\"Factorial of the given number is 1\")\n",
    "elif(a>0):\n",
    "    s=1\n",
    "    i=a\n",
    "    while(i>=1):\n",
    "        s=s*i\n",
    "        i=i-1\n",
    "    print(\"Factorial of the given number is\",s)\n",
    "else:\n",
    "    print(\"cannot find factorial of the negative number\")\n"
   ]
  },
  {
   "cell_type": "code",
   "execution_count": 4,
   "id": "b32c9a8b-7403-4cd8-b956-716441db9044",
   "metadata": {},
   "outputs": [
    {
     "name": "stdin",
     "output_type": "stream",
     "text": [
      "enter a number 0\n"
     ]
    },
    {
     "name": "stdout",
     "output_type": "stream",
     "text": [
      "Factorial of the given number is 1\n"
     ]
    }
   ],
   "source": [
    "#WAPP to find factorial of a number\n",
    "a=int(input(\"enter a number\"))\n",
    "if(a==0):\n",
    "    print(\"Factorial of the given number is 1\")\n",
    "elif(a>0):\n",
    "    s=1\n",
    "    i=a\n",
    "    while(i>=1):\n",
    "        s=s*i\n",
    "        i=i-1\n",
    "    print(\"Factorial of the given number is\",s)\n",
    "else:\n",
    "    print(\"cannot find factorial of the negative number\")"
   ]
  },
  {
   "cell_type": "code",
   "execution_count": 5,
   "id": "3f0bb3ed-0f6a-430f-97e8-df34c34677c2",
   "metadata": {
    "scrolled": true
   },
   "outputs": [
    {
     "name": "stdin",
     "output_type": "stream",
     "text": [
      "enter a number -9\n"
     ]
    },
    {
     "name": "stdout",
     "output_type": "stream",
     "text": [
      "cannot find factorial of the negative number\n"
     ]
    }
   ],
   "source": [
    "#WAPP to find factorial of a number\n",
    "a=int(input(\"enter a number\"))\n",
    "if(a==0):\n",
    "    print(\"Factorial of the given number is 1\")\n",
    "elif(a>0):\n",
    "    s=1\n",
    "    i=a\n",
    "    while(i>=1):\n",
    "        s=s*i\n",
    "        i=i-1\n",
    "    print(\"Factorial of the given number is\",s)\n",
    "else:\n",
    "    print(\"cannot find factorial of the negative number\")"
   ]
  },
  {
   "cell_type": "code",
   "execution_count": 10,
   "id": "4b70f0e7-1796-49dd-8700-6094664ec3c1",
   "metadata": {},
   "outputs": [
    {
     "name": "stdin",
     "output_type": "stream",
     "text": [
      "enter a number 121\n"
     ]
    },
    {
     "name": "stdout",
     "output_type": "stream",
     "text": [
      "pallindrome number\n"
     ]
    }
   ],
   "source": [
    "#WAPP to check whether a number is pallimdrome or not\n",
    "s=input(\"enter a number\")\n",
    "i=len(s)\n",
    "i=i-1\n",
    "r=0\n",
    "while(i>=0):\n",
    "    n=int(s[i])\n",
    "    r=(r*10)+n\n",
    "    i=i-1\n",
    "s=int(s)\n",
    "if(r==s):\n",
    "    print(\"pallindrome number\")\n",
    "else:\n",
    "    print(\"not a pallindrome number\")\n"
   ]
  },
  {
   "cell_type": "code",
   "execution_count": 9,
   "id": "0fa52457-47fa-46c9-a342-b4de6d86c709",
   "metadata": {},
   "outputs": [
    {
     "name": "stdin",
     "output_type": "stream",
     "text": [
      "enter a number 123\n"
     ]
    },
    {
     "name": "stdout",
     "output_type": "stream",
     "text": [
      "not a pallindrome number\n"
     ]
    }
   ],
   "source": [
    "#WAPP to check whether a number is pallimdrome or not\n",
    "#if we are dividing two numbers using / operator, we will get the answer in decimals. \n",
    "#But if we want the answers in approx integer form, we will use // operator (floor value of the float)\n",
    "s=input(\"enter a number\")\n",
    "i=len(s)\n",
    "i=i-1\n",
    "r=0\n",
    "while(i>=0):\n",
    "    n=int(s[i])\n",
    "    r=(r*10)+n\n",
    "    i=i-1\n",
    "s=int(s)\n",
    "if(r==s):\n",
    "    print(\"pallindrome number\")\n",
    "else:\n",
    "    print(\"not a pallindrome number\")"
   ]
  },
  {
   "cell_type": "code",
   "execution_count": 45,
   "id": "f93030dd-575b-4100-92a7-8b836c12c025",
   "metadata": {},
   "outputs": [
    {
     "name": "stdin",
     "output_type": "stream",
     "text": [
      "enter the limit 10\n"
     ]
    },
    {
     "name": "stdout",
     "output_type": "stream",
     "text": [
      "Fibonacci Series of 10 is : 0 1 1 2 3 5 8 13 21 34 "
     ]
    }
   ],
   "source": [
    "#WAPP to print Fibonacci Series\n",
    "n=int(input(\"enter the limit\"))\n",
    "print(\"Fibonacci Series of\",n,\"is :\",end=' ')\n",
    "a=0\n",
    "b=1\n",
    "print(a,end=' ')\n",
    "print(b,end=' ')\n",
    "q=a+b\n",
    "i=0\n",
    "while(i<n-2):\n",
    "    print(q,end=' ')\n",
    "    a=b;\n",
    "    b=q;\n",
    "    q=a+b\n",
    "    i=i+1                             "
   ]
  },
  {
   "cell_type": "code",
   "execution_count": 48,
   "id": "d8cc43c1-a786-40a2-ae50-01dea8748e67",
   "metadata": {},
   "outputs": [
    {
     "name": "stdout",
     "output_type": "stream",
     "text": [
      "1\n",
      "10\n",
      "2\n",
      "20\n",
      "3\n",
      "30\n"
     ]
    }
   ],
   "source": [
    "#we use while loop instead of for loop in those conditions where we don't know the number of iterations we need to perform\n",
    "#syntax of for => for variable in sequence_type:\n",
    "#                        statements\n",
    "#if we use dictionary in for loop, it will give or print in terms of keys\n",
    "d={1:10,2:20,3:30}\n",
    "for i in d:\n",
    "    print(i) #keys de raha hai\n",
    "    print(d[i]) #keys ki values de raha hai"
   ]
  },
  {
   "cell_type": "code",
   "execution_count": 52,
   "id": "7444c11c-9be3-4220-8988-1b6f8ec1bcc8",
   "metadata": {},
   "outputs": [
    {
     "name": "stdout",
     "output_type": "stream",
     "text": [
      "11\n",
      "21\n",
      "31\n",
      "41\n",
      "51\n"
     ]
    }
   ],
   "source": [
    "#for used in terms of lists\n",
    "l=[11,21,31,41,51]\n",
    "for i in l:\n",
    "    print(i)"
   ]
  },
  {
   "cell_type": "code",
   "execution_count": 3,
   "id": "da2b7a8e-037e-4fd1-9c6b-5f5e866bf672",
   "metadata": {},
   "outputs": [
    {
     "name": "stdin",
     "output_type": "stream",
     "text": [
      "enter a number 13\n"
     ]
    },
    {
     "name": "stdout",
     "output_type": "stream",
     "text": [
      "prime\n"
     ]
    }
   ],
   "source": [
    "#WAPP to print if a number is a prime ao not\n",
    "n=int(input(\"enter a number\"))\n",
    "c=0\n",
    "for i in range (1,n+1):\n",
    "    if(n%i==0):\n",
    "        c=c+1\n",
    "if(c==2):\n",
    "    print(\"prime\")\n",
    "else:\n",
    "    print(\"not prime\")"
   ]
  },
  {
   "cell_type": "code",
   "execution_count": 10,
   "id": "388f968a-e53b-4c63-976c-7bb4a0c29fc8",
   "metadata": {},
   "outputs": [
    {
     "name": "stdout",
     "output_type": "stream",
     "text": [
      "0\n",
      "1\n",
      "2\n",
      "3\n",
      "4\n",
      "5\n",
      "ho gaya print\n"
     ]
    }
   ],
   "source": [
    "#pyhton me for loop ke saath else likh sakte hain\n",
    "for i in range(6):\n",
    "    print(i)\n",
    "else:\n",
    "    print(\"ho gaya print\")"
   ]
  },
  {
   "cell_type": "code",
   "execution_count": 24,
   "id": "ed9da364-be58-4cae-80da-094bb72f517c",
   "metadata": {},
   "outputs": [
    {
     "name": "stdin",
     "output_type": "stream",
     "text": [
      "enter number of rows 5\n",
      "enter number of columns 6\n"
     ]
    },
    {
     "name": "stdout",
     "output_type": "stream",
     "text": [
      "* \n",
      "* * \n",
      "* * * \n",
      "* * * * \n",
      "* * * * * \n",
      "* * * * * * \n"
     ]
    }
   ],
   "source": [
    "#print right angled triangle\n",
    "r=int(input(\"enter number of rows\"))\n",
    "c=int(input(\"enter number of columns\"))\n",
    "for i in range(r+1):\n",
    "    for j in range(i+1):\n",
    "        print(\"*\",end=' ')\n",
    "    print()"
   ]
  },
  {
   "cell_type": "code",
   "execution_count": 34,
   "id": "d2dbb3ab-807f-4728-91c3-40e7361f6afb",
   "metadata": {},
   "outputs": [
    {
     "name": "stdin",
     "output_type": "stream",
     "text": [
      "enter number of rows 5\n",
      "enter number of columns 5\n"
     ]
    },
    {
     "name": "stdout",
     "output_type": "stream",
     "text": [
      "a \n",
      "b c \n",
      "d e f \n",
      "g h i j \n",
      "k l m n o \n",
      "p q r s t u \n"
     ]
    }
   ],
   "source": [
    "r=int(input(\"enter number of rows\"))\n",
    "c=int(input(\"enter number of columns\"))\n",
    "a=97\n",
    "for i in range(r+1):\n",
    "    for j in range(i+1):\n",
    "        print(chr(a),end=' ')\n",
    "        a=a+1\n",
    "    print()"
   ]
  },
  {
   "cell_type": "code",
   "execution_count": 37,
   "id": "ac830f55-fbec-4d7f-b002-686f52cab79b",
   "metadata": {},
   "outputs": [
    {
     "name": "stdin",
     "output_type": "stream",
     "text": [
      "enter number of rows 5\n",
      "enter number of columns 5\n"
     ]
    },
    {
     "name": "stdout",
     "output_type": "stream",
     "text": [
      "1 \n",
      "0 1 \n",
      "1 0 1 \n",
      "0 1 0 1 \n",
      "1 0 1 0 1 \n",
      "0 1 0 1 0 1 \n"
     ]
    }
   ],
   "source": [
    "r=int(input(\"enter number of rows\"))\n",
    "c=int(input(\"enter number of columns\"))\n",
    "a=97\n",
    "for i in range(r+1):\n",
    "    for j in range(i+1):\n",
    "        if((i+j)%2==0):\n",
    "            print(\"1\",end=' ')\n",
    "        else:\n",
    "            print(\"0\",end=' ')\n",
    "    print()"
   ]
  },
  {
   "cell_type": "code",
   "execution_count": 38,
   "id": "73091d81-ead2-4c37-9925-dde60efdad84",
   "metadata": {},
   "outputs": [
    {
     "name": "stdin",
     "output_type": "stream",
     "text": [
      "enter number of rows 5\n",
      "enter number of columns 5\n"
     ]
    },
    {
     "name": "stdout",
     "output_type": "stream",
     "text": [
      "0 \n",
      "1 0 \n",
      "0 1 0 \n",
      "1 0 1 0 \n",
      "0 1 0 1 0 \n",
      "1 0 1 0 1 0 \n"
     ]
    }
   ],
   "source": [
    "r=int(input(\"enter number of rows\"))\n",
    "c=int(input(\"enter number of columns\"))\n",
    "a=97\n",
    "for i in range(r+1):\n",
    "    for j in range(i+1):\n",
    "        if((i+j)%2==0):\n",
    "            print(\"0\",end=' ')\n",
    "        else:\n",
    "            print(\"1\",end=' ')\n",
    "    print()"
   ]
  },
  {
   "cell_type": "code",
   "execution_count": 48,
   "id": "75580820-459e-4a81-b061-07e2bb67a70d",
   "metadata": {},
   "outputs": [
    {
     "name": "stdin",
     "output_type": "stream",
     "text": [
      "enter number 5\n"
     ]
    },
    {
     "name": "stdout",
     "output_type": "stream",
     "text": [
      "        * \n",
      "      * * \n",
      "    * * * \n",
      "  * * * * \n",
      "* * * * * \n"
     ]
    }
   ],
   "source": [
    "n=int(input(\"enter number\"))\n",
    "for i in range(0,n):\n",
    "    for j in range(0,n-i-1):\n",
    "        print(\" \",end=' ')\n",
    "    for k in range(0,i+1):\n",
    "        print(\"*\",end=' ')\n",
    "    print()"
   ]
  },
  {
   "cell_type": "code",
   "execution_count": 49,
   "id": "4563bad3-027f-4f77-b1dc-b14732511bac",
   "metadata": {},
   "outputs": [
    {
     "name": "stdin",
     "output_type": "stream",
     "text": [
      "enter number 5\n"
     ]
    },
    {
     "name": "stdout",
     "output_type": "stream",
     "text": [
      "        * \n",
      "      * * * \n",
      "    * * * * * \n",
      "  * * * * * * * \n",
      "* * * * * * * * * \n"
     ]
    }
   ],
   "source": [
    "n=int(input(\"enter number\"))\n",
    "for i in range(0,n):\n",
    "    for j in range(0,n-i-1):\n",
    "        print(\" \",end=' ')\n",
    "    for k in range(0,2*i+1):\n",
    "        print(\"*\",end=' ')\n",
    "    print()"
   ]
  },
  {
   "cell_type": "code",
   "execution_count": 2,
   "id": "53a6f881-93a3-4684-a0b8-292e4e5346da",
   "metadata": {},
   "outputs": [
    {
     "name": "stdin",
     "output_type": "stream",
     "text": [
      "enter number 3\n"
     ]
    },
    {
     "name": "stdout",
     "output_type": "stream",
     "text": [
      "    * \n",
      "  * * * \n",
      "* * * * * \n"
     ]
    }
   ],
   "source": [
    "#to print diamond\n",
    "n=int(input(\"enter number\"))\n",
    "for i in range(0,n):\n",
    "    for j in range(0,n-i-1):\n",
    "        print(\" \",end=' ')\n",
    "    for k in range(0,2*i+1):\n",
    "        print(\"*\",end=' ')\n",
    "    print()\n",
    "for i in range(n-1,0):\n",
    "    for j in range(n-i-2,0):\n",
    "        print(\" \",end=' ')\n",
    "        j=j-1\n",
    "    for k in range(2*i+1,0):\n",
    "        print(\"*\",end=' ')\n",
    "        k=k-1\n",
    "    print()"
   ]
  },
  {
   "cell_type": "code",
   "execution_count": null,
   "id": "d6e59e7d-857e-43bc-96a9-90ca1248eb6c",
   "metadata": {},
   "outputs": [],
   "source": [
    "#to print pascal's triangle"
   ]
  },
  {
   "cell_type": "code",
   "execution_count": 1,
   "id": "30d74256-f442-4a04-8bbb-0d7daa5a683e",
   "metadata": {},
   "outputs": [
    {
     "name": "stdin",
     "output_type": "stream",
     "text": [
      "enter the name hehe\n",
      "enter the name hoho\n",
      "enter the name thank you\n"
     ]
    }
   ],
   "source": [
    "for i in range(9999999999999):\n",
    "    a=input(\"enter the name\")\n",
    "    if(a==\"thank you\"):\n",
    "        break"
   ]
  },
  {
   "cell_type": "code",
   "execution_count": null,
   "id": "8be9a2c5-35f4-4512-9d85-23a7923b8436",
   "metadata": {},
   "outputs": [],
   "source": [
    "#Functions in Python\n",
    "#syntax =>   def function_name(value):\n",
    "#                          statements\n",
    "#            function_name(value)\n",
    "#def is a keyword that defines the function\n",
    "#*invoking=actual arguments\n",
    "#"
   ]
  },
  {
   "cell_type": "code",
   "execution_count": 20,
   "id": "9eac8b2c-b366-4bcc-8b5d-5587eb774046",
   "metadata": {
    "scrolled": true
   },
   "outputs": [
    {
     "name": "stdout",
     "output_type": "stream",
     "text": [
      "welcome\n"
     ]
    }
   ],
   "source": [
    "def demo():\n",
    "    print(\"welcome\")\n",
    "demo()"
   ]
  },
  {
   "cell_type": "code",
   "execution_count": 19,
   "id": "4d64d5fc-12a5-4913-af45-f3912aa2537f",
   "metadata": {},
   "outputs": [
    {
     "name": "stdout",
     "output_type": "stream",
     "text": [
      "welcome\n",
      "None\n"
     ]
    }
   ],
   "source": [
    "def demo():\n",
    "    print(\"welcome\")\n",
    "print(demo())"
   ]
  },
  {
   "cell_type": "code",
   "execution_count": 1,
   "id": "533bd96e-b028-4b2c-891f-e2b632a87233",
   "metadata": {},
   "outputs": [
    {
     "name": "stdout",
     "output_type": "stream",
     "text": [
      "welcome\n",
      "99\n"
     ]
    }
   ],
   "source": [
    "def demo():\n",
    "    print(\"welcome\")\n",
    "    return(99)\n",
    "print(demo())"
   ]
  },
  {
   "cell_type": "code",
   "execution_count": 5,
   "id": "be08624f-1df5-4285-a33d-6a4ceaf9408b",
   "metadata": {},
   "outputs": [
    {
     "name": "stdout",
     "output_type": "stream",
     "text": [
      "welcome\n",
      "haleluiyah\n"
     ]
    }
   ],
   "source": [
    "def demo():\n",
    "    print(\"welcome\")\n",
    "    return(\"haleluiyah\")\n",
    "print(demo())"
   ]
  },
  {
   "cell_type": "code",
   "execution_count": 52,
   "id": "282df62c-13a6-4404-8378-5174f1811d60",
   "metadata": {},
   "outputs": [
    {
     "name": "stdin",
     "output_type": "stream",
     "text": [
      "enter a number 5\n"
     ]
    },
    {
     "ename": "RecursionError",
     "evalue": "maximum recursion depth exceeded",
     "output_type": "error",
     "traceback": [
      "\u001b[1;31m---------------------------------------------------------------------------\u001b[0m",
      "\u001b[1;31mRecursionError\u001b[0m                            Traceback (most recent call last)",
      "Cell \u001b[1;32mIn[52], line 11\u001b[0m\n\u001b[0;32m      9\u001b[0m          \u001b[38;5;28mprint\u001b[39m(Fib(n)\u001b[38;5;241m+\u001b[39mFib(n\u001b[38;5;241m+\u001b[39m\u001b[38;5;241m1\u001b[39m))\n\u001b[0;32m     10\u001b[0m a\u001b[38;5;241m=\u001b[39m\u001b[38;5;28mint\u001b[39m(\u001b[38;5;28minput\u001b[39m(\u001b[38;5;124m\"\u001b[39m\u001b[38;5;124menter a number\u001b[39m\u001b[38;5;124m\"\u001b[39m))\n\u001b[1;32m---> 11\u001b[0m \u001b[38;5;28mprint\u001b[39m(\u001b[43mFib\u001b[49m\u001b[43m(\u001b[49m\u001b[43ma\u001b[49m\u001b[43m)\u001b[49m)\n",
      "Cell \u001b[1;32mIn[52], line 9\u001b[0m, in \u001b[0;36mFib\u001b[1;34m(n)\u001b[0m\n\u001b[0;32m      7\u001b[0m     \u001b[38;5;28mprint\u001b[39m(\u001b[38;5;241m1\u001b[39m)\n\u001b[0;32m      8\u001b[0m \u001b[38;5;28;01melse\u001b[39;00m:\n\u001b[1;32m----> 9\u001b[0m      \u001b[38;5;28mprint\u001b[39m(\u001b[43mFib\u001b[49m\u001b[43m(\u001b[49m\u001b[43mn\u001b[49m\u001b[43m)\u001b[49m\u001b[38;5;241m+\u001b[39mFib(n\u001b[38;5;241m+\u001b[39m\u001b[38;5;241m1\u001b[39m))\n",
      "Cell \u001b[1;32mIn[52], line 9\u001b[0m, in \u001b[0;36mFib\u001b[1;34m(n)\u001b[0m\n\u001b[0;32m      7\u001b[0m     \u001b[38;5;28mprint\u001b[39m(\u001b[38;5;241m1\u001b[39m)\n\u001b[0;32m      8\u001b[0m \u001b[38;5;28;01melse\u001b[39;00m:\n\u001b[1;32m----> 9\u001b[0m      \u001b[38;5;28mprint\u001b[39m(\u001b[43mFib\u001b[49m\u001b[43m(\u001b[49m\u001b[43mn\u001b[49m\u001b[43m)\u001b[49m\u001b[38;5;241m+\u001b[39mFib(n\u001b[38;5;241m+\u001b[39m\u001b[38;5;241m1\u001b[39m))\n",
      "    \u001b[1;31m[... skipping similar frames: Fib at line 9 (2974 times)]\u001b[0m\n",
      "Cell \u001b[1;32mIn[52], line 9\u001b[0m, in \u001b[0;36mFib\u001b[1;34m(n)\u001b[0m\n\u001b[0;32m      7\u001b[0m     \u001b[38;5;28mprint\u001b[39m(\u001b[38;5;241m1\u001b[39m)\n\u001b[0;32m      8\u001b[0m \u001b[38;5;28;01melse\u001b[39;00m:\n\u001b[1;32m----> 9\u001b[0m      \u001b[38;5;28mprint\u001b[39m(\u001b[43mFib\u001b[49m\u001b[43m(\u001b[49m\u001b[43mn\u001b[49m\u001b[43m)\u001b[49m\u001b[38;5;241m+\u001b[39mFib(n\u001b[38;5;241m+\u001b[39m\u001b[38;5;241m1\u001b[39m))\n",
      "\u001b[1;31mRecursionError\u001b[0m: maximum recursion depth exceeded"
     ]
    }
   ],
   "source": [
    "def Fib(n):\n",
    "    if n<=0:\n",
    "        print(\"Incorrect input\")   \n",
    "    elif n==0:\n",
    "        print(0)\n",
    "    elif n==1:\n",
    "        print(1)\n",
    "    else:\n",
    "         print(Fib(n)+Fib(n+1))\n",
    "a=int(input(\"enter a number\"))\n",
    "print(Fib(a))"
   ]
  },
  {
   "cell_type": "code",
   "execution_count": 13,
   "id": "75d5b7e5-cce6-4a14-b6e4-fd1ed525c538",
   "metadata": {},
   "outputs": [
    {
     "name": "stdin",
     "output_type": "stream",
     "text": [
      " 4\n",
      " 4\n"
     ]
    },
    {
     "name": "stdout",
     "output_type": "stream",
     "text": [
      "values of x and y are : 4 and 4\n",
      "the values of a and b are : 4 and 4 and it's product is 16\n"
     ]
    }
   ],
   "source": [
    "def operation(a,b):\n",
    "    print(\"the values of a and b are :\",a,\"and\",b,end='')\n",
    "    return a*b\n",
    "x=int(input())\n",
    "y=int(input())\n",
    "print(\"values of x and y are :\",x,\"and\",y)\n",
    "print(\" and it's product is\",operation(x,y))"
   ]
  },
  {
   "cell_type": "code",
   "execution_count": 15,
   "id": "1ec92ae4-8a61-499c-9aa1-0c8bf2ab4490",
   "metadata": {},
   "outputs": [
    {
     "name": "stdin",
     "output_type": "stream",
     "text": [
      " 12\n",
      " 23\n"
     ]
    },
    {
     "name": "stdout",
     "output_type": "stream",
     "text": [
      "(276, 35)\n"
     ]
    }
   ],
   "source": [
    "def sample(a,b):\n",
    "    a1=a*b\n",
    "    a2=a+b\n",
    "    return a1,a2\n",
    "x=int(input())\n",
    "y=int(input())\n",
    "print(sample(x,y))"
   ]
  },
  {
   "cell_type": "code",
   "execution_count": 16,
   "id": "a621a2f5-61a0-4584-add7-3ecf36895e55",
   "metadata": {},
   "outputs": [
    {
     "name": "stdin",
     "output_type": "stream",
     "text": [
      " 45\n",
      " 56\n"
     ]
    },
    {
     "name": "stdout",
     "output_type": "stream",
     "text": [
      "2520\n",
      "101\n"
     ]
    }
   ],
   "source": [
    "def sample(a,b):\n",
    "    a1=a*b\n",
    "    a2=a+b\n",
    "    return a1,a2\n",
    "x=int(input())\n",
    "y=int(input())\n",
    "x,y=sample(x,y)\n",
    "print(x)\n",
    "print(y)\n"
   ]
  },
  {
   "cell_type": "code",
   "execution_count": 2,
   "id": "ec2ef17e-8550-44fa-8713-41434f022806",
   "metadata": {},
   "outputs": [
    {
     "name": "stdout",
     "output_type": "stream",
     "text": [
      "Enter the number to perform operation\n",
      "1 for Addition\n",
      "2 for Substraction\n",
      "3 for Multiplication\n",
      "4 for Division\n"
     ]
    },
    {
     "name": "stdin",
     "output_type": "stream",
     "text": [
      " 1\n"
     ]
    },
    {
     "name": "stdout",
     "output_type": "stream",
     "text": [
      "Enter the Numbers\n"
     ]
    },
    {
     "name": "stdin",
     "output_type": "stream",
     "text": [
      " 12\n",
      " 23\n",
      " 34\n",
      " 45\n",
      " 56\n",
      " 67\n",
      " 78\n",
      " 89\n",
      " 90\n",
      " =\n"
     ]
    },
    {
     "name": "stdout",
     "output_type": "stream",
     "text": [
      "The sum of given Numbers is : 494\n"
     ]
    }
   ],
   "source": [
    "#calculator\n",
    "def add(a):\n",
    "    global summ\n",
    "    if(a!='='):\n",
    "        a=int(a)\n",
    "        summ=summ+a\n",
    "    else:\n",
    "        print(\"The sum of given Numbers is :\",end=' ')\n",
    "        print(summ)\n",
    "def sub(s):\n",
    "    global diff\n",
    "    if(s!='='):\n",
    "        s=int(s)\n",
    "        diff=diff-s\n",
    "    else:\n",
    "        print(\"The substraction of given Numbers is :\",end=' ')\n",
    "        print(diff)\n",
    "def mul(p):\n",
    "    global prod\n",
    "    if(p!='='):\n",
    "        p=int(p)\n",
    "        prod=prod*p\n",
    "    else:\n",
    "        print(\"The Multiplication of given Numbers is :\",end=' ')\n",
    "        print(prod)\n",
    "def div(d):\n",
    "    global divv\n",
    "    if(d!='='):\n",
    "        d=int(d)\n",
    "        divv=divv/d\n",
    "    else:\n",
    "        print(\"The Division of given Numbers is :\",end=' ')\n",
    "        print(divv)\n",
    "print('''Enter the number to perform operation\n",
    "1 for Addition\n",
    "2 for Substraction\n",
    "3 for Multiplication\n",
    "4 for Division''')\n",
    "n=int(input())\n",
    "if(n==1):\n",
    "      summ=0\n",
    "      print(\"Enter the Numbers\")\n",
    "      q=input()\n",
    "      add(q)\n",
    "      while(q!=\"=\"):\n",
    "          q=input()\n",
    "          add(q)\n",
    "if(n==2):\n",
    "      diff=0\n",
    "      print(\"Enter the Numbers\")\n",
    "      q=input()\n",
    "      sub(q)\n",
    "      while(q!=\"=\"):\n",
    "          q=input()\n",
    "          sub(q)\n",
    "if(n==3):\n",
    "      prod=1 \n",
    "      print(\"Enter the Numbers\")\n",
    "      q=input()\n",
    "      mul(q)\n",
    "      while(q!=\"=\"):\n",
    "          q=input()\n",
    "          mul(q)\n",
    "if(n==4):\n",
    "      divv=1\n",
    "      print(\"Enter the Numbers\")\n",
    "      q=input()\n",
    "      div(q)\n",
    "      while(q!=\"=\"):\n",
    "          q=input()\n",
    "          div(q)          \n",
    "        "
   ]
  },
  {
   "cell_type": "code",
   "execution_count": 3,
   "id": "edf9b688-17e0-40dc-89b6-4741315f6afe",
   "metadata": {},
   "outputs": [
    {
     "name": "stdout",
     "output_type": "stream",
     "text": [
      "Enter the number to perform operation\n",
      "1 for Addition\n",
      "2 for Substraction\n",
      "3 for Multiplication\n",
      "4 for Division\n"
     ]
    },
    {
     "name": "stdin",
     "output_type": "stream",
     "text": [
      " 2\n"
     ]
    },
    {
     "name": "stdout",
     "output_type": "stream",
     "text": [
      "Enter the Numbers\n"
     ]
    },
    {
     "name": "stdin",
     "output_type": "stream",
     "text": [
      " 12\n",
      " 23\n",
      " 34\n",
      " 45\n",
      " 56\n",
      " 67\n",
      " 78\n",
      " 89\n",
      " 90\n",
      " =\n"
     ]
    },
    {
     "name": "stdout",
     "output_type": "stream",
     "text": [
      "The substraction of given Numbers is : -494\n"
     ]
    }
   ],
   "source": [
    "#calculator\n",
    "def add(a):\n",
    "    global summ\n",
    "    if(a!='='):\n",
    "        a=int(a)\n",
    "        summ=summ+a\n",
    "    else:\n",
    "        print(\"The sum of given Numbers is :\",end=' ')\n",
    "        print(summ)\n",
    "def sub(s):\n",
    "    global diff\n",
    "    if(s!='='):\n",
    "        s=int(s)\n",
    "        diff=diff-s\n",
    "    else:\n",
    "        print(\"The substraction of given Numbers is :\",end=' ')\n",
    "        print(diff)\n",
    "def mul(p):\n",
    "    global prod\n",
    "    if(p!='='):\n",
    "        p=int(p)\n",
    "        prod=prod*p\n",
    "    else:\n",
    "        print(\"The Multiplication of given Numbers is :\",end=' ')\n",
    "        print(prod)\n",
    "def div(d):\n",
    "    global divv\n",
    "    if(d!='='):\n",
    "        d=int(d)\n",
    "        divv=divv/d\n",
    "    else:\n",
    "        print(\"The Division of given Numbers is :\",end=' ')\n",
    "        print(divv)\n",
    "print('''Enter the number to perform operation\n",
    "1 for Addition\n",
    "2 for Substraction\n",
    "3 for Multiplication\n",
    "4 for Division''')\n",
    "n=int(input())\n",
    "if(n==1):\n",
    "      summ=0\n",
    "      print(\"Enter the Numbers\")\n",
    "      q=input()\n",
    "      add(q)\n",
    "      while(q!=\"=\"):\n",
    "          q=input()\n",
    "          add(q)\n",
    "if(n==2):\n",
    "      diff=0\n",
    "      print(\"Enter the Numbers\")\n",
    "      q=input()\n",
    "      sub(q)\n",
    "      while(q!=\"=\"):\n",
    "          q=input()\n",
    "          sub(q)\n",
    "if(n==3):\n",
    "      prod=1 \n",
    "      print(\"Enter the Numbers\")\n",
    "      q=input()\n",
    "      mul(q)\n",
    "      while(q!=\"=\"):\n",
    "          q=input()\n",
    "          mul(q)\n",
    "if(n==4):\n",
    "      divv=1\n",
    "      print(\"Enter the Numbers\")\n",
    "      q=input()\n",
    "      div(q)\n",
    "      while(q!=\"=\"):\n",
    "          q=input()\n",
    "          div(q)          \n",
    "        "
   ]
  },
  {
   "cell_type": "code",
   "execution_count": 4,
   "id": "8de60b93-a19e-43b4-aeef-77c60392f393",
   "metadata": {},
   "outputs": [
    {
     "name": "stdout",
     "output_type": "stream",
     "text": [
      "Enter the number to perform operation\n",
      "1 for Addition\n",
      "2 for Substraction\n",
      "3 for Multiplication\n",
      "4 for Division\n"
     ]
    },
    {
     "name": "stdin",
     "output_type": "stream",
     "text": [
      " 3\n"
     ]
    },
    {
     "name": "stdout",
     "output_type": "stream",
     "text": [
      "Enter the Numbers\n"
     ]
    },
    {
     "name": "stdin",
     "output_type": "stream",
     "text": [
      " 12\n",
      " 23\n",
      " 34\n",
      " 45\n",
      " 56\n",
      " 67\n",
      " 78\n",
      " 89\n",
      " 90\n",
      " =\n"
     ]
    },
    {
     "name": "stdout",
     "output_type": "stream",
     "text": [
      "The Multiplication of given Numbers is : 989898033196800\n"
     ]
    }
   ],
   "source": [
    "#calculator\n",
    "def add(a):\n",
    "    global summ\n",
    "    if(a!='='):\n",
    "        a=int(a)\n",
    "        summ=summ+a\n",
    "    else:\n",
    "        print(\"The sum of given Numbers is :\",end=' ')\n",
    "        print(summ)\n",
    "def sub(s):\n",
    "    global diff\n",
    "    if(s!='='):\n",
    "        s=int(s)\n",
    "        diff=diff-s\n",
    "    else:\n",
    "        print(\"The substraction of given Numbers is :\",end=' ')\n",
    "        print(diff)\n",
    "def mul(p):\n",
    "    global prod\n",
    "    if(p!='='):\n",
    "        p=int(p)\n",
    "        prod=prod*p\n",
    "    else:\n",
    "        print(\"The Multiplication of given Numbers is :\",end=' ')\n",
    "        print(prod)\n",
    "def div(d):\n",
    "    global divv\n",
    "    if(d!='='):\n",
    "        d=int(d)\n",
    "        divv=divv/d\n",
    "    else:\n",
    "        print(\"The Division of given Numbers is :\",end=' ')\n",
    "        print(divv)\n",
    "print('''Enter the number to perform operation\n",
    "1 for Addition\n",
    "2 for Substraction\n",
    "3 for Multiplication\n",
    "4 for Division''')\n",
    "n=int(input())\n",
    "if(n==1):\n",
    "      summ=0\n",
    "      print(\"Enter the Numbers\")\n",
    "      q=input()\n",
    "      add(q)\n",
    "      while(q!=\"=\"):\n",
    "          q=input()\n",
    "          add(q)\n",
    "if(n==2):\n",
    "      diff=0\n",
    "      print(\"Enter the Numbers\")\n",
    "      q=input()\n",
    "      sub(q)\n",
    "      while(q!=\"=\"):\n",
    "          q=input()\n",
    "          sub(q)\n",
    "if(n==3):\n",
    "      prod=1 \n",
    "      print(\"Enter the Numbers\")\n",
    "      q=input()\n",
    "      mul(q)\n",
    "      while(q!=\"=\"):\n",
    "          q=input()\n",
    "          mul(q)\n",
    "if(n==4):\n",
    "      divv=1\n",
    "      print(\"Enter the Numbers\")\n",
    "      q=input()\n",
    "      div(q)\n",
    "      while(q!=\"=\"):\n",
    "          q=input()\n",
    "          div(q)          \n",
    "        "
   ]
  },
  {
   "cell_type": "code",
   "execution_count": 6,
   "id": "d3cda948-73eb-44c0-999b-1760b7f70a03",
   "metadata": {},
   "outputs": [
    {
     "name": "stdout",
     "output_type": "stream",
     "text": [
      "Enter the number to perform operation\n",
      "1 for Addition\n",
      "2 for Substraction\n",
      "3 for Multiplication\n",
      "4 for Division\n"
     ]
    },
    {
     "name": "stdin",
     "output_type": "stream",
     "text": [
      " 4\n"
     ]
    },
    {
     "name": "stdout",
     "output_type": "stream",
     "text": [
      "Enter the Numbers\n"
     ]
    },
    {
     "name": "stdin",
     "output_type": "stream",
     "text": [
      " 1\n",
      " 2\n",
      " 3\n",
      " 4\n",
      " 5\n",
      " 6\n",
      " 7\n",
      " 8\n",
      " 9\n",
      " =\n"
     ]
    },
    {
     "name": "stdout",
     "output_type": "stream",
     "text": [
      "The Division of given Numbers is : 2.7557319223985893e-06\n"
     ]
    }
   ],
   "source": [
    "#calculator\n",
    "def add(a):\n",
    "    global summ\n",
    "    if(a!='='):\n",
    "        a=int(a)\n",
    "        summ=summ+a\n",
    "    else:\n",
    "        print(\"The sum of given Numbers is :\",end=' ')\n",
    "        print(summ)\n",
    "def sub(s):\n",
    "    global diff\n",
    "    if(s!='='):\n",
    "        s=int(s)\n",
    "        diff=diff-s\n",
    "    else:\n",
    "        print(\"The substraction of given Numbers is :\",end=' ')\n",
    "        print(diff)\n",
    "def mul(p):\n",
    "    global prod\n",
    "    if(p!='='):\n",
    "        p=int(p)\n",
    "        prod=prod*p\n",
    "    else:\n",
    "        print(\"The Multiplication of given Numbers is :\",end=' ')\n",
    "        print(prod)\n",
    "def div(d):\n",
    "    global divv\n",
    "    if(d!='='):\n",
    "        d=int(d)\n",
    "        divv=divv/d\n",
    "    else:\n",
    "        print(\"The Division of given Numbers is :\",end=' ')\n",
    "        print(divv)\n",
    "print('''Enter the number to perform operation\n",
    "1 for Addition\n",
    "2 for Substraction\n",
    "3 for Multiplication\n",
    "4 for Division''')\n",
    "n=int(input())\n",
    "if(n==1):\n",
    "      summ=0\n",
    "      print(\"Enter the Numbers\")\n",
    "      q=input()\n",
    "      add(q)\n",
    "      while(q!=\"=\"):\n",
    "          q=input()\n",
    "          add(q)\n",
    "if(n==2):\n",
    "      diff=0\n",
    "      print(\"Enter the Numbers\")\n",
    "      q=input()\n",
    "      sub(q)\n",
    "      while(q!=\"=\"):\n",
    "          q=input()\n",
    "          sub(q)\n",
    "if(n==3):\n",
    "      prod=1 \n",
    "      print(\"Enter the Numbers\")\n",
    "      q=input()\n",
    "      mul(q)\n",
    "      while(q!=\"=\"):\n",
    "          q=input()\n",
    "          mul(q)\n",
    "if(n==4):\n",
    "      divv=1\n",
    "      print(\"Enter the Numbers\")\n",
    "      q=input()\n",
    "      div(q)\n",
    "      while(q!=\"=\"):\n",
    "          q=input()\n",
    "          div(q)          \n",
    "        "
   ]
  },
  {
   "cell_type": "code",
   "execution_count": 3,
   "id": "099e3e3d-34fd-46b8-ac5f-a36fa89a3d3d",
   "metadata": {},
   "outputs": [
    {
     "name": "stdout",
     "output_type": "stream",
     "text": [
      "Enter the Number\n"
     ]
    },
    {
     "name": "stdin",
     "output_type": "stream",
     "text": [
      " end\n"
     ]
    },
    {
     "name": "stdout",
     "output_type": "stream",
     "text": [
      "End of Program\n"
     ]
    },
    {
     "name": "stdin",
     "output_type": "stream",
     "text": [
      " diof\n"
     ]
    },
    {
     "ename": "ValueError",
     "evalue": "invalid literal for int() with base 10: 'diof'",
     "output_type": "error",
     "traceback": [
      "\u001b[1;31m---------------------------------------------------------------------------\u001b[0m",
      "\u001b[1;31mValueError\u001b[0m                                Traceback (most recent call last)",
      "Cell \u001b[1;32mIn[3], line 17\u001b[0m\n\u001b[0;32m     15\u001b[0m \u001b[38;5;28;01mwhile\u001b[39;00m(n\u001b[38;5;241m!=\u001b[39m\u001b[38;5;124m\"\u001b[39m\u001b[38;5;124mend\u001b[39m\u001b[38;5;124m\"\u001b[39m \u001b[38;5;129;01mor\u001b[39;00m n\u001b[38;5;241m!=\u001b[39m\u001b[38;5;124m\"\u001b[39m\u001b[38;5;124mEnd\u001b[39m\u001b[38;5;124m\"\u001b[39m):\n\u001b[0;32m     16\u001b[0m     n\u001b[38;5;241m=\u001b[39m\u001b[38;5;28minput\u001b[39m()\n\u001b[1;32m---> 17\u001b[0m     \u001b[43mcheck\u001b[49m\u001b[43m(\u001b[49m\u001b[43mn\u001b[49m\u001b[43m)\u001b[49m\n",
      "Cell \u001b[1;32mIn[3], line 7\u001b[0m, in \u001b[0;36mcheck\u001b[1;34m(q)\u001b[0m\n\u001b[0;32m      5\u001b[0m     \u001b[38;5;28mprint\u001b[39m(\u001b[38;5;124m\"\u001b[39m\u001b[38;5;124mEnd of Program\u001b[39m\u001b[38;5;124m\"\u001b[39m)\n\u001b[0;32m      6\u001b[0m \u001b[38;5;28;01melse\u001b[39;00m:\n\u001b[1;32m----> 7\u001b[0m     q\u001b[38;5;241m=\u001b[39m\u001b[38;5;28;43mint\u001b[39;49m\u001b[43m(\u001b[49m\u001b[43mq\u001b[49m\u001b[43m)\u001b[49m\n\u001b[0;32m      8\u001b[0m     \u001b[38;5;28;01mif\u001b[39;00m(q\u001b[38;5;241m%\u001b[39m\u001b[38;5;241m2\u001b[39m\u001b[38;5;241m==\u001b[39m\u001b[38;5;241m0\u001b[39m):\n\u001b[0;32m      9\u001b[0m         \u001b[38;5;28mprint\u001b[39m(q,\u001b[38;5;124m\"\u001b[39m\u001b[38;5;124mis an even number\u001b[39m\u001b[38;5;124m\"\u001b[39m)\n",
      "\u001b[1;31mValueError\u001b[0m: invalid literal for int() with base 10: 'diof'"
     ]
    }
   ],
   "source": [
    "def check(q):\n",
    "        if(q==\"0\"):\n",
    "            print(\"Neither Odd nor Even\")\n",
    "        elif(q==\"End\" or q==\"end\"):\n",
    "            print(\"End of Program\")\n",
    "        else:\n",
    "            q=int(q)\n",
    "            if(q%2==0):\n",
    "                print(q,\"is an even number\")\n",
    "            else:\n",
    "                print(q,\"is an odd number\")\n",
    "print(\"Enter the Number\")\n",
    "n=input()\n",
    "check(n)\n",
    "while(n!=\"end\" or n!=\"End\"):\n",
    "    n=input()\n",
    "    check(n)"
   ]
  },
  {
   "cell_type": "code",
   "execution_count": 1,
   "id": "cd0d0cce-123b-401c-9ccd-fc5853b93dbe",
   "metadata": {},
   "outputs": [],
   "source": [
    "#keywords arguments and positional arguments when used together, \n",
    "#-positional should be kept first,then the keywords arguments"
   ]
  },
  {
   "cell_type": "code",
   "execution_count": null,
   "id": "c6d0ab4d-66d7-48a6-9b8c-f3d66fdbe92f",
   "metadata": {},
   "outputs": [],
   "source": [
    "#function ke andar declared kiya gaya variable is local variable and it has local scope, \n",
    "#-that is it's scope is within the block in which it is declared\n",
    "#and the otheris global scope\n"
   ]
  },
  {
   "cell_type": "code",
   "execution_count": 4,
   "id": "8228e809-21d0-46af-a62f-a370aeb5d8f8",
   "metadata": {},
   "outputs": [
    {
     "name": "stdout",
     "output_type": "stream",
     "text": [
      "10\n",
      "22\n",
      "None\n",
      "10\n"
     ]
    },
    {
     "ename": "NameError",
     "evalue": "name 'b' is not defined",
     "output_type": "error",
     "traceback": [
      "\u001b[1;31m---------------------------------------------------------------------------\u001b[0m",
      "\u001b[1;31mNameError\u001b[0m                                 Traceback (most recent call last)",
      "Cell \u001b[1;32mIn[4], line 10\u001b[0m\n\u001b[0;32m      8\u001b[0m     \u001b[38;5;28mprint\u001b[39m(b)\n\u001b[0;32m      9\u001b[0m \u001b[38;5;28mprint\u001b[39m(f1())\n\u001b[1;32m---> 10\u001b[0m \u001b[38;5;28mprint\u001b[39m(\u001b[43mf2\u001b[49m\u001b[43m(\u001b[49m\u001b[43m)\u001b[49m)\n\u001b[0;32m     11\u001b[0m \u001b[38;5;28mprint\u001b[39m(a)\n\u001b[0;32m     12\u001b[0m \u001b[38;5;28mprint\u001b[39m(b)\n",
      "Cell \u001b[1;32mIn[4], line 8\u001b[0m, in \u001b[0;36mf2\u001b[1;34m()\u001b[0m\n\u001b[0;32m      6\u001b[0m \u001b[38;5;28;01mdef\u001b[39;00m\u001b[38;5;250m \u001b[39m\u001b[38;5;21mf2\u001b[39m():\n\u001b[0;32m      7\u001b[0m     \u001b[38;5;28mprint\u001b[39m(a)\n\u001b[1;32m----> 8\u001b[0m     \u001b[38;5;28mprint\u001b[39m(\u001b[43mb\u001b[49m)\n",
      "\u001b[1;31mNameError\u001b[0m: name 'b' is not defined"
     ]
    }
   ],
   "source": [
    "a=10\n",
    "def f1():\n",
    "    print(a)\n",
    "    b=22\n",
    "    print(b)\n",
    "def f2():\n",
    "    print(a)\n",
    "    print(b)\n",
    "print(f1())\n",
    "print(f2())\n",
    "print(a)\n",
    "print(b)"
   ]
  },
  {
   "cell_type": "code",
   "execution_count": 5,
   "id": "6413ea5e-0ee5-400b-95ae-68c24fed5ab3",
   "metadata": {},
   "outputs": [
    {
     "name": "stdout",
     "output_type": "stream",
     "text": [
      "10\n"
     ]
    },
    {
     "ename": "NameError",
     "evalue": "name 'b' is not defined",
     "output_type": "error",
     "traceback": [
      "\u001b[1;31m---------------------------------------------------------------------------\u001b[0m",
      "\u001b[1;31mNameError\u001b[0m                                 Traceback (most recent call last)",
      "Cell \u001b[1;32mIn[5], line 9\u001b[0m\n\u001b[0;32m      7\u001b[0m     \u001b[38;5;28mprint\u001b[39m(a)\n\u001b[0;32m      8\u001b[0m \u001b[38;5;28mprint\u001b[39m(a)\n\u001b[1;32m----> 9\u001b[0m \u001b[38;5;28mprint\u001b[39m(\u001b[43mb\u001b[49m)\n",
      "\u001b[1;31mNameError\u001b[0m: name 'b' is not defined"
     ]
    }
   ],
   "source": [
    "a=10\n",
    "def f1():\n",
    "    print(a)\n",
    "    b=22\n",
    "    print(b)\n",
    "def f2():\n",
    "    print(a)\n",
    "print(a)\n",
    "print(b)\n"
   ]
  },
  {
   "cell_type": "code",
   "execution_count": 6,
   "id": "e42cebb4-26ab-40f0-968b-d6bdf3bb7a1a",
   "metadata": {},
   "outputs": [
    {
     "name": "stdout",
     "output_type": "stream",
     "text": [
      "10\n",
      "22\n",
      "None\n",
      "10\n",
      "None\n"
     ]
    }
   ],
   "source": [
    "a=10\n",
    "def f1():\n",
    "    print(a)\n",
    "    b=22\n",
    "    print(b)\n",
    "def f2():\n",
    "    print(a)\n",
    "print(f1())\n",
    "print(f2())\n"
   ]
  },
  {
   "cell_type": "code",
   "execution_count": null,
   "id": "4562ba02-8faf-4a45-b38e-a3ac3a7546e1",
   "metadata": {},
   "outputs": [],
   "source": [
    "#In Python, id() function is a built-in function that returns the unique identifier of an object. \n",
    "#The identifier is an integer, which represents the memory address of the object. \n",
    "#The id() function is commonly used to check if two variables or objects refer to the same memory location."
   ]
  },
  {
   "cell_type": "code",
   "execution_count": 9,
   "id": "b6ef4712-1b98-4f70-84ea-5f7bc4cb013e",
   "metadata": {},
   "outputs": [
    {
     "name": "stdout",
     "output_type": "stream",
     "text": [
      "140721955997032\n",
      "140721955997192\n",
      "20\n",
      "None\n",
      "15\n"
     ]
    }
   ],
   "source": [
    "a=15\n",
    "print(id(a))\n",
    "def f1():\n",
    "    a=20\n",
    "    print(id(a))\n",
    "    print(a)\n",
    "print(f1())\n",
    "print(a)"
   ]
  },
  {
   "cell_type": "code",
   "execution_count": 17,
   "id": "db70e8cc-71c9-4975-b31e-5e71d3cf3736",
   "metadata": {},
   "outputs": [
    {
     "name": "stdout",
     "output_type": "stream",
     "text": [
      "140721955997032\n",
      "15\n",
      "15\n"
     ]
    }
   ],
   "source": [
    "#sirf function ki returned value print karani hai toh sirf f()\n",
    "a=15\n",
    "print(id(a))\n",
    "def f1():\n",
    "    global a\n",
    "    print(a)\n",
    "f1()\n",
    "print(a)"
   ]
  },
  {
   "cell_type": "code",
   "execution_count": null,
   "id": "9e97b928-894d-4ae4-9536-5fb3372139c5",
   "metadata": {},
   "outputs": [],
   "source": [
    "#local variable has priority over global variable, when their names are same."
   ]
  },
  {
   "cell_type": "code",
   "execution_count": 20,
   "id": "667b3517-97a0-4def-9566-d8878f0b72fe",
   "metadata": {},
   "outputs": [
    {
     "name": "stdout",
     "output_type": "stream",
     "text": [
      "20\n",
      "15\n"
     ]
    }
   ],
   "source": [
    "a=15\n",
    "def f1():\n",
    "    a=20\n",
    "    print(a)\n",
    "    print(globals()['a'])\n",
    "f1()"
   ]
  },
  {
   "cell_type": "code",
   "execution_count": 27,
   "id": "b5546f75-d089-4593-b0a7-de6e2d52ada2",
   "metadata": {},
   "outputs": [
    {
     "name": "stdout",
     "output_type": "stream",
     "text": [
      "20\n",
      "30\n"
     ]
    }
   ],
   "source": [
    "q=30\n",
    "def f1():\n",
    "    global q\n",
    "    q=20\n",
    "    print(q)\n",
    "def f2():\n",
    "    x=q+10\n",
    "    print(x)\n",
    "f1()\n",
    "f2()"
   ]
  },
  {
   "cell_type": "code",
   "execution_count": 28,
   "id": "fabefd71-e2ae-4234-9ce2-ca684d13668a",
   "metadata": {},
   "outputs": [
    {
     "name": "stdout",
     "output_type": "stream",
     "text": [
      "20\n",
      "30\n"
     ]
    }
   ],
   "source": [
    "global q\n",
    "q=30\n",
    "def f1():\n",
    "    global q\n",
    "    q=20\n",
    "    print(q)\n",
    "def f2():\n",
    "    x=q+10\n",
    "    print(x)\n",
    "f1()\n",
    "f2()\n",
    "#q!=30 as local variables have priority over global variable"
   ]
  },
  {
   "cell_type": "code",
   "execution_count": 29,
   "id": "ca9cd0d4-8284-4442-ad94-de17e7a1e0c0",
   "metadata": {},
   "outputs": [
    {
     "name": "stdout",
     "output_type": "stream",
     "text": [
      "20\n",
      "30\n"
     ]
    }
   ],
   "source": [
    "global q\n",
    "q=30\n",
    "def f1():\n",
    "    global q\n",
    "    q=20\n",
    "    print(q)\n",
    "def f2():\n",
    "    x=(globals()['q'])+10\n",
    "    print(x)\n",
    "f1()\n",
    "f2()\n",
    "#abhi bhi q 30 nahi hoga coz f1() function me global is still there"
   ]
  },
  {
   "cell_type": "code",
   "execution_count": 30,
   "id": "2aeda26e-85a1-4ae4-9a23-64bb17c43de5",
   "metadata": {},
   "outputs": [
    {
     "name": "stdout",
     "output_type": "stream",
     "text": [
      "20\n",
      "40\n"
     ]
    }
   ],
   "source": [
    "global q\n",
    "q=30\n",
    "def f1():\n",
    "    q=20\n",
    "    print(q)\n",
    "def f2():\n",
    "    x=(globals()['q'])+10\n",
    "    print(x)\n",
    "f1()\n",
    "f2()"
   ]
  },
  {
   "cell_type": "code",
   "execution_count": 31,
   "id": "18658131-8abe-4723-b7fd-cfb0dc769d52",
   "metadata": {},
   "outputs": [
    {
     "name": "stdout",
     "output_type": "stream",
     "text": [
      "20\n",
      "10\n"
     ]
    }
   ],
   "source": [
    "def f1():\n",
    "    p=20\n",
    "    def f2():\n",
    "        p=10\n",
    "        print(p)\n",
    "    print(p)\n",
    "    f2()\n",
    "f1()"
   ]
  },
  {
   "cell_type": "code",
   "execution_count": 31,
   "id": "0f01d9c0-f676-45b7-9ff6-e6de6e5a8495",
   "metadata": {},
   "outputs": [
    {
     "name": "stdout",
     "output_type": "stream",
     "text": [
      "20\n",
      "10\n"
     ]
    }
   ],
   "source": [
    "p=35 #global variable\n",
    "def f1():\n",
    "    p=20 #local variable\n",
    "    def f2():\n",
    "        p=10\n",
    "        print(p)\n",
    "    print(p)\n",
    "    f2()\n",
    "f1()"
   ]
  },
  {
   "cell_type": "code",
   "execution_count": null,
   "id": "f26fb1bb-9564-4007-b3ab-cc437704402a",
   "metadata": {},
   "outputs": [],
   "source": [
    "s_g=35\n",
    "def demo_outer"
   ]
  },
  {
   "cell_type": "code",
   "execution_count": 32,
   "id": "bd28ed5c-98e5-44f4-af4f-0b33f6dc68d9",
   "metadata": {},
   "outputs": [
    {
     "name": "stdin",
     "output_type": "stream",
     "text": [
      "Enter a positive integer 5\n"
     ]
    },
    {
     "name": "stdout",
     "output_type": "stream",
     "text": [
      "120\n"
     ]
    }
   ],
   "source": [
    "#factorial of a number, ma'am's method\n",
    "def fact(num):\n",
    "    if(num==0):\n",
    "        return 1\n",
    "    else:\n",
    "        return num*fact(num-1)\n",
    "num=int(input(\"Enter a positive integer\"))\n",
    "print(fact(num))"
   ]
  },
  {
   "cell_type": "code",
   "execution_count": null,
   "id": "31254d16-59d0-44a8-ad46-83bf06f0ba48",
   "metadata": {},
   "outputs": [],
   "source": [
    "#gcd of two numbers using recursion\n"
   ]
  },
  {
   "cell_type": "code",
   "execution_count": 60,
   "id": "ca40d786-fb17-44f1-a8c8-896782177fa9",
   "metadata": {},
   "outputs": [
    {
     "name": "stdin",
     "output_type": "stream",
     "text": [
      "enter a number 1 12\n",
      "enter a number 2 6\n"
     ]
    },
    {
     "name": "stdout",
     "output_type": "stream",
     "text": [
      "2\n"
     ]
    }
   ],
   "source": [
    "a=int(input(\"enter a number 1\"))\n",
    "b=int(input(\"enter a number 2\"))\n",
    "for i in range(1,b):\n",
    "    if(a%i==0 and b%i==0):\n",
    "        break\n",
    "print(i)"
   ]
  },
  {
   "cell_type": "code",
   "execution_count": 18,
   "id": "22394204-67ca-4da1-a0d6-4a83bcb19c61",
   "metadata": {},
   "outputs": [
    {
     "name": "stdout",
     "output_type": "stream",
     "text": [
      "88\n",
      "69\n"
     ]
    }
   ],
   "source": [
    "#WAPP to find the sum of three numbers using lambda functions\n",
    "x=lambda p,q,r:p+q+r\n",
    "print(x(20,30,38))\n",
    "print(x(12,23,34))"
   ]
  },
  {
   "cell_type": "code",
   "execution_count": 19,
   "id": "d556c34d-f132-438e-9c9b-01e4ac1290a0",
   "metadata": {},
   "outputs": [
    {
     "name": "stdout",
     "output_type": "stream",
     "text": [
      "Welcome to Wakanda\n",
      "None\n",
      "<class 'NoneType'>\n"
     ]
    }
   ],
   "source": [
    "def f1():\n",
    "    print(\"Welcome to Wakanda\")\n",
    "x=f1()\n",
    "print(x)\n",
    "print(type(x))"
   ]
  },
  {
   "cell_type": "code",
   "execution_count": 20,
   "id": "cca48581-5964-4b84-a23d-7ac8c3af0294",
   "metadata": {},
   "outputs": [
    {
     "name": "stdout",
     "output_type": "stream",
     "text": [
      "Welcome to Wakanda\n",
      "<class 'str'>\n"
     ]
    }
   ],
   "source": [
    "def f1():\n",
    "    return \"Welcome to Wakanda\"\n",
    "x=f1()\n",
    "print(x)\n",
    "print(type(x))"
   ]
  },
  {
   "cell_type": "code",
   "execution_count": 21,
   "id": "4f32d8fd-74e5-4036-b14b-26b68083c020",
   "metadata": {},
   "outputs": [
    {
     "name": "stdout",
     "output_type": "stream",
     "text": [
      "<filter object at 0x0000019D0AB6CAF0>\n",
      "<class 'list'>\n"
     ]
    }
   ],
   "source": [
    "#WAPP to filter numbers from the list which is divisible by 5 using fter function\n",
    "def div(n):\n",
    "    if(n%5==0):\n",
    "        return n\n",
    "l=[2,3,4,5,6,7,8,9]\n",
    "print(filter(div,l))\n",
    "print(type(l))"
   ]
  },
  {
   "cell_type": "code",
   "execution_count": 22,
   "id": "4dd46006-3ebb-4e4f-a3cc-ae2240826a14",
   "metadata": {},
   "outputs": [],
   "source": [
    "#WAPP to list and return the product of 2 lists using math function"
   ]
  },
  {
   "cell_type": "code",
   "execution_count": null,
   "id": "9c20bf76-5c08-4a1f-a2d9-5c6e66ff8973",
   "metadata": {},
   "outputs": [],
   "source": [
    "#WAPP to capitalize the first letter of each woed given in a string\n",
    "\n",
    "s=input()\n",
    "s=s.capitalize()\n",
    "print(s)"
   ]
  },
  {
   "cell_type": "code",
   "execution_count": 27,
   "id": "335b080c-6361-4972-a400-1f7241be07c7",
   "metadata": {},
   "outputs": [
    {
     "ename": "_IncompleteInputError",
     "evalue": "incomplete input (3327141761.py, line 2)",
     "output_type": "error",
     "traceback": [
      "\u001b[1;36m  Cell \u001b[1;32mIn[27], line 2\u001b[1;36m\u001b[0m\n\u001b[1;33m    smallest=reduce(lambda x,y:x if x<y else\u001b[0m\n\u001b[1;37m                                             ^\u001b[0m\n\u001b[1;31m_IncompleteInputError\u001b[0m\u001b[1;31m:\u001b[0m incomplete input\n"
     ]
    }
   ],
   "source": [
    "l=[12,3,2,5,47,79,8]\n",
    "smallest=reduce(lambda x,y:x if x<y else "
   ]
  },
  {
   "cell_type": "code",
   "execution_count": 32,
   "id": "129fff31-a6d9-4db8-88fc-508aac315225",
   "metadata": {},
   "outputs": [
    {
     "name": "stdout",
     "output_type": "stream",
     "text": [
      "210\n",
      "<class 'int'>\n"
     ]
    }
   ],
   "source": [
    "#WAPP to find the sum of first 20 natural numbers using \n",
    "a=1\n",
    "s=0\n",
    "while(a<=20):\n",
    "    s=s+a\n",
    "    a=a+1\n",
    "print(s)\n",
    "print(type(s)) "
   ]
  },
  {
   "cell_type": "code",
   "execution_count": 7,
   "id": "b2441b21-300b-4502-9ab3-823a17ca58ee",
   "metadata": {},
   "outputs": [],
   "source": [
    "def outer_func(txt):\n",
    "    def innrer_func():\n",
    "        print(txt)\n",
    "        inner_func()\n",
    "outer_func(\"Welcome to NIET\")"
   ]
  },
  {
   "cell_type": "code",
   "execution_count": 8,
   "id": "eaf9aa70-efb3-4c41-9011-0f15e0a9b25c",
   "metadata": {},
   "outputs": [
    {
     "ename": "NameError",
     "evalue": "name 'inner_func' is not defined",
     "output_type": "error",
     "traceback": [
      "\u001b[0;31m---------------------------------------------------------------------------\u001b[0m",
      "\u001b[0;31mNameError\u001b[0m                                 Traceback (most recent call last)",
      "Cell \u001b[0;32mIn[8], line 6\u001b[0m\n\u001b[1;32m      4\u001b[0m     \u001b[38;5;66;03m#inner_func()\u001b[39;00m\n\u001b[1;32m      5\u001b[0m     \u001b[38;5;28;01mreturn\u001b[39;00m inner_func\n\u001b[0;32m----> 6\u001b[0m x\u001b[38;5;241m=\u001b[39m\u001b[43mouter_func\u001b[49m\u001b[43m(\u001b[49m\u001b[38;5;124;43m\"\u001b[39;49m\u001b[38;5;124;43mWelcome to NIET\u001b[39;49m\u001b[38;5;124;43m\"\u001b[39;49m\u001b[43m)\u001b[49m\n\u001b[1;32m      7\u001b[0m \u001b[38;5;66;03m#inner_func()\u001b[39;00m\n\u001b[1;32m      8\u001b[0m x()\n",
      "Cell \u001b[0;32mIn[8], line 5\u001b[0m, in \u001b[0;36mouter_func\u001b[0;34m(txt)\u001b[0m\n\u001b[1;32m      3\u001b[0m     \u001b[38;5;28mprint\u001b[39m(txt)\n\u001b[1;32m      4\u001b[0m \u001b[38;5;66;03m#inner_func()\u001b[39;00m\n\u001b[0;32m----> 5\u001b[0m \u001b[38;5;28;01mreturn\u001b[39;00m \u001b[43minner_func\u001b[49m\n",
      "\u001b[0;31mNameError\u001b[0m: name 'inner_func' is not defined"
     ]
    }
   ],
   "source": [
    "def outer_func(txt):\n",
    "    def innrer_func():\n",
    "        print(txt)\n",
    "    #inner_func()\n",
    "    return inner_func\n",
    "x=outer_func(\"Welcome to NIET\")\n",
    "#inner  _func()\n",
    "x()"
   ]
  },
  {
   "cell_type": "code",
   "execution_count": 10,
   "id": "8107f326-f339-4e06-9bc1-2e1276d11b47",
   "metadata": {},
   "outputs": [
    {
     "ename": "_IncompleteInputError",
     "evalue": "incomplete input (1767166357.py, line 9)",
     "output_type": "error",
     "traceback": [
      "\u001b[0;36m  Cell \u001b[0;32mIn[10], line 9\u001b[0;36m\u001b[0m\n\u001b[0;31m    def say_hi():\u001b[0m\n\u001b[0m                 ^\u001b[0m\n\u001b[0;31m_IncompleteInputError\u001b[0m\u001b[0;31m:\u001b[0m incomplete input\n"
     ]
    }
   ],
   "source": [
    "def uppercase_decorator(function):\n",
    "    def wrapper():\n",
    "        func=function()\n",
    "        a=func.upper()\n",
    "        return a\n",
    "    return wrapper\n",
    "@uppercase_decorator\n",
    "def say_hi():\n",
    "    return \"hello there\"\n",
    "print(say_hi())\n",
    "def split_string(function):\n",
    "    def wrapper():\n",
    "        func=function()\n",
    "        a=func.split()\n",
    "        return a\n",
    "    return wrapper\n",
    "@split_string\n",
    "@uppercase_decorator\n",
    "def say_hi():\n",
    "    return \"hello\"\n"
   ]
  },
  {
   "cell_type": "raw",
   "id": "6e9a6eee-7949-499d-8551-8d488ea69e6b",
   "metadata": {},
   "source": []
  },
  {
   "cell_type": "code",
   "execution_count": null,
   "id": "5460122a-b319-46b3-a1c9-e4afc148cc51",
   "metadata": {},
   "outputs": [],
   "source": []
  },
  {
   "cell_type": "code",
   "execution_count": 11,
   "id": "d600e285-29b5-44fa-a121-90349d37dbd0",
   "metadata": {},
   "outputs": [],
   "source": [
    "\n",
    "    \n",
    "\n",
    "\n",
    "\n",
    "\n",
    "\n",
    "\n",
    "\n",
    "\n",
    "\n",
    "\n",
    "\n",
    "\n",
    "\n",
    "\n",
    "\n",
    "\n",
    "\n",
    "\n",
    "\n",
    "\n",
    "\n",
    "\n",
    "\n",
    "\n",
    "\n",
    "\n",
    "\n",
    "\n",
    "\n"
   ]
  },
  {
   "cell_type": "code",
   "execution_count": 12,
   "id": "56d4d144-160d-427d-84b0-11f10279e3c6",
   "metadata": {},
   "outputs": [
    {
     "ename": "_IncompleteInputError",
     "evalue": "incomplete input (3265744158.py, line 1)",
     "output_type": "error",
     "traceback": [
      "\u001b[0;36m  Cell \u001b[0;32mIn[12], line 1\u001b[0;36m\u001b[0m\n\u001b[0;31m    def counter():\u001b[0m\n\u001b[0m                  ^\u001b[0m\n\u001b[0;31m_IncompleteInputError\u001b[0m\u001b[0;31m:\u001b[0m incomplete input\n"
     ]
    }
   ],
   "source": [
    "def counter():\n",
    "    i=1\n",
    "    while(i<=5):\n",
    "        yoeld 1\n",
    "        i=i+ "
   ]
  },
  {
   "cell_type": "code",
   "execution_count": null,
   "id": "e57a9da5-c482-433b-a3b5-e6f09c27a3e9",
   "metadata": {},
   "outputs": [],
   "source": []
  },
  {
   "cell_type": "code",
   "execution_count": null,
   "id": "54f4731e-dbcb-481b-abc1-051333850610",
   "metadata": {},
   "outputs": [],
   "source": []
  },
  {
   "cell_type": "code",
   "execution_count": null,
   "id": "d873342a-7f0a-49c4-b381-c6a82c8468eb",
   "metadata": {},
   "outputs": [],
   "source": []
  },
  {
   "cell_type": "code",
   "execution_count": null,
   "id": "3fced0a9-4d5e-420a-a7ab-888349d88253",
   "metadata": {},
   "outputs": [],
   "source": []
  },
  {
   "cell_type": "code",
   "execution_count": null,
   "id": "e2d1fb14-22ad-4ca5-80f8-156e5bc9deba",
   "metadata": {},
   "outputs": [],
   "source": []
  },
  {
   "cell_type": "code",
   "execution_count": null,
   "id": "080b5495-4e31-45b5-8594-8e9413955e01",
   "metadata": {},
   "outputs": [],
   "source": []
  },
  {
   "cell_type": "code",
   "execution_count": null,
   "id": "0725f3e5-ec58-4943-937e-44b8566c908d",
   "metadata": {},
   "outputs": [],
   "source": []
  },
  {
   "cell_type": "code",
   "execution_count": null,
   "id": "7cc0ea07-b349-4db0-b9c0-a586b689f133",
   "metadata": {},
   "outputs": [],
   "source": []
  },
  {
   "cell_type": "code",
   "execution_count": null,
   "id": "086a22fb-be7c-42c4-b45b-7b0903e28a1e",
   "metadata": {},
   "outputs": [],
   "source": []
  },
  {
   "cell_type": "code",
   "execution_count": null,
   "id": "cb69c99c-4f18-4fa4-925c-f55a242a1c91",
   "metadata": {},
   "outputs": [],
   "source": []
  }
 ],
 "metadata": {
  "kernelspec": {
   "display_name": "Python 3 (ipykernel)",
   "language": "python",
   "name": "python3"
  },
  "language_info": {
   "codemirror_mode": {
    "name": "ipython",
    "version": 3
   },
   "file_extension": ".py",
   "mimetype": "text/x-python",
   "name": "python",
   "nbconvert_exporter": "python",
   "pygments_lexer": "ipython3",
   "version": "3.13.1"
  }
 },
 "nbformat": 4,
 "nbformat_minor": 5
}
